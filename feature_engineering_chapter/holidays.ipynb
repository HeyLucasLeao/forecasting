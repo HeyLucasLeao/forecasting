{
  "cells": [
    {
      "cell_type": "code",
      "execution_count": null,
      "metadata": {
        "colab": {
          "base_uri": "https://localhost:8080/"
        },
        "id": "KpyMzeQplFXU",
        "outputId": "7a01429b-20c1-4ee1-abde-5c41706f78a3"
      },
      "outputs": [],
      "source": [
        "import pandas as pd\n",
        "from datetime import date\n",
        "import holidays"
      ]
    },
    {
      "cell_type": "code",
      "execution_count": null,
      "metadata": {
        "colab": {
          "base_uri": "https://localhost:8080/",
          "height": 35
        },
        "id": "lHlsEUnLlKSC",
        "outputId": "adf582d8-b5d4-47ac-df14-f99db9a42451"
      },
      "outputs": [],
      "source": [
        "\n",
        "\n",
        "# U.S. public holidays\n",
        "brazil_holidays = holidays.country_holidays(\"Brazil\")  # same, using string\n",
        "\n",
        "# NYSE financial holidays\n",
        "bvmf_holidays = holidays.financial_holidays('BVMF')  # same, using string"
      ]
    },
    {
      "cell_type": "code",
      "execution_count": null,
      "metadata": {},
      "outputs": [
        {
          "data": {
            "text/plain": [
              "{datetime.date(2015, 1, 1): 'Universal Fraternization Day', datetime.date(2015, 2, 16): 'Carnival', datetime.date(2015, 2, 17): 'Carnival', datetime.date(2015, 4, 3): 'Good Friday', datetime.date(2015, 4, 21): \"Tiradentes' Day\", datetime.date(2015, 5, 1): \"Worker's Day\", datetime.date(2015, 6, 4): 'Corpus Christi', datetime.date(2015, 9, 7): 'Independence Day', datetime.date(2015, 10, 12): 'Our Lady of Aparecida', datetime.date(2015, 11, 2): \"All Souls' Day\", datetime.date(2015, 11, 15): 'Republic Proclamation Day', datetime.date(2015, 12, 25): 'Christmas Day'}"
            ]
          },
          "execution_count": 28,
          "metadata": {},
          "output_type": "execute_result"
        }
      ],
      "source": [
        "bvmf_holidays"
      ]
    }
  ],
  "metadata": {
    "colab": {
      "provenance": []
    },
    "kernelspec": {
      "display_name": "forecasting",
      "language": "python",
      "name": "python3"
    },
    "language_info": {
      "codemirror_mode": {
        "name": "ipython",
        "version": 3
      },
      "file_extension": ".py",
      "mimetype": "text/x-python",
      "name": "python",
      "nbconvert_exporter": "python",
      "pygments_lexer": "ipython3",
      "version": "3.10.18"
    }
  },
  "nbformat": 4,
  "nbformat_minor": 0
}
