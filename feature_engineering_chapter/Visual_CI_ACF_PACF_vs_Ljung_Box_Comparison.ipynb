{
  "cells": [
    {
      "cell_type": "code",
      "execution_count": 2,
      "metadata": {
        "id": "U3f44xOyapyL"
      },
      "outputs": [],
      "source": [
        "import numpy as np\n",
        "\n",
        "import plotly.graph_objects as go\n",
        "from plotly.subplots import make_subplots\n",
        "\n",
        "from statsmodels.stats.diagnostic import acorr_ljungbox\n",
        "from statsmodels.tsa.stattools import acf\n",
        "\n",
        "from scipy.stats import norm, chi2\n",
        "\n",
        "from statsmodels.tsa.arima_process import arma_generate_sample # Import the necessary function"
      ]
    },
    {
      "cell_type": "code",
      "execution_count": 3,
      "metadata": {
        "id": "ynzUV0JBa1Ts"
      },
      "outputs": [],
      "source": [
        "# 1. Generate a synthetic time series using arma_generate_sample\n",
        "np.random.seed(45) # Same seed for consistent example\n",
        "n_samples = 200\n",
        "\n",
        "# AR(1) coefficient\n",
        "ar_coefficient = 0.25\n",
        "\n",
        "# For yt = ar_coefficient * y(t-1) + epsilon_t, ar_params should be [1, -ar_coefficient]\n",
        "ar_params = np.array([1, -ar_coefficient])\n",
        "ma_params = np.array([1]) # No MA component for a pure AR(1) process\n",
        "\n",
        "# Generate the time series\n",
        "time_series = arma_generate_sample(ar_params, ma_params, n_samples)"
      ]
    },
    {
      "cell_type": "code",
      "execution_count": 4,
      "metadata": {
        "id": "IN1XqO0fbYBh"
      },
      "outputs": [],
      "source": [
        "# 2. Calculate the Autocorrelation Function (ACF) values and confidence intervals\n",
        "nlags = 20 # Number of lags to consider\n",
        "acf_values = acf(time_series, nlags=nlags, fft=False)\n",
        "\n",
        "# Approximate 95% confidence interval for ACF (for white noise)\n",
        "alpha_ci = 0.05\n",
        "conf_int_bound = norm.ppf(1 - alpha_ci / 2) / np.sqrt(len(time_series))"
      ]
    },
    {
      "cell_type": "code",
      "execution_count": 5,
      "metadata": {
        "id": "i5yykgt-a37v"
      },
      "outputs": [],
      "source": [
        "# 3. Perform the Ljung-Box test\n",
        "ljung_box_results = acorr_ljungbox(time_series, lags=np.arange(1, nlags + 1), return_df=True)\n",
        "p_values_lb = ljung_box_results['lb_pvalue']\n",
        "lb_stats = ljung_box_results['lb_stat'] # Ljung-Box test statistic\n",
        "lags_lb = ljung_box_results.index\n",
        "\n",
        "\n",
        "# Calculate chi-squared critical values for each lag\n",
        "alpha_lb = 0.05 # Significance level for Ljung-Box test\n",
        "critical_values_chi2 = [chi2.ppf(1 - alpha_lb, df=lag) for lag in lags_lb]"
      ]
    },
    {
      "cell_type": "code",
      "execution_count": 6,
      "metadata": {
        "colab": {
          "base_uri": "https://localhost:8080/",
          "height": 967
        },
        "id": "yf-BjVEuca9_",
        "outputId": "2a906d33-c08e-47c0-fe11-bf12e21de4c4"
      },
      "outputs": [
        {
          "data": {
            "application/vnd.plotly.v1+json": {
              "config": {
                "plotlyServerURL": "https://plot.ly"
              },
              "data": [
                {
                  "line": {
                    "color": "lightsteelblue"
                  },
                  "mode": "lines",
                  "name": "Simulated Series",
                  "showlegend": true,
                  "type": "scatter",
                  "xaxis": "x",
                  "y": {
                    "bdata": "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",
                    "dtype": "f8"
                  },
                  "yaxis": "y"
                },
                {
                  "marker": {
                    "color": "royalblue"
                  },
                  "name": "ACF (Magnitude)",
                  "showlegend": true,
                  "type": "bar",
                  "x": {
                    "bdata": "AQIDBAUGBwgJCgsMDQ4PEBESExQ=",
                    "dtype": "i1"
                  },
                  "xaxis": "x2",
                  "y": {
                    "bdata": "TlRvkmpvyj/ZT9N76MS3P3Bp6raJBMA/5/GyYT3Cqb+zE6y1PFuCvwvt7L9+tbG/1jJnIINcrT/SLxbS50q7PzoC5bUVpSQ/hXtr8d2Vkj8xa1e0g5mvP3dgSyu1MKm/RL1JQikxkL/YEXmPb0iyP8rIT8Bjs7I/ayDitmFhrD8pBQc7zaSyPyUkBDJS9a2/JHVguc0diD/lC0xq+b61vw==",
                    "dtype": "f8"
                  },
                  "yaxis": "y2"
                },
                {
                  "line": {
                    "color": "crimson",
                    "dash": "dash",
                    "width": 1.5
                  },
                  "mode": "lines",
                  "name": "ACF 95% Confidence Interval",
                  "showlegend": true,
                  "type": "scatter",
                  "x": [
                    null
                  ],
                  "xaxis": "x2",
                  "y": [
                    null
                  ],
                  "yaxis": "y2"
                },
                {
                  "hoverinfo": "x+y",
                  "hovertemplate": "<b>Lag:</b> %{x}<br><b>Ljung-Box P-value:</b> %{y:.3f}<extra></extra>",
                  "line": {
                    "color": "darkgreen",
                    "dash": "dot",
                    "width": 1
                  },
                  "marker": {
                    "color": "darkgreen",
                    "size": 7,
                    "symbol": "circle"
                  },
                  "mode": "markers+lines",
                  "name": "Ljung-Box P-value",
                  "showlegend": true,
                  "type": "scatter",
                  "x": {
                    "bdata": "AQIDBAUGBwgJCgsMDQ4PEBESExQ=",
                    "dtype": "i1"
                  },
                  "xaxis": "x2",
                  "y": {
                    "bdata": "zvIpALKoaj94dwaBW2R2P18ogdNeTmw/BIPdcEj3ez+Ix3yqt9qNP1K+S7faeJM/nOOKbKkhmz8ivkEvHO+TP/UK9/QlnKA/7ukz8IaKqT8Gw6o17R2uP3HdJ3pm87I/7kBht7NVuj8xY5bk70i7P33CfPhCwrs/1NRPkOSWvz8c67QPV9a/Pw61TupehcE/w3x/+Kk7xj92Guv5qELEPw==",
                    "dtype": "f8"
                  },
                  "yaxis": "y3"
                },
                {
                  "line": {
                    "color": "darkorange",
                    "dash": "longdash",
                    "width": 1.5
                  },
                  "mode": "lines",
                  "name": "Ljung-Box 0.05 Significance Level",
                  "showlegend": true,
                  "type": "scatter",
                  "x": [
                    null
                  ],
                  "xaxis": "x2",
                  "y": [
                    null
                  ],
                  "yaxis": "y3"
                },
                {
                  "hoverinfo": "x+y",
                  "hovertemplate": "<b>Lag:</b> %{x}<br><b>Test Stat:</b> %{y:.2f}<extra></extra>",
                  "line": {
                    "color": "purple",
                    "dash": "solid",
                    "width": 1
                  },
                  "marker": {
                    "color": "purple",
                    "size": 7,
                    "symbol": "square"
                  },
                  "mode": "markers+lines",
                  "name": "Ljung-Box Test Statistic",
                  "showlegend": true,
                  "type": "scatter",
                  "x": {
                    "bdata": "AQIDBAUGBwgJCgsMDQ4PEBESExQ=",
                    "dtype": "i1"
                  },
                  "xaxis": "x3",
                  "y": {
                    "bdata": "BPzQV3lRIUCrQnw1FNYkQCeHy0lTQitA2ro8xHFNLEDEy0NZ91UsQLIIYjwvVC5ASmq1YqS0L0C9Ym+fkj4yQN41efeSPjJA1AQKY4FQMkCz9KV18iAzQH9uWp0cpjNAoYLjxfCzM0DEeFHcjM80QGn+gaXf+TVAXzMarpOmNkAa+hZSU9I3QNpFlJPhlDhA7/3i882cOEB9bFgWZzs6QA==",
                    "dtype": "f8"
                  },
                  "yaxis": "y4"
                },
                {
                  "hoverinfo": "x+y",
                  "hovertemplate": "<b>Lag:</b> %{x}<br><b>Critical Value:</b> %{y:.2f}<extra></extra>",
                  "line": {
                    "color": "gray",
                    "dash": "dashdot",
                    "width": 1.5
                  },
                  "mode": "lines",
                  "name": "Chi-Squared Critical Value (df=Lag)",
                  "showlegend": true,
                  "type": "scatter",
                  "x": {
                    "bdata": "AQIDBAUGBwgJCgsMDQ4PEBESExQ=",
                    "dtype": "i1"
                  },
                  "xaxis": "x3",
                  "y": [
                    3.841458820694124,
                    5.991464547107979,
                    7.814727903251179,
                    9.487729036781154,
                    11.070497693516351,
                    12.591587243743977,
                    14.067140449340169,
                    15.50731305586545,
                    16.918977604620448,
                    18.307038053275146,
                    19.67513757268249,
                    21.02606981748307,
                    22.362032494826934,
                    23.684791304840576,
                    24.995790139728616,
                    26.29622760486423,
                    27.58711163827534,
                    28.869299430392623,
                    30.14352720564616,
                    31.410432844230918
                  ],
                  "yaxis": "y4"
                }
              ],
              "layout": {
                "annotations": [
                  {
                    "font": {
                      "size": 16
                    },
                    "showarrow": false,
                    "text": "Simulated Time Series (AR(1) Component)",
                    "x": 0.47,
                    "xanchor": "center",
                    "xref": "paper",
                    "y": 1,
                    "yanchor": "bottom",
                    "yref": "paper"
                  },
                  {
                    "font": {
                      "size": 16
                    },
                    "showarrow": false,
                    "text": "Autocorrelation Function (ACF) vs. Ljung-Box P-values",
                    "x": 0.47,
                    "xanchor": "center",
                    "xref": "paper",
                    "y": 0.6333333333333333,
                    "yanchor": "bottom",
                    "yref": "paper"
                  },
                  {
                    "font": {
                      "size": 16
                    },
                    "showarrow": false,
                    "text": "Ljung-Box Test Statistic vs. Chi-Squared Critical Value",
                    "x": 0.47,
                    "xanchor": "center",
                    "xref": "paper",
                    "y": 0.26666666666666666,
                    "yanchor": "bottom",
                    "yref": "paper"
                  },
                  {
                    "align": "left",
                    "bgcolor": "white",
                    "bordercolor": "lightgray",
                    "borderpad": 5,
                    "borderwidth": 1,
                    "font": {
                      "color": "darkslategray",
                      "size": 10
                    },
                    "showarrow": false,
                    "text": "**Interpretation Summary:**<br>Lag 1 shows strong significance across all metrics (ACF, P-value, Test Stat).<br>For other lags, methods largely agree on insignificance.<br>Ljung-Box is key for subtle, cumulative dependencies not always visible in ACF.",
                    "x": 0,
                    "xref": "paper",
                    "y": -0.15,
                    "yref": "paper"
                  }
                ],
                "height": 950,
                "hovermode": "x unified",
                "legend": {
                  "font": {
                    "size": 10
                  },
                  "orientation": "h",
                  "x": 0.5,
                  "xanchor": "center",
                  "y": -0.3,
                  "yanchor": "bottom"
                },
                "shapes": [
                  {
                    "line": {
                      "color": "crimson",
                      "dash": "dash",
                      "width": 1.5
                    },
                    "type": "line",
                    "x0": 0.5,
                    "x1": 20.5,
                    "xref": "x2",
                    "y0": 0.13859038243496777,
                    "y1": 0.13859038243496777,
                    "yref": "y2"
                  },
                  {
                    "line": {
                      "color": "crimson",
                      "dash": "dash",
                      "width": 1.5
                    },
                    "type": "line",
                    "x0": 0.5,
                    "x1": 20.5,
                    "xref": "x2",
                    "y0": -0.13859038243496777,
                    "y1": -0.13859038243496777,
                    "yref": "y2"
                  },
                  {
                    "line": {
                      "color": "darkorange",
                      "dash": "longdash",
                      "width": 1.5
                    },
                    "type": "line",
                    "x0": 0.5,
                    "x1": 20.5,
                    "xref": "x2",
                    "y0": 0.05,
                    "y1": 0.05,
                    "yref": "y3"
                  }
                ],
                "showlegend": true,
                "template": {
                  "data": {
                    "bar": [
                      {
                        "error_x": {
                          "color": "#2a3f5f"
                        },
                        "error_y": {
                          "color": "#2a3f5f"
                        },
                        "marker": {
                          "line": {
                            "color": "#E5ECF6",
                            "width": 0.5
                          },
                          "pattern": {
                            "fillmode": "overlay",
                            "size": 10,
                            "solidity": 0.2
                          }
                        },
                        "type": "bar"
                      }
                    ],
                    "barpolar": [
                      {
                        "marker": {
                          "line": {
                            "color": "#E5ECF6",
                            "width": 0.5
                          },
                          "pattern": {
                            "fillmode": "overlay",
                            "size": 10,
                            "solidity": 0.2
                          }
                        },
                        "type": "barpolar"
                      }
                    ],
                    "carpet": [
                      {
                        "aaxis": {
                          "endlinecolor": "#2a3f5f",
                          "gridcolor": "white",
                          "linecolor": "white",
                          "minorgridcolor": "white",
                          "startlinecolor": "#2a3f5f"
                        },
                        "baxis": {
                          "endlinecolor": "#2a3f5f",
                          "gridcolor": "white",
                          "linecolor": "white",
                          "minorgridcolor": "white",
                          "startlinecolor": "#2a3f5f"
                        },
                        "type": "carpet"
                      }
                    ],
                    "choropleth": [
                      {
                        "colorbar": {
                          "outlinewidth": 0,
                          "ticks": ""
                        },
                        "type": "choropleth"
                      }
                    ],
                    "contour": [
                      {
                        "colorbar": {
                          "outlinewidth": 0,
                          "ticks": ""
                        },
                        "colorscale": [
                          [
                            0,
                            "#0d0887"
                          ],
                          [
                            0.1111111111111111,
                            "#46039f"
                          ],
                          [
                            0.2222222222222222,
                            "#7201a8"
                          ],
                          [
                            0.3333333333333333,
                            "#9c179e"
                          ],
                          [
                            0.4444444444444444,
                            "#bd3786"
                          ],
                          [
                            0.5555555555555556,
                            "#d8576b"
                          ],
                          [
                            0.6666666666666666,
                            "#ed7953"
                          ],
                          [
                            0.7777777777777778,
                            "#fb9f3a"
                          ],
                          [
                            0.8888888888888888,
                            "#fdca26"
                          ],
                          [
                            1,
                            "#f0f921"
                          ]
                        ],
                        "type": "contour"
                      }
                    ],
                    "contourcarpet": [
                      {
                        "colorbar": {
                          "outlinewidth": 0,
                          "ticks": ""
                        },
                        "type": "contourcarpet"
                      }
                    ],
                    "heatmap": [
                      {
                        "colorbar": {
                          "outlinewidth": 0,
                          "ticks": ""
                        },
                        "colorscale": [
                          [
                            0,
                            "#0d0887"
                          ],
                          [
                            0.1111111111111111,
                            "#46039f"
                          ],
                          [
                            0.2222222222222222,
                            "#7201a8"
                          ],
                          [
                            0.3333333333333333,
                            "#9c179e"
                          ],
                          [
                            0.4444444444444444,
                            "#bd3786"
                          ],
                          [
                            0.5555555555555556,
                            "#d8576b"
                          ],
                          [
                            0.6666666666666666,
                            "#ed7953"
                          ],
                          [
                            0.7777777777777778,
                            "#fb9f3a"
                          ],
                          [
                            0.8888888888888888,
                            "#fdca26"
                          ],
                          [
                            1,
                            "#f0f921"
                          ]
                        ],
                        "type": "heatmap"
                      }
                    ],
                    "histogram": [
                      {
                        "marker": {
                          "pattern": {
                            "fillmode": "overlay",
                            "size": 10,
                            "solidity": 0.2
                          }
                        },
                        "type": "histogram"
                      }
                    ],
                    "histogram2d": [
                      {
                        "colorbar": {
                          "outlinewidth": 0,
                          "ticks": ""
                        },
                        "colorscale": [
                          [
                            0,
                            "#0d0887"
                          ],
                          [
                            0.1111111111111111,
                            "#46039f"
                          ],
                          [
                            0.2222222222222222,
                            "#7201a8"
                          ],
                          [
                            0.3333333333333333,
                            "#9c179e"
                          ],
                          [
                            0.4444444444444444,
                            "#bd3786"
                          ],
                          [
                            0.5555555555555556,
                            "#d8576b"
                          ],
                          [
                            0.6666666666666666,
                            "#ed7953"
                          ],
                          [
                            0.7777777777777778,
                            "#fb9f3a"
                          ],
                          [
                            0.8888888888888888,
                            "#fdca26"
                          ],
                          [
                            1,
                            "#f0f921"
                          ]
                        ],
                        "type": "histogram2d"
                      }
                    ],
                    "histogram2dcontour": [
                      {
                        "colorbar": {
                          "outlinewidth": 0,
                          "ticks": ""
                        },
                        "colorscale": [
                          [
                            0,
                            "#0d0887"
                          ],
                          [
                            0.1111111111111111,
                            "#46039f"
                          ],
                          [
                            0.2222222222222222,
                            "#7201a8"
                          ],
                          [
                            0.3333333333333333,
                            "#9c179e"
                          ],
                          [
                            0.4444444444444444,
                            "#bd3786"
                          ],
                          [
                            0.5555555555555556,
                            "#d8576b"
                          ],
                          [
                            0.6666666666666666,
                            "#ed7953"
                          ],
                          [
                            0.7777777777777778,
                            "#fb9f3a"
                          ],
                          [
                            0.8888888888888888,
                            "#fdca26"
                          ],
                          [
                            1,
                            "#f0f921"
                          ]
                        ],
                        "type": "histogram2dcontour"
                      }
                    ],
                    "mesh3d": [
                      {
                        "colorbar": {
                          "outlinewidth": 0,
                          "ticks": ""
                        },
                        "type": "mesh3d"
                      }
                    ],
                    "parcoords": [
                      {
                        "line": {
                          "colorbar": {
                            "outlinewidth": 0,
                            "ticks": ""
                          }
                        },
                        "type": "parcoords"
                      }
                    ],
                    "pie": [
                      {
                        "automargin": true,
                        "type": "pie"
                      }
                    ],
                    "scatter": [
                      {
                        "fillpattern": {
                          "fillmode": "overlay",
                          "size": 10,
                          "solidity": 0.2
                        },
                        "type": "scatter"
                      }
                    ],
                    "scatter3d": [
                      {
                        "line": {
                          "colorbar": {
                            "outlinewidth": 0,
                            "ticks": ""
                          }
                        },
                        "marker": {
                          "colorbar": {
                            "outlinewidth": 0,
                            "ticks": ""
                          }
                        },
                        "type": "scatter3d"
                      }
                    ],
                    "scattercarpet": [
                      {
                        "marker": {
                          "colorbar": {
                            "outlinewidth": 0,
                            "ticks": ""
                          }
                        },
                        "type": "scattercarpet"
                      }
                    ],
                    "scattergeo": [
                      {
                        "marker": {
                          "colorbar": {
                            "outlinewidth": 0,
                            "ticks": ""
                          }
                        },
                        "type": "scattergeo"
                      }
                    ],
                    "scattergl": [
                      {
                        "marker": {
                          "colorbar": {
                            "outlinewidth": 0,
                            "ticks": ""
                          }
                        },
                        "type": "scattergl"
                      }
                    ],
                    "scattermap": [
                      {
                        "marker": {
                          "colorbar": {
                            "outlinewidth": 0,
                            "ticks": ""
                          }
                        },
                        "type": "scattermap"
                      }
                    ],
                    "scattermapbox": [
                      {
                        "marker": {
                          "colorbar": {
                            "outlinewidth": 0,
                            "ticks": ""
                          }
                        },
                        "type": "scattermapbox"
                      }
                    ],
                    "scatterpolar": [
                      {
                        "marker": {
                          "colorbar": {
                            "outlinewidth": 0,
                            "ticks": ""
                          }
                        },
                        "type": "scatterpolar"
                      }
                    ],
                    "scatterpolargl": [
                      {
                        "marker": {
                          "colorbar": {
                            "outlinewidth": 0,
                            "ticks": ""
                          }
                        },
                        "type": "scatterpolargl"
                      }
                    ],
                    "scatterternary": [
                      {
                        "marker": {
                          "colorbar": {
                            "outlinewidth": 0,
                            "ticks": ""
                          }
                        },
                        "type": "scatterternary"
                      }
                    ],
                    "surface": [
                      {
                        "colorbar": {
                          "outlinewidth": 0,
                          "ticks": ""
                        },
                        "colorscale": [
                          [
                            0,
                            "#0d0887"
                          ],
                          [
                            0.1111111111111111,
                            "#46039f"
                          ],
                          [
                            0.2222222222222222,
                            "#7201a8"
                          ],
                          [
                            0.3333333333333333,
                            "#9c179e"
                          ],
                          [
                            0.4444444444444444,
                            "#bd3786"
                          ],
                          [
                            0.5555555555555556,
                            "#d8576b"
                          ],
                          [
                            0.6666666666666666,
                            "#ed7953"
                          ],
                          [
                            0.7777777777777778,
                            "#fb9f3a"
                          ],
                          [
                            0.8888888888888888,
                            "#fdca26"
                          ],
                          [
                            1,
                            "#f0f921"
                          ]
                        ],
                        "type": "surface"
                      }
                    ],
                    "table": [
                      {
                        "cells": {
                          "fill": {
                            "color": "#EBF0F8"
                          },
                          "line": {
                            "color": "white"
                          }
                        },
                        "header": {
                          "fill": {
                            "color": "#C8D4E3"
                          },
                          "line": {
                            "color": "white"
                          }
                        },
                        "type": "table"
                      }
                    ]
                  },
                  "layout": {
                    "annotationdefaults": {
                      "arrowcolor": "#2a3f5f",
                      "arrowhead": 0,
                      "arrowwidth": 1
                    },
                    "autotypenumbers": "strict",
                    "coloraxis": {
                      "colorbar": {
                        "outlinewidth": 0,
                        "ticks": ""
                      }
                    },
                    "colorscale": {
                      "diverging": [
                        [
                          0,
                          "#8e0152"
                        ],
                        [
                          0.1,
                          "#c51b7d"
                        ],
                        [
                          0.2,
                          "#de77ae"
                        ],
                        [
                          0.3,
                          "#f1b6da"
                        ],
                        [
                          0.4,
                          "#fde0ef"
                        ],
                        [
                          0.5,
                          "#f7f7f7"
                        ],
                        [
                          0.6,
                          "#e6f5d0"
                        ],
                        [
                          0.7,
                          "#b8e186"
                        ],
                        [
                          0.8,
                          "#7fbc41"
                        ],
                        [
                          0.9,
                          "#4d9221"
                        ],
                        [
                          1,
                          "#276419"
                        ]
                      ],
                      "sequential": [
                        [
                          0,
                          "#0d0887"
                        ],
                        [
                          0.1111111111111111,
                          "#46039f"
                        ],
                        [
                          0.2222222222222222,
                          "#7201a8"
                        ],
                        [
                          0.3333333333333333,
                          "#9c179e"
                        ],
                        [
                          0.4444444444444444,
                          "#bd3786"
                        ],
                        [
                          0.5555555555555556,
                          "#d8576b"
                        ],
                        [
                          0.6666666666666666,
                          "#ed7953"
                        ],
                        [
                          0.7777777777777778,
                          "#fb9f3a"
                        ],
                        [
                          0.8888888888888888,
                          "#fdca26"
                        ],
                        [
                          1,
                          "#f0f921"
                        ]
                      ],
                      "sequentialminus": [
                        [
                          0,
                          "#0d0887"
                        ],
                        [
                          0.1111111111111111,
                          "#46039f"
                        ],
                        [
                          0.2222222222222222,
                          "#7201a8"
                        ],
                        [
                          0.3333333333333333,
                          "#9c179e"
                        ],
                        [
                          0.4444444444444444,
                          "#bd3786"
                        ],
                        [
                          0.5555555555555556,
                          "#d8576b"
                        ],
                        [
                          0.6666666666666666,
                          "#ed7953"
                        ],
                        [
                          0.7777777777777778,
                          "#fb9f3a"
                        ],
                        [
                          0.8888888888888888,
                          "#fdca26"
                        ],
                        [
                          1,
                          "#f0f921"
                        ]
                      ]
                    },
                    "colorway": [
                      "#636efa",
                      "#EF553B",
                      "#00cc96",
                      "#ab63fa",
                      "#FFA15A",
                      "#19d3f3",
                      "#FF6692",
                      "#B6E880",
                      "#FF97FF",
                      "#FECB52"
                    ],
                    "font": {
                      "color": "#2a3f5f"
                    },
                    "geo": {
                      "bgcolor": "white",
                      "lakecolor": "white",
                      "landcolor": "#E5ECF6",
                      "showlakes": true,
                      "showland": true,
                      "subunitcolor": "white"
                    },
                    "hoverlabel": {
                      "align": "left"
                    },
                    "hovermode": "closest",
                    "mapbox": {
                      "style": "light"
                    },
                    "paper_bgcolor": "white",
                    "plot_bgcolor": "#E5ECF6",
                    "polar": {
                      "angularaxis": {
                        "gridcolor": "white",
                        "linecolor": "white",
                        "ticks": ""
                      },
                      "bgcolor": "#E5ECF6",
                      "radialaxis": {
                        "gridcolor": "white",
                        "linecolor": "white",
                        "ticks": ""
                      }
                    },
                    "scene": {
                      "xaxis": {
                        "backgroundcolor": "#E5ECF6",
                        "gridcolor": "white",
                        "gridwidth": 2,
                        "linecolor": "white",
                        "showbackground": true,
                        "ticks": "",
                        "zerolinecolor": "white"
                      },
                      "yaxis": {
                        "backgroundcolor": "#E5ECF6",
                        "gridcolor": "white",
                        "gridwidth": 2,
                        "linecolor": "white",
                        "showbackground": true,
                        "ticks": "",
                        "zerolinecolor": "white"
                      },
                      "zaxis": {
                        "backgroundcolor": "#E5ECF6",
                        "gridcolor": "white",
                        "gridwidth": 2,
                        "linecolor": "white",
                        "showbackground": true,
                        "ticks": "",
                        "zerolinecolor": "white"
                      }
                    },
                    "shapedefaults": {
                      "line": {
                        "color": "#2a3f5f"
                      }
                    },
                    "ternary": {
                      "aaxis": {
                        "gridcolor": "white",
                        "linecolor": "white",
                        "ticks": ""
                      },
                      "baxis": {
                        "gridcolor": "white",
                        "linecolor": "white",
                        "ticks": ""
                      },
                      "bgcolor": "#E5ECF6",
                      "caxis": {
                        "gridcolor": "white",
                        "linecolor": "white",
                        "ticks": ""
                      }
                    },
                    "title": {
                      "x": 0.05
                    },
                    "xaxis": {
                      "automargin": true,
                      "gridcolor": "white",
                      "linecolor": "white",
                      "ticks": "",
                      "title": {
                        "standoff": 15
                      },
                      "zerolinecolor": "white",
                      "zerolinewidth": 2
                    },
                    "yaxis": {
                      "automargin": true,
                      "gridcolor": "white",
                      "linecolor": "white",
                      "ticks": "",
                      "title": {
                        "standoff": 15
                      },
                      "zerolinecolor": "white",
                      "zerolinewidth": 2
                    }
                  }
                },
                "title": {
                  "text": "Comprehensive Comparison: Ljung-Box Test vs. Visual ACF Inspection"
                },
                "xaxis": {
                  "anchor": "y",
                  "domain": [
                    0,
                    0.94
                  ],
                  "title": {
                    "text": "Time Point"
                  }
                },
                "xaxis2": {
                  "anchor": "y2",
                  "domain": [
                    0,
                    0.94
                  ],
                  "title": {
                    "text": "Lag"
                  }
                },
                "xaxis3": {
                  "anchor": "y4",
                  "domain": [
                    0,
                    0.94
                  ],
                  "title": {
                    "text": "Lag"
                  }
                },
                "yaxis": {
                  "anchor": "x",
                  "domain": [
                    0.7333333333333334,
                    1
                  ],
                  "title": {
                    "text": "Value"
                  }
                },
                "yaxis2": {
                  "anchor": "x2",
                  "domain": [
                    0.3666666666666667,
                    0.6333333333333333
                  ],
                  "range": [
                    -0.3,
                    0.3
                  ],
                  "title": {
                    "text": "ACF Value"
                  }
                },
                "yaxis3": {
                  "anchor": "x2",
                  "overlaying": "y2",
                  "range": [
                    0,
                    1
                  ],
                  "side": "right",
                  "title": {
                    "text": "Ljung-Box P-value"
                  }
                },
                "yaxis4": {
                  "anchor": "x3",
                  "domain": [
                    0,
                    0.26666666666666666
                  ],
                  "title": {
                    "text": "Test Statistic Value"
                  }
                }
              }
            }
          },
          "metadata": {},
          "output_type": "display_data"
        }
      ],
      "source": [
        "# 4. Create three subplots\n",
        "fig = make_subplots(rows=3, cols=1,\n",
        "                    subplot_titles=(\"Simulated Time Series (AR(1) Component)\",\n",
        "                                    \"Autocorrelation Function (ACF) vs. Ljung-Box P-values\",\n",
        "                                    \"Ljung-Box Test Statistic vs. Chi-Squared Critical Value\"),\n",
        "                    vertical_spacing=0.1,\n",
        "                    specs=[[{\"type\": \"xy\"}],\n",
        "                           [{\"type\": \"xy\", \"secondary_y\": True}], # For ACF and P-values\n",
        "                           [{\"type\": \"xy\"}]]) # For Test Statistic\n",
        "\n",
        "\n",
        "# --- Top subplot: Time Series ---\n",
        "fig.add_trace(go.Scatter(y=time_series, mode='lines', name='Simulated Series',\n",
        "                         line=dict(color='lightsteelblue'), showlegend=True),\n",
        "              row=1, col=1)\n",
        "fig.update_xaxes(title_text=\"Time Point\", row=1, col=1)\n",
        "fig.update_yaxes(title_text=\"Value\", row=1, col=1)\n",
        "\n",
        "# --- Middle subplot: ACF Plot (Primary Y-axis) and Ljung-Box P-values (Secondary Y-axis) ---\n",
        "fig.add_trace(go.Bar(x=np.arange(1, nlags + 1), y=acf_values[1:], name='ACF (Magnitude)',\n",
        "                         marker_color='royalblue', showlegend=True),\n",
        "              row=2, col=1, secondary_y=False)\n",
        "\n",
        "# Confidence intervals for ACF\n",
        "fig.add_shape(type=\"line\",\n",
        "              x0=0.5, y0=conf_int_bound, x1=nlags + 0.5, y1=conf_int_bound,\n",
        "              line=dict(color=\"crimson\", width=1.5, dash=\"dash\"),\n",
        "              row=2, col=1, secondary_y=False)\n",
        "fig.add_shape(type=\"line\",\n",
        "              x0=0.5, y0=-conf_int_bound, x1=nlags + 0.5, y1=-conf_int_bound,\n",
        "              line=dict(color=\"crimson\", width=1.5, dash=\"dash\"),\n",
        "              row=2, col=1, secondary_y=False)\n",
        "fig.add_trace(go.Scatter(x=[None], y=[None], mode='lines', # Dummy trace for legend entry\n",
        "                         line=dict(color=\"crimson\", width=1.5, dash=\"dash\"),\n",
        "                         name='ACF 95% Confidence Interval', showlegend=True),\n",
        "              row=2, col=1, secondary_y=False)\n",
        "\n",
        "\n",
        "# Ljung-Box P-values (Secondary Y-axis for middle subplot)\n",
        "fig.add_trace(go.Scatter(x=lags_lb, y=p_values_lb, mode='markers+lines', name='Ljung-Box P-value',\n",
        "                         marker=dict(color='darkgreen', size=7, symbol='circle'),\n",
        "                         line=dict(color='darkgreen', dash='dot', width=1),\n",
        "                         hoverinfo='x+y',\n",
        "                         hovertemplate='<b>Lag:</b> %{x}<br><b>Ljung-Box P-value:</b> %{y:.3f}<extra></extra>',\n",
        "                         showlegend=True),\n",
        "              row=2, col=1, secondary_y=True)\n",
        "\n",
        "# Significance level for Ljung-Box P-values (0.05)\n",
        "fig.add_shape(type=\"line\",\n",
        "              x0=0.5, y0=0.05, x1=nlags + 0.5, y1=0.05,\n",
        "              line=dict(color=\"darkorange\", width=1.5, dash=\"longdash\"),\n",
        "              row=2, col=1, secondary_y=True)\n",
        "fig.add_trace(go.Scatter(x=[None], y=[None], mode='lines', # Dummy trace for legend entry\n",
        "                         line=dict(color=\"darkorange\", width=1.5, dash=\"longdash\"),\n",
        "                         name='Ljung-Box 0.05 Significance Level', showlegend=True),\n",
        "              row=2, col=1, secondary_y=True)\n",
        "\n",
        "\n",
        "fig.update_xaxes(title_text=\"Lag\", row=2, col=1)\n",
        "fig.update_yaxes(title_text=\"ACF Value\", row=2, col=1, secondary_y=False, range=[-0.3, 0.3])\n",
        "fig.update_yaxes(title_text=\"Ljung-Box P-value\", row=2, col=1, secondary_y=True, range=[0, 1.0])\n",
        "\n",
        "# --- Bottom subplot: Ljung-Box Test Statistic ---\n",
        "fig.add_trace(go.Scatter(x=lags_lb, y=lb_stats, mode='markers+lines', name='Ljung-Box Test Statistic',\n",
        "                         marker=dict(color='purple', size=7, symbol='square'),\n",
        "                         line=dict(color='purple', dash='solid', width=1),\n",
        "                         hoverinfo='x+y',\n",
        "                         hovertemplate='<b>Lag:</b> %{x}<br><b>Test Stat:</b> %{y:.2f}<extra></extra>',\n",
        "                         showlegend=True),\n",
        "              row=3, col=1)\n",
        "\n",
        "fig.add_trace(go.Scatter(x=lags_lb, y=critical_values_chi2, mode='lines', name='Chi-Squared Critical Value (df=Lag)',\n",
        "                         line=dict(color='gray', width=1.5, dash='dashdot'),\n",
        "                         hoverinfo='x+y',\n",
        "                         hovertemplate='<b>Lag:</b> %{x}<br><b>Critical Value:</b> %{y:.2f}<extra></extra>',\n",
        "                         showlegend=True),\n",
        "              row=3, col=1)\n",
        "\n",
        "fig.update_xaxes(title_text=\"Lag\", row=3, col=1)\n",
        "fig.update_yaxes(title_text=\"Test Statistic Value\", row=3, col=1)\n",
        "\n",
        "\n",
        "# Update overall layout\n",
        "fig.update_layout(title_text=\"Comprehensive Comparison: Ljung-Box Test vs. Visual ACF Inspection\",\n",
        "                  showlegend=True,\n",
        "                  height=950, # Increased height for third subplot\n",
        "                  hovermode=\"x unified\",\n",
        "                  legend=dict(orientation=\"h\", yanchor=\"bottom\", y=-0.3, xanchor=\"center\", x=0.5, font=dict(size=10)))\n",
        "\n",
        "# Add a concise explanatory annotation\n",
        "fig.add_annotation(\n",
        "    text=\"**Interpretation Summary:**<br>\"\n",
        "         \"Lag 1 shows strong significance across all metrics (ACF, P-value, Test Stat).<br>\"\n",
        "         \"For other lags, methods largely agree on insignificance.<br>\"\n",
        "         \"Ljung-Box is key for subtle, cumulative dependencies not always visible in ACF.\",\n",
        "    xref=\"paper\", yref=\"paper\",\n",
        "    x=0.0, y=-0.15, # Position at bottom-left relative to overall figure\n",
        "    showarrow=False,\n",
        "    font=dict(size=10, color=\"darkslategray\"),\n",
        "    align=\"left\",\n",
        "    bgcolor=\"white\",\n",
        "    bordercolor=\"lightgray\",\n",
        "    borderwidth=1,\n",
        "    borderpad=5\n",
        ")\n",
        "\n",
        "fig.show()"
      ]
    },
    {
      "cell_type": "code",
      "execution_count": null,
      "metadata": {
        "id": "DqJJDchncnh1"
      },
      "outputs": [],
      "source": []
    }
  ],
  "metadata": {
    "colab": {
      "provenance": []
    },
    "kernelspec": {
      "display_name": "forecasting",
      "language": "python",
      "name": "python3"
    },
    "language_info": {
      "codemirror_mode": {
        "name": "ipython",
        "version": 3
      },
      "file_extension": ".py",
      "mimetype": "text/x-python",
      "name": "python",
      "nbconvert_exporter": "python",
      "pygments_lexer": "ipython3",
      "version": "3.10.18"
    }
  },
  "nbformat": 4,
  "nbformat_minor": 0
}
