{
  "cells": [
    {
      "cell_type": "code",
      "execution_count": 1,
      "metadata": {
        "id": "iySWlxc4D-aq"
      },
      "outputs": [
        {
          "name": "stderr",
          "output_type": "stream",
          "text": [
            "/home/heylucasleao/forecasting/.venv/lib/python3.10/site-packages/fs/__init__.py:4: UserWarning: pkg_resources is deprecated as an API. See https://setuptools.pypa.io/en/latest/pkg_resources.html. The pkg_resources package is slated for removal as early as 2025-11-30. Refrain from using this package or pin to Setuptools<81.\n",
            "  __import__(\"pkg_resources\").declare_namespace(__name__)  # type: ignore\n",
            "/home/heylucasleao/forecasting/.venv/lib/python3.10/site-packages/tqdm/auto.py:21: TqdmWarning: IProgress not found. Please update jupyter and ipywidgets. See https://ipywidgets.readthedocs.io/en/stable/user_install.html\n",
            "  from .autonotebook import tqdm as notebook_tqdm\n"
          ]
        }
      ],
      "source": [
        "import pandas as pd\n",
        "import numpy as np\n",
        "\n",
        "from statsmodels.tsa.stattools import adfuller, acf, pacf\n",
        "\n",
        "from statsforecast import StatsForecast\n",
        "from statsforecast.models import AutoARIMA, ARIMA\n",
        "from statsforecast.utils import AirPassengersDF\n",
        "\n",
        "from sklearn.metrics import mean_squared_error, mean_absolute_error\n",
        "\n",
        "import plotly.express as px\n",
        "import plotly.graph_objs as go\n",
        "import plotly.subplots as sp"
      ]
    },
    {
      "cell_type": "code",
      "execution_count": 2,
      "metadata": {
        "colab": {
          "base_uri": "https://localhost:8080/",
          "height": 542
        },
        "id": "mJKpZULP8S21",
        "outputId": "4b6dcfb4-a039-409e-bda4-22d4def5df0a"
      },
      "outputs": [
        {
          "data": {
            "application/vnd.plotly.v1+json": {
              "config": {
                "plotlyServerURL": "https://plot.ly"
              },
              "data": [
                {
                  "hovertemplate": "Date=%{x}<br>y=%{y}<extra></extra>",
                  "legendgroup": "",
                  "line": {
                    "color": "#636efa",
                    "dash": "solid"
                  },
                  "marker": {
                    "symbol": "circle"
                  },
                  "mode": "lines",
                  "name": "",
                  "orientation": "v",
                  "showlegend": false,
                  "type": "scatter",
                  "x": [
                    "1949-01-01T00:00:00.000000000",
                    "1949-02-01T00:00:00.000000000",
                    "1949-03-01T00:00:00.000000000",
                    "1949-04-01T00:00:00.000000000",
                    "1949-05-01T00:00:00.000000000",
                    "1949-06-01T00:00:00.000000000",
                    "1949-07-01T00:00:00.000000000",
                    "1949-08-01T00:00:00.000000000",
                    "1949-09-01T00:00:00.000000000",
                    "1949-10-01T00:00:00.000000000",
                    "1949-11-01T00:00:00.000000000",
                    "1949-12-01T00:00:00.000000000",
                    "1950-01-01T00:00:00.000000000",
                    "1950-02-01T00:00:00.000000000",
                    "1950-03-01T00:00:00.000000000",
                    "1950-04-01T00:00:00.000000000",
                    "1950-05-01T00:00:00.000000000",
                    "1950-06-01T00:00:00.000000000",
                    "1950-07-01T00:00:00.000000000",
                    "1950-08-01T00:00:00.000000000",
                    "1950-09-01T00:00:00.000000000",
                    "1950-10-01T00:00:00.000000000",
                    "1950-11-01T00:00:00.000000000",
                    "1950-12-01T00:00:00.000000000",
                    "1951-01-01T00:00:00.000000000",
                    "1951-02-01T00:00:00.000000000",
                    "1951-03-01T00:00:00.000000000",
                    "1951-04-01T00:00:00.000000000",
                    "1951-05-01T00:00:00.000000000",
                    "1951-06-01T00:00:00.000000000",
                    "1951-07-01T00:00:00.000000000",
                    "1951-08-01T00:00:00.000000000",
                    "1951-09-01T00:00:00.000000000",
                    "1951-10-01T00:00:00.000000000",
                    "1951-11-01T00:00:00.000000000",
                    "1951-12-01T00:00:00.000000000",
                    "1952-01-01T00:00:00.000000000",
                    "1952-02-01T00:00:00.000000000",
                    "1952-03-01T00:00:00.000000000",
                    "1952-04-01T00:00:00.000000000",
                    "1952-05-01T00:00:00.000000000",
                    "1952-06-01T00:00:00.000000000",
                    "1952-07-01T00:00:00.000000000",
                    "1952-08-01T00:00:00.000000000",
                    "1952-09-01T00:00:00.000000000",
                    "1952-10-01T00:00:00.000000000",
                    "1952-11-01T00:00:00.000000000",
                    "1952-12-01T00:00:00.000000000",
                    "1953-01-01T00:00:00.000000000",
                    "1953-02-01T00:00:00.000000000",
                    "1953-03-01T00:00:00.000000000",
                    "1953-04-01T00:00:00.000000000",
                    "1953-05-01T00:00:00.000000000",
                    "1953-06-01T00:00:00.000000000",
                    "1953-07-01T00:00:00.000000000",
                    "1953-08-01T00:00:00.000000000",
                    "1953-09-01T00:00:00.000000000",
                    "1953-10-01T00:00:00.000000000",
                    "1953-11-01T00:00:00.000000000",
                    "1953-12-01T00:00:00.000000000",
                    "1954-01-01T00:00:00.000000000",
                    "1954-02-01T00:00:00.000000000",
                    "1954-03-01T00:00:00.000000000",
                    "1954-04-01T00:00:00.000000000",
                    "1954-05-01T00:00:00.000000000",
                    "1954-06-01T00:00:00.000000000",
                    "1954-07-01T00:00:00.000000000",
                    "1954-08-01T00:00:00.000000000",
                    "1954-09-01T00:00:00.000000000",
                    "1954-10-01T00:00:00.000000000",
                    "1954-11-01T00:00:00.000000000",
                    "1954-12-01T00:00:00.000000000",
                    "1955-01-01T00:00:00.000000000",
                    "1955-02-01T00:00:00.000000000",
                    "1955-03-01T00:00:00.000000000",
                    "1955-04-01T00:00:00.000000000",
                    "1955-05-01T00:00:00.000000000",
                    "1955-06-01T00:00:00.000000000",
                    "1955-07-01T00:00:00.000000000",
                    "1955-08-01T00:00:00.000000000",
                    "1955-09-01T00:00:00.000000000",
                    "1955-10-01T00:00:00.000000000",
                    "1955-11-01T00:00:00.000000000",
                    "1955-12-01T00:00:00.000000000",
                    "1956-01-01T00:00:00.000000000",
                    "1956-02-01T00:00:00.000000000",
                    "1956-03-01T00:00:00.000000000",
                    "1956-04-01T00:00:00.000000000",
                    "1956-05-01T00:00:00.000000000",
                    "1956-06-01T00:00:00.000000000",
                    "1956-07-01T00:00:00.000000000",
                    "1956-08-01T00:00:00.000000000",
                    "1956-09-01T00:00:00.000000000",
                    "1956-10-01T00:00:00.000000000",
                    "1956-11-01T00:00:00.000000000",
                    "1956-12-01T00:00:00.000000000",
                    "1957-01-01T00:00:00.000000000",
                    "1957-02-01T00:00:00.000000000",
                    "1957-03-01T00:00:00.000000000",
                    "1957-04-01T00:00:00.000000000",
                    "1957-05-01T00:00:00.000000000",
                    "1957-06-01T00:00:00.000000000",
                    "1957-07-01T00:00:00.000000000",
                    "1957-08-01T00:00:00.000000000",
                    "1957-09-01T00:00:00.000000000",
                    "1957-10-01T00:00:00.000000000",
                    "1957-11-01T00:00:00.000000000",
                    "1957-12-01T00:00:00.000000000",
                    "1958-01-01T00:00:00.000000000",
                    "1958-02-01T00:00:00.000000000",
                    "1958-03-01T00:00:00.000000000",
                    "1958-04-01T00:00:00.000000000",
                    "1958-05-01T00:00:00.000000000",
                    "1958-06-01T00:00:00.000000000",
                    "1958-07-01T00:00:00.000000000",
                    "1958-08-01T00:00:00.000000000",
                    "1958-09-01T00:00:00.000000000",
                    "1958-10-01T00:00:00.000000000",
                    "1958-11-01T00:00:00.000000000",
                    "1958-12-01T00:00:00.000000000",
                    "1959-01-01T00:00:00.000000000",
                    "1959-02-01T00:00:00.000000000",
                    "1959-03-01T00:00:00.000000000",
                    "1959-04-01T00:00:00.000000000",
                    "1959-05-01T00:00:00.000000000",
                    "1959-06-01T00:00:00.000000000",
                    "1959-07-01T00:00:00.000000000",
                    "1959-08-01T00:00:00.000000000",
                    "1959-09-01T00:00:00.000000000",
                    "1959-10-01T00:00:00.000000000",
                    "1959-11-01T00:00:00.000000000",
                    "1959-12-01T00:00:00.000000000",
                    "1960-01-01T00:00:00.000000000",
                    "1960-02-01T00:00:00.000000000",
                    "1960-03-01T00:00:00.000000000",
                    "1960-04-01T00:00:00.000000000",
                    "1960-05-01T00:00:00.000000000",
                    "1960-06-01T00:00:00.000000000",
                    "1960-07-01T00:00:00.000000000",
                    "1960-08-01T00:00:00.000000000",
                    "1960-09-01T00:00:00.000000000",
                    "1960-10-01T00:00:00.000000000",
                    "1960-11-01T00:00:00.000000000",
                    "1960-12-01T00:00:00.000000000"
                  ],
                  "xaxis": "x",
                  "y": {
                    "bdata": "cAB2AIQAgQB5AIcAlACUAIgAdwBoAHYAcwB+AI0AhwB9AJUAqgCqAJ4AhQByAIwAkQCWALIAowCsALIAxwDHALgAogCSAKYAqwC0AMEAtQC3ANoA5gDyANEAvwCsAMIAxADEAOwA6wDlAPMACAEQAe0A0wC0AMkAzAC8AOsA4wDqAAgBLgElAQMB5QDLAOUA8gDpAAsBDQEOATsBbAFbATgBEgHtABYBHAEVAT0BOQE+AXYBnQGVAWMBMgEPATIBOwEtAWQBXAFjAaYB0QHTAZQBWwExAVABVAE+AWoBXAFrAbMB6wH5AZQBZwE2AVEBaAFWAZYBjAGkAdgBJAIvAs8BlwFqAZUBoQGHAaMBzQHYARcCbgJeAvwBzQGGAbAB",
                    "dtype": "i2"
                  },
                  "yaxis": "y"
                }
              ],
              "layout": {
                "legend": {
                  "tracegroupgap": 0
                },
                "template": {
                  "data": {
                    "bar": [
                      {
                        "error_x": {
                          "color": "#2a3f5f"
                        },
                        "error_y": {
                          "color": "#2a3f5f"
                        },
                        "marker": {
                          "line": {
                            "color": "white",
                            "width": 0.5
                          },
                          "pattern": {
                            "fillmode": "overlay",
                            "size": 10,
                            "solidity": 0.2
                          }
                        },
                        "type": "bar"
                      }
                    ],
                    "barpolar": [
                      {
                        "marker": {
                          "line": {
                            "color": "white",
                            "width": 0.5
                          },
                          "pattern": {
                            "fillmode": "overlay",
                            "size": 10,
                            "solidity": 0.2
                          }
                        },
                        "type": "barpolar"
                      }
                    ],
                    "carpet": [
                      {
                        "aaxis": {
                          "endlinecolor": "#2a3f5f",
                          "gridcolor": "#C8D4E3",
                          "linecolor": "#C8D4E3",
                          "minorgridcolor": "#C8D4E3",
                          "startlinecolor": "#2a3f5f"
                        },
                        "baxis": {
                          "endlinecolor": "#2a3f5f",
                          "gridcolor": "#C8D4E3",
                          "linecolor": "#C8D4E3",
                          "minorgridcolor": "#C8D4E3",
                          "startlinecolor": "#2a3f5f"
                        },
                        "type": "carpet"
                      }
                    ],
                    "choropleth": [
                      {
                        "colorbar": {
                          "outlinewidth": 0,
                          "ticks": ""
                        },
                        "type": "choropleth"
                      }
                    ],
                    "contour": [
                      {
                        "colorbar": {
                          "outlinewidth": 0,
                          "ticks": ""
                        },
                        "colorscale": [
                          [
                            0,
                            "#0d0887"
                          ],
                          [
                            0.1111111111111111,
                            "#46039f"
                          ],
                          [
                            0.2222222222222222,
                            "#7201a8"
                          ],
                          [
                            0.3333333333333333,
                            "#9c179e"
                          ],
                          [
                            0.4444444444444444,
                            "#bd3786"
                          ],
                          [
                            0.5555555555555556,
                            "#d8576b"
                          ],
                          [
                            0.6666666666666666,
                            "#ed7953"
                          ],
                          [
                            0.7777777777777778,
                            "#fb9f3a"
                          ],
                          [
                            0.8888888888888888,
                            "#fdca26"
                          ],
                          [
                            1,
                            "#f0f921"
                          ]
                        ],
                        "type": "contour"
                      }
                    ],
                    "contourcarpet": [
                      {
                        "colorbar": {
                          "outlinewidth": 0,
                          "ticks": ""
                        },
                        "type": "contourcarpet"
                      }
                    ],
                    "heatmap": [
                      {
                        "colorbar": {
                          "outlinewidth": 0,
                          "ticks": ""
                        },
                        "colorscale": [
                          [
                            0,
                            "#0d0887"
                          ],
                          [
                            0.1111111111111111,
                            "#46039f"
                          ],
                          [
                            0.2222222222222222,
                            "#7201a8"
                          ],
                          [
                            0.3333333333333333,
                            "#9c179e"
                          ],
                          [
                            0.4444444444444444,
                            "#bd3786"
                          ],
                          [
                            0.5555555555555556,
                            "#d8576b"
                          ],
                          [
                            0.6666666666666666,
                            "#ed7953"
                          ],
                          [
                            0.7777777777777778,
                            "#fb9f3a"
                          ],
                          [
                            0.8888888888888888,
                            "#fdca26"
                          ],
                          [
                            1,
                            "#f0f921"
                          ]
                        ],
                        "type": "heatmap"
                      }
                    ],
                    "histogram": [
                      {
                        "marker": {
                          "pattern": {
                            "fillmode": "overlay",
                            "size": 10,
                            "solidity": 0.2
                          }
                        },
                        "type": "histogram"
                      }
                    ],
                    "histogram2d": [
                      {
                        "colorbar": {
                          "outlinewidth": 0,
                          "ticks": ""
                        },
                        "colorscale": [
                          [
                            0,
                            "#0d0887"
                          ],
                          [
                            0.1111111111111111,
                            "#46039f"
                          ],
                          [
                            0.2222222222222222,
                            "#7201a8"
                          ],
                          [
                            0.3333333333333333,
                            "#9c179e"
                          ],
                          [
                            0.4444444444444444,
                            "#bd3786"
                          ],
                          [
                            0.5555555555555556,
                            "#d8576b"
                          ],
                          [
                            0.6666666666666666,
                            "#ed7953"
                          ],
                          [
                            0.7777777777777778,
                            "#fb9f3a"
                          ],
                          [
                            0.8888888888888888,
                            "#fdca26"
                          ],
                          [
                            1,
                            "#f0f921"
                          ]
                        ],
                        "type": "histogram2d"
                      }
                    ],
                    "histogram2dcontour": [
                      {
                        "colorbar": {
                          "outlinewidth": 0,
                          "ticks": ""
                        },
                        "colorscale": [
                          [
                            0,
                            "#0d0887"
                          ],
                          [
                            0.1111111111111111,
                            "#46039f"
                          ],
                          [
                            0.2222222222222222,
                            "#7201a8"
                          ],
                          [
                            0.3333333333333333,
                            "#9c179e"
                          ],
                          [
                            0.4444444444444444,
                            "#bd3786"
                          ],
                          [
                            0.5555555555555556,
                            "#d8576b"
                          ],
                          [
                            0.6666666666666666,
                            "#ed7953"
                          ],
                          [
                            0.7777777777777778,
                            "#fb9f3a"
                          ],
                          [
                            0.8888888888888888,
                            "#fdca26"
                          ],
                          [
                            1,
                            "#f0f921"
                          ]
                        ],
                        "type": "histogram2dcontour"
                      }
                    ],
                    "mesh3d": [
                      {
                        "colorbar": {
                          "outlinewidth": 0,
                          "ticks": ""
                        },
                        "type": "mesh3d"
                      }
                    ],
                    "parcoords": [
                      {
                        "line": {
                          "colorbar": {
                            "outlinewidth": 0,
                            "ticks": ""
                          }
                        },
                        "type": "parcoords"
                      }
                    ],
                    "pie": [
                      {
                        "automargin": true,
                        "type": "pie"
                      }
                    ],
                    "scatter": [
                      {
                        "fillpattern": {
                          "fillmode": "overlay",
                          "size": 10,
                          "solidity": 0.2
                        },
                        "type": "scatter"
                      }
                    ],
                    "scatter3d": [
                      {
                        "line": {
                          "colorbar": {
                            "outlinewidth": 0,
                            "ticks": ""
                          }
                        },
                        "marker": {
                          "colorbar": {
                            "outlinewidth": 0,
                            "ticks": ""
                          }
                        },
                        "type": "scatter3d"
                      }
                    ],
                    "scattercarpet": [
                      {
                        "marker": {
                          "colorbar": {
                            "outlinewidth": 0,
                            "ticks": ""
                          }
                        },
                        "type": "scattercarpet"
                      }
                    ],
                    "scattergeo": [
                      {
                        "marker": {
                          "colorbar": {
                            "outlinewidth": 0,
                            "ticks": ""
                          }
                        },
                        "type": "scattergeo"
                      }
                    ],
                    "scattergl": [
                      {
                        "marker": {
                          "colorbar": {
                            "outlinewidth": 0,
                            "ticks": ""
                          }
                        },
                        "type": "scattergl"
                      }
                    ],
                    "scattermap": [
                      {
                        "marker": {
                          "colorbar": {
                            "outlinewidth": 0,
                            "ticks": ""
                          }
                        },
                        "type": "scattermap"
                      }
                    ],
                    "scattermapbox": [
                      {
                        "marker": {
                          "colorbar": {
                            "outlinewidth": 0,
                            "ticks": ""
                          }
                        },
                        "type": "scattermapbox"
                      }
                    ],
                    "scatterpolar": [
                      {
                        "marker": {
                          "colorbar": {
                            "outlinewidth": 0,
                            "ticks": ""
                          }
                        },
                        "type": "scatterpolar"
                      }
                    ],
                    "scatterpolargl": [
                      {
                        "marker": {
                          "colorbar": {
                            "outlinewidth": 0,
                            "ticks": ""
                          }
                        },
                        "type": "scatterpolargl"
                      }
                    ],
                    "scatterternary": [
                      {
                        "marker": {
                          "colorbar": {
                            "outlinewidth": 0,
                            "ticks": ""
                          }
                        },
                        "type": "scatterternary"
                      }
                    ],
                    "surface": [
                      {
                        "colorbar": {
                          "outlinewidth": 0,
                          "ticks": ""
                        },
                        "colorscale": [
                          [
                            0,
                            "#0d0887"
                          ],
                          [
                            0.1111111111111111,
                            "#46039f"
                          ],
                          [
                            0.2222222222222222,
                            "#7201a8"
                          ],
                          [
                            0.3333333333333333,
                            "#9c179e"
                          ],
                          [
                            0.4444444444444444,
                            "#bd3786"
                          ],
                          [
                            0.5555555555555556,
                            "#d8576b"
                          ],
                          [
                            0.6666666666666666,
                            "#ed7953"
                          ],
                          [
                            0.7777777777777778,
                            "#fb9f3a"
                          ],
                          [
                            0.8888888888888888,
                            "#fdca26"
                          ],
                          [
                            1,
                            "#f0f921"
                          ]
                        ],
                        "type": "surface"
                      }
                    ],
                    "table": [
                      {
                        "cells": {
                          "fill": {
                            "color": "#EBF0F8"
                          },
                          "line": {
                            "color": "white"
                          }
                        },
                        "header": {
                          "fill": {
                            "color": "#C8D4E3"
                          },
                          "line": {
                            "color": "white"
                          }
                        },
                        "type": "table"
                      }
                    ]
                  },
                  "layout": {
                    "annotationdefaults": {
                      "arrowcolor": "#2a3f5f",
                      "arrowhead": 0,
                      "arrowwidth": 1
                    },
                    "autotypenumbers": "strict",
                    "coloraxis": {
                      "colorbar": {
                        "outlinewidth": 0,
                        "ticks": ""
                      }
                    },
                    "colorscale": {
                      "diverging": [
                        [
                          0,
                          "#8e0152"
                        ],
                        [
                          0.1,
                          "#c51b7d"
                        ],
                        [
                          0.2,
                          "#de77ae"
                        ],
                        [
                          0.3,
                          "#f1b6da"
                        ],
                        [
                          0.4,
                          "#fde0ef"
                        ],
                        [
                          0.5,
                          "#f7f7f7"
                        ],
                        [
                          0.6,
                          "#e6f5d0"
                        ],
                        [
                          0.7,
                          "#b8e186"
                        ],
                        [
                          0.8,
                          "#7fbc41"
                        ],
                        [
                          0.9,
                          "#4d9221"
                        ],
                        [
                          1,
                          "#276419"
                        ]
                      ],
                      "sequential": [
                        [
                          0,
                          "#0d0887"
                        ],
                        [
                          0.1111111111111111,
                          "#46039f"
                        ],
                        [
                          0.2222222222222222,
                          "#7201a8"
                        ],
                        [
                          0.3333333333333333,
                          "#9c179e"
                        ],
                        [
                          0.4444444444444444,
                          "#bd3786"
                        ],
                        [
                          0.5555555555555556,
                          "#d8576b"
                        ],
                        [
                          0.6666666666666666,
                          "#ed7953"
                        ],
                        [
                          0.7777777777777778,
                          "#fb9f3a"
                        ],
                        [
                          0.8888888888888888,
                          "#fdca26"
                        ],
                        [
                          1,
                          "#f0f921"
                        ]
                      ],
                      "sequentialminus": [
                        [
                          0,
                          "#0d0887"
                        ],
                        [
                          0.1111111111111111,
                          "#46039f"
                        ],
                        [
                          0.2222222222222222,
                          "#7201a8"
                        ],
                        [
                          0.3333333333333333,
                          "#9c179e"
                        ],
                        [
                          0.4444444444444444,
                          "#bd3786"
                        ],
                        [
                          0.5555555555555556,
                          "#d8576b"
                        ],
                        [
                          0.6666666666666666,
                          "#ed7953"
                        ],
                        [
                          0.7777777777777778,
                          "#fb9f3a"
                        ],
                        [
                          0.8888888888888888,
                          "#fdca26"
                        ],
                        [
                          1,
                          "#f0f921"
                        ]
                      ]
                    },
                    "colorway": [
                      "#636efa",
                      "#EF553B",
                      "#00cc96",
                      "#ab63fa",
                      "#FFA15A",
                      "#19d3f3",
                      "#FF6692",
                      "#B6E880",
                      "#FF97FF",
                      "#FECB52"
                    ],
                    "font": {
                      "color": "#2a3f5f"
                    },
                    "geo": {
                      "bgcolor": "white",
                      "lakecolor": "white",
                      "landcolor": "white",
                      "showlakes": true,
                      "showland": true,
                      "subunitcolor": "#C8D4E3"
                    },
                    "hoverlabel": {
                      "align": "left"
                    },
                    "hovermode": "closest",
                    "mapbox": {
                      "style": "light"
                    },
                    "paper_bgcolor": "white",
                    "plot_bgcolor": "white",
                    "polar": {
                      "angularaxis": {
                        "gridcolor": "#EBF0F8",
                        "linecolor": "#EBF0F8",
                        "ticks": ""
                      },
                      "bgcolor": "white",
                      "radialaxis": {
                        "gridcolor": "#EBF0F8",
                        "linecolor": "#EBF0F8",
                        "ticks": ""
                      }
                    },
                    "scene": {
                      "xaxis": {
                        "backgroundcolor": "white",
                        "gridcolor": "#DFE8F3",
                        "gridwidth": 2,
                        "linecolor": "#EBF0F8",
                        "showbackground": true,
                        "ticks": "",
                        "zerolinecolor": "#EBF0F8"
                      },
                      "yaxis": {
                        "backgroundcolor": "white",
                        "gridcolor": "#DFE8F3",
                        "gridwidth": 2,
                        "linecolor": "#EBF0F8",
                        "showbackground": true,
                        "ticks": "",
                        "zerolinecolor": "#EBF0F8"
                      },
                      "zaxis": {
                        "backgroundcolor": "white",
                        "gridcolor": "#DFE8F3",
                        "gridwidth": 2,
                        "linecolor": "#EBF0F8",
                        "showbackground": true,
                        "ticks": "",
                        "zerolinecolor": "#EBF0F8"
                      }
                    },
                    "shapedefaults": {
                      "line": {
                        "color": "#2a3f5f"
                      }
                    },
                    "ternary": {
                      "aaxis": {
                        "gridcolor": "#DFE8F3",
                        "linecolor": "#A2B1C6",
                        "ticks": ""
                      },
                      "baxis": {
                        "gridcolor": "#DFE8F3",
                        "linecolor": "#A2B1C6",
                        "ticks": ""
                      },
                      "bgcolor": "white",
                      "caxis": {
                        "gridcolor": "#DFE8F3",
                        "linecolor": "#A2B1C6",
                        "ticks": ""
                      }
                    },
                    "title": {
                      "x": 0.05
                    },
                    "xaxis": {
                      "automargin": true,
                      "gridcolor": "#EBF0F8",
                      "linecolor": "#EBF0F8",
                      "ticks": "",
                      "title": {
                        "standoff": 15
                      },
                      "zerolinecolor": "#EBF0F8",
                      "zerolinewidth": 2
                    },
                    "yaxis": {
                      "automargin": true,
                      "gridcolor": "#EBF0F8",
                      "linecolor": "#EBF0F8",
                      "ticks": "",
                      "title": {
                        "standoff": 15
                      },
                      "zerolinecolor": "#EBF0F8",
                      "zerolinewidth": 2
                    }
                  }
                },
                "title": {
                  "text": "Airline Passengers Data (1949–1960)",
                  "x": 0.5
                },
                "xaxis": {
                  "anchor": "y",
                  "domain": [
                    0,
                    1
                  ],
                  "title": {
                    "text": "Date"
                  }
                },
                "yaxis": {
                  "anchor": "x",
                  "domain": [
                    0,
                    1
                  ],
                  "title": {
                    "text": "y"
                  }
                }
              }
            }
          },
          "metadata": {},
          "output_type": "display_data"
        }
      ],
      "source": [
        "# Load dataset\n",
        "url = 'https://raw.githubusercontent.com/jbrownlee/Datasets/master/airline-passengers.csv'\n",
        "data = pd.read_csv(url, parse_dates=['Month'], index_col='Month')\n",
        "series = data['Passengers']\n",
        "\n",
        "# Plot using Plotly\n",
        "fig = px.line(series, x=series.index, y=series.values,\n",
        "              title='Airline Passengers Data (1949–1960)',\n",
        "              labels={'Month': 'Date', 'Passengers': 'Number of Passengers'},\n",
        "              template='plotly_white')\n",
        "\n",
        "fig.update_layout(title_x=0.5)\n",
        "fig.show()"
      ]
    },
    {
      "cell_type": "code",
      "execution_count": 3,
      "metadata": {
        "colab": {
          "base_uri": "https://localhost:8080/"
        },
        "id": "iW-GSY4iEtx2",
        "outputId": "35ac326b-0177-48ed-a56d-1916d1eb2460"
      },
      "outputs": [
        {
          "name": "stdout",
          "output_type": "stream",
          "text": [
            "ADF Statistic (original): 0.8154\n",
            "p-value (original): 0.9919\n",
            "ADF Statistic (differenced): -2.8293\n",
            "p-value (differenced): 0.0542\n"
          ]
        }
      ],
      "source": [
        "# ADF Test (Original Series)\n",
        "adf_original = adfuller(series)\n",
        "print(f\"ADF Statistic (original): {adf_original[0]:.4f}\")\n",
        "print(f\"p-value (original): {adf_original[1]:.4f}\")\n",
        "\n",
        "# Differenced series\n",
        "diff_series = series.diff().dropna()\n",
        "\n",
        "# ADF Test (Differenced Series)\n",
        "adf_diff = adfuller(diff_series)\n",
        "print(f\"ADF Statistic (differenced): {adf_diff[0]:.4f}\")\n",
        "print(f\"p-value (differenced): {adf_diff[1]:.4f}\")"
      ]
    },
    {
      "cell_type": "code",
      "execution_count": 4,
      "metadata": {
        "colab": {
          "base_uri": "https://localhost:8080/",
          "height": 1000
        },
        "id": "QM50JWkfCqqB",
        "outputId": "88c9bae6-3109-4337-c388-a42077f7db29"
      },
      "outputs": [
        {
          "data": {
            "application/vnd.plotly.v1+json": {
              "config": {
                "plotlyServerURL": "https://plot.ly"
              },
              "data": [
                {
                  "mode": "lines",
                  "name": "Original",
                  "type": "scatter",
                  "x": [
                    "1949-01-01T00:00:00.000000000",
                    "1949-02-01T00:00:00.000000000",
                    "1949-03-01T00:00:00.000000000",
                    "1949-04-01T00:00:00.000000000",
                    "1949-05-01T00:00:00.000000000",
                    "1949-06-01T00:00:00.000000000",
                    "1949-07-01T00:00:00.000000000",
                    "1949-08-01T00:00:00.000000000",
                    "1949-09-01T00:00:00.000000000",
                    "1949-10-01T00:00:00.000000000",
                    "1949-11-01T00:00:00.000000000",
                    "1949-12-01T00:00:00.000000000",
                    "1950-01-01T00:00:00.000000000",
                    "1950-02-01T00:00:00.000000000",
                    "1950-03-01T00:00:00.000000000",
                    "1950-04-01T00:00:00.000000000",
                    "1950-05-01T00:00:00.000000000",
                    "1950-06-01T00:00:00.000000000",
                    "1950-07-01T00:00:00.000000000",
                    "1950-08-01T00:00:00.000000000",
                    "1950-09-01T00:00:00.000000000",
                    "1950-10-01T00:00:00.000000000",
                    "1950-11-01T00:00:00.000000000",
                    "1950-12-01T00:00:00.000000000",
                    "1951-01-01T00:00:00.000000000",
                    "1951-02-01T00:00:00.000000000",
                    "1951-03-01T00:00:00.000000000",
                    "1951-04-01T00:00:00.000000000",
                    "1951-05-01T00:00:00.000000000",
                    "1951-06-01T00:00:00.000000000",
                    "1951-07-01T00:00:00.000000000",
                    "1951-08-01T00:00:00.000000000",
                    "1951-09-01T00:00:00.000000000",
                    "1951-10-01T00:00:00.000000000",
                    "1951-11-01T00:00:00.000000000",
                    "1951-12-01T00:00:00.000000000",
                    "1952-01-01T00:00:00.000000000",
                    "1952-02-01T00:00:00.000000000",
                    "1952-03-01T00:00:00.000000000",
                    "1952-04-01T00:00:00.000000000",
                    "1952-05-01T00:00:00.000000000",
                    "1952-06-01T00:00:00.000000000",
                    "1952-07-01T00:00:00.000000000",
                    "1952-08-01T00:00:00.000000000",
                    "1952-09-01T00:00:00.000000000",
                    "1952-10-01T00:00:00.000000000",
                    "1952-11-01T00:00:00.000000000",
                    "1952-12-01T00:00:00.000000000",
                    "1953-01-01T00:00:00.000000000",
                    "1953-02-01T00:00:00.000000000",
                    "1953-03-01T00:00:00.000000000",
                    "1953-04-01T00:00:00.000000000",
                    "1953-05-01T00:00:00.000000000",
                    "1953-06-01T00:00:00.000000000",
                    "1953-07-01T00:00:00.000000000",
                    "1953-08-01T00:00:00.000000000",
                    "1953-09-01T00:00:00.000000000",
                    "1953-10-01T00:00:00.000000000",
                    "1953-11-01T00:00:00.000000000",
                    "1953-12-01T00:00:00.000000000",
                    "1954-01-01T00:00:00.000000000",
                    "1954-02-01T00:00:00.000000000",
                    "1954-03-01T00:00:00.000000000",
                    "1954-04-01T00:00:00.000000000",
                    "1954-05-01T00:00:00.000000000",
                    "1954-06-01T00:00:00.000000000",
                    "1954-07-01T00:00:00.000000000",
                    "1954-08-01T00:00:00.000000000",
                    "1954-09-01T00:00:00.000000000",
                    "1954-10-01T00:00:00.000000000",
                    "1954-11-01T00:00:00.000000000",
                    "1954-12-01T00:00:00.000000000",
                    "1955-01-01T00:00:00.000000000",
                    "1955-02-01T00:00:00.000000000",
                    "1955-03-01T00:00:00.000000000",
                    "1955-04-01T00:00:00.000000000",
                    "1955-05-01T00:00:00.000000000",
                    "1955-06-01T00:00:00.000000000",
                    "1955-07-01T00:00:00.000000000",
                    "1955-08-01T00:00:00.000000000",
                    "1955-09-01T00:00:00.000000000",
                    "1955-10-01T00:00:00.000000000",
                    "1955-11-01T00:00:00.000000000",
                    "1955-12-01T00:00:00.000000000",
                    "1956-01-01T00:00:00.000000000",
                    "1956-02-01T00:00:00.000000000",
                    "1956-03-01T00:00:00.000000000",
                    "1956-04-01T00:00:00.000000000",
                    "1956-05-01T00:00:00.000000000",
                    "1956-06-01T00:00:00.000000000",
                    "1956-07-01T00:00:00.000000000",
                    "1956-08-01T00:00:00.000000000",
                    "1956-09-01T00:00:00.000000000",
                    "1956-10-01T00:00:00.000000000",
                    "1956-11-01T00:00:00.000000000",
                    "1956-12-01T00:00:00.000000000",
                    "1957-01-01T00:00:00.000000000",
                    "1957-02-01T00:00:00.000000000",
                    "1957-03-01T00:00:00.000000000",
                    "1957-04-01T00:00:00.000000000",
                    "1957-05-01T00:00:00.000000000",
                    "1957-06-01T00:00:00.000000000",
                    "1957-07-01T00:00:00.000000000",
                    "1957-08-01T00:00:00.000000000",
                    "1957-09-01T00:00:00.000000000",
                    "1957-10-01T00:00:00.000000000",
                    "1957-11-01T00:00:00.000000000",
                    "1957-12-01T00:00:00.000000000",
                    "1958-01-01T00:00:00.000000000",
                    "1958-02-01T00:00:00.000000000",
                    "1958-03-01T00:00:00.000000000",
                    "1958-04-01T00:00:00.000000000",
                    "1958-05-01T00:00:00.000000000",
                    "1958-06-01T00:00:00.000000000",
                    "1958-07-01T00:00:00.000000000",
                    "1958-08-01T00:00:00.000000000",
                    "1958-09-01T00:00:00.000000000",
                    "1958-10-01T00:00:00.000000000",
                    "1958-11-01T00:00:00.000000000",
                    "1958-12-01T00:00:00.000000000",
                    "1959-01-01T00:00:00.000000000",
                    "1959-02-01T00:00:00.000000000",
                    "1959-03-01T00:00:00.000000000",
                    "1959-04-01T00:00:00.000000000",
                    "1959-05-01T00:00:00.000000000",
                    "1959-06-01T00:00:00.000000000",
                    "1959-07-01T00:00:00.000000000",
                    "1959-08-01T00:00:00.000000000",
                    "1959-09-01T00:00:00.000000000",
                    "1959-10-01T00:00:00.000000000",
                    "1959-11-01T00:00:00.000000000",
                    "1959-12-01T00:00:00.000000000",
                    "1960-01-01T00:00:00.000000000",
                    "1960-02-01T00:00:00.000000000",
                    "1960-03-01T00:00:00.000000000",
                    "1960-04-01T00:00:00.000000000",
                    "1960-05-01T00:00:00.000000000",
                    "1960-06-01T00:00:00.000000000",
                    "1960-07-01T00:00:00.000000000",
                    "1960-08-01T00:00:00.000000000",
                    "1960-09-01T00:00:00.000000000",
                    "1960-10-01T00:00:00.000000000",
                    "1960-11-01T00:00:00.000000000",
                    "1960-12-01T00:00:00.000000000"
                  ],
                  "xaxis": "x",
                  "y": {
                    "bdata": "cAB2AIQAgQB5AIcAlACUAIgAdwBoAHYAcwB+AI0AhwB9AJUAqgCqAJ4AhQByAIwAkQCWALIAowCsALIAxwDHALgAogCSAKYAqwC0AMEAtQC3ANoA5gDyANEAvwCsAMIAxADEAOwA6wDlAPMACAEQAe0A0wC0AMkAzAC8AOsA4wDqAAgBLgElAQMB5QDLAOUA8gDpAAsBDQEOATsBbAFbATgBEgHtABYBHAEVAT0BOQE+AXYBnQGVAWMBMgEPATIBOwEtAWQBXAFjAaYB0QHTAZQBWwExAVABVAE+AWoBXAFrAbMB6wH5AZQBZwE2AVEBaAFWAZYBjAGkAdgBJAIvAs8BlwFqAZUBoQGHAaMBzQHYARcCbgJeAvwBzQGGAbAB",
                    "dtype": "i2"
                  },
                  "yaxis": "y"
                },
                {
                  "marker": {
                    "color": "steelblue"
                  },
                  "type": "bar",
                  "x": [
                    0,
                    1,
                    2,
                    3,
                    4,
                    5,
                    6,
                    7,
                    8,
                    9,
                    10,
                    11,
                    12,
                    13,
                    14,
                    15,
                    16,
                    17,
                    18,
                    19,
                    20,
                    21,
                    22,
                    23,
                    24,
                    25,
                    26,
                    27,
                    28,
                    29,
                    30
                  ],
                  "xaxis": "x2",
                  "y": {
                    "bdata": "AAAAAAAA8D9d73JgZ1buPxEMQoS1BOw/zgWl/1TQ6T+zRjrmgRXoPykGLSA01+Y/P4Jc/cLQ5T9benpCgzblPzDpotbC+uQ/bru3oGh45T9gq9F8rnzmP71xG6afyOc/5dzR+ydV6D8Fv3ArHs7mP2dE7wDWruQ/CIbueuK/4j8S2ePN7TbhP5w/Fwzd+98/nI//8bz/3T9KSmBUrsrcP1rfrGylQ9w/nZzwbidD3T+9BWtO/ODeP9ZT4OVNjOA/M6mj97IH4T90F3I6TJ3fP77/3VqgA9w/0bqPZHzO2D+c+ALJCkbWP2GFRiWyKNQ/snVrXLt20j8=",
                    "dtype": "f8"
                  },
                  "yaxis": "y2"
                },
                {
                  "marker": {
                    "color": "steelblue"
                  },
                  "type": "bar",
                  "x": [
                    0,
                    1,
                    2,
                    3,
                    4,
                    5,
                    6,
                    7,
                    8,
                    9,
                    10,
                    11,
                    12,
                    13,
                    14,
                    15,
                    16,
                    17,
                    18,
                    19,
                    20,
                    21,
                    22,
                    23,
                    24,
                    25,
                    26,
                    27,
                    28,
                    29,
                    30
                  ],
                  "xaxis": "x3",
                  "y": {
                    "bdata": "AAAAAAAA8D+LKHDetozuP01B27VN+tC/0iC2JoFmrD+hHaQ8AN67Pw88iNKoxLQ/c6E5F83lcD98420oXf3DP1WqjQ2hjLo/kPfeJGV70j9iOjBkSnzKP4rCe5BW3c4/fTSB3oE5xL/gJgHhg/zmvy78ygo06La/xfa8IZVdzD8JunCoTzvBP/cjyOX9mL0/Cj6wbivwyD/DGDevdb64P4446upV4Mm/FTlOo6r4t7+Vr0yyOB7Wv6PZcnj4Lbu/rJGcdY3H0T/RZurvnhiuP0WvcGDANIQ/FsNaJopszj+iiZOdGxS4PxyQYCp14cK/o/GCZFckyL8=",
                    "dtype": "f8"
                  },
                  "yaxis": "y3"
                },
                {
                  "line": {
                    "color": "gray",
                    "dash": "dash"
                  },
                  "mode": "lines",
                  "showlegend": false,
                  "type": "scatter",
                  "x": [
                    0,
                    1,
                    2,
                    3,
                    4,
                    5,
                    6,
                    7,
                    8,
                    9,
                    10,
                    11,
                    12,
                    13,
                    14,
                    15,
                    16,
                    17,
                    18,
                    19,
                    20,
                    21,
                    22,
                    23,
                    24,
                    25,
                    26,
                    27,
                    28,
                    29,
                    30
                  ],
                  "xaxis": "x2",
                  "y": [
                    0.16333333333333333,
                    0.16333333333333333,
                    0.16333333333333333,
                    0.16333333333333333,
                    0.16333333333333333,
                    0.16333333333333333,
                    0.16333333333333333,
                    0.16333333333333333,
                    0.16333333333333333,
                    0.16333333333333333,
                    0.16333333333333333,
                    0.16333333333333333,
                    0.16333333333333333,
                    0.16333333333333333,
                    0.16333333333333333,
                    0.16333333333333333,
                    0.16333333333333333,
                    0.16333333333333333,
                    0.16333333333333333,
                    0.16333333333333333,
                    0.16333333333333333,
                    0.16333333333333333,
                    0.16333333333333333,
                    0.16333333333333333,
                    0.16333333333333333,
                    0.16333333333333333,
                    0.16333333333333333,
                    0.16333333333333333,
                    0.16333333333333333,
                    0.16333333333333333,
                    0.16333333333333333
                  ],
                  "yaxis": "y2"
                },
                {
                  "line": {
                    "color": "gray",
                    "dash": "dash"
                  },
                  "mode": "lines",
                  "showlegend": false,
                  "type": "scatter",
                  "x": [
                    0,
                    1,
                    2,
                    3,
                    4,
                    5,
                    6,
                    7,
                    8,
                    9,
                    10,
                    11,
                    12,
                    13,
                    14,
                    15,
                    16,
                    17,
                    18,
                    19,
                    20,
                    21,
                    22,
                    23,
                    24,
                    25,
                    26,
                    27,
                    28,
                    29,
                    30
                  ],
                  "xaxis": "x2",
                  "y": [
                    -0.16333333333333333,
                    -0.16333333333333333,
                    -0.16333333333333333,
                    -0.16333333333333333,
                    -0.16333333333333333,
                    -0.16333333333333333,
                    -0.16333333333333333,
                    -0.16333333333333333,
                    -0.16333333333333333,
                    -0.16333333333333333,
                    -0.16333333333333333,
                    -0.16333333333333333,
                    -0.16333333333333333,
                    -0.16333333333333333,
                    -0.16333333333333333,
                    -0.16333333333333333,
                    -0.16333333333333333,
                    -0.16333333333333333,
                    -0.16333333333333333,
                    -0.16333333333333333,
                    -0.16333333333333333,
                    -0.16333333333333333,
                    -0.16333333333333333,
                    -0.16333333333333333,
                    -0.16333333333333333,
                    -0.16333333333333333,
                    -0.16333333333333333,
                    -0.16333333333333333,
                    -0.16333333333333333,
                    -0.16333333333333333,
                    -0.16333333333333333
                  ],
                  "yaxis": "y2"
                },
                {
                  "line": {
                    "color": "gray",
                    "dash": "dash"
                  },
                  "mode": "lines",
                  "showlegend": false,
                  "type": "scatter",
                  "x": [
                    0,
                    1,
                    2,
                    3,
                    4,
                    5,
                    6,
                    7,
                    8,
                    9,
                    10,
                    11,
                    12,
                    13,
                    14,
                    15,
                    16,
                    17,
                    18,
                    19,
                    20,
                    21,
                    22,
                    23,
                    24,
                    25,
                    26,
                    27,
                    28,
                    29,
                    30
                  ],
                  "xaxis": "x3",
                  "y": [
                    0.16333333333333333,
                    0.16333333333333333,
                    0.16333333333333333,
                    0.16333333333333333,
                    0.16333333333333333,
                    0.16333333333333333,
                    0.16333333333333333,
                    0.16333333333333333,
                    0.16333333333333333,
                    0.16333333333333333,
                    0.16333333333333333,
                    0.16333333333333333,
                    0.16333333333333333,
                    0.16333333333333333,
                    0.16333333333333333,
                    0.16333333333333333,
                    0.16333333333333333,
                    0.16333333333333333,
                    0.16333333333333333,
                    0.16333333333333333,
                    0.16333333333333333,
                    0.16333333333333333,
                    0.16333333333333333,
                    0.16333333333333333,
                    0.16333333333333333,
                    0.16333333333333333,
                    0.16333333333333333,
                    0.16333333333333333,
                    0.16333333333333333,
                    0.16333333333333333,
                    0.16333333333333333
                  ],
                  "yaxis": "y3"
                },
                {
                  "line": {
                    "color": "gray",
                    "dash": "dash"
                  },
                  "mode": "lines",
                  "showlegend": false,
                  "type": "scatter",
                  "x": [
                    0,
                    1,
                    2,
                    3,
                    4,
                    5,
                    6,
                    7,
                    8,
                    9,
                    10,
                    11,
                    12,
                    13,
                    14,
                    15,
                    16,
                    17,
                    18,
                    19,
                    20,
                    21,
                    22,
                    23,
                    24,
                    25,
                    26,
                    27,
                    28,
                    29,
                    30
                  ],
                  "xaxis": "x3",
                  "y": [
                    -0.16333333333333333,
                    -0.16333333333333333,
                    -0.16333333333333333,
                    -0.16333333333333333,
                    -0.16333333333333333,
                    -0.16333333333333333,
                    -0.16333333333333333,
                    -0.16333333333333333,
                    -0.16333333333333333,
                    -0.16333333333333333,
                    -0.16333333333333333,
                    -0.16333333333333333,
                    -0.16333333333333333,
                    -0.16333333333333333,
                    -0.16333333333333333,
                    -0.16333333333333333,
                    -0.16333333333333333,
                    -0.16333333333333333,
                    -0.16333333333333333,
                    -0.16333333333333333,
                    -0.16333333333333333,
                    -0.16333333333333333,
                    -0.16333333333333333,
                    -0.16333333333333333,
                    -0.16333333333333333,
                    -0.16333333333333333,
                    -0.16333333333333333,
                    -0.16333333333333333,
                    -0.16333333333333333,
                    -0.16333333333333333,
                    -0.16333333333333333
                  ],
                  "yaxis": "y3"
                },
                {
                  "line": {
                    "color": "orange"
                  },
                  "mode": "lines",
                  "name": "First Diff",
                  "type": "scatter",
                  "x": [
                    "1949-02-01T00:00:00.000000000",
                    "1949-03-01T00:00:00.000000000",
                    "1949-04-01T00:00:00.000000000",
                    "1949-05-01T00:00:00.000000000",
                    "1949-06-01T00:00:00.000000000",
                    "1949-07-01T00:00:00.000000000",
                    "1949-08-01T00:00:00.000000000",
                    "1949-09-01T00:00:00.000000000",
                    "1949-10-01T00:00:00.000000000",
                    "1949-11-01T00:00:00.000000000",
                    "1949-12-01T00:00:00.000000000",
                    "1950-01-01T00:00:00.000000000",
                    "1950-02-01T00:00:00.000000000",
                    "1950-03-01T00:00:00.000000000",
                    "1950-04-01T00:00:00.000000000",
                    "1950-05-01T00:00:00.000000000",
                    "1950-06-01T00:00:00.000000000",
                    "1950-07-01T00:00:00.000000000",
                    "1950-08-01T00:00:00.000000000",
                    "1950-09-01T00:00:00.000000000",
                    "1950-10-01T00:00:00.000000000",
                    "1950-11-01T00:00:00.000000000",
                    "1950-12-01T00:00:00.000000000",
                    "1951-01-01T00:00:00.000000000",
                    "1951-02-01T00:00:00.000000000",
                    "1951-03-01T00:00:00.000000000",
                    "1951-04-01T00:00:00.000000000",
                    "1951-05-01T00:00:00.000000000",
                    "1951-06-01T00:00:00.000000000",
                    "1951-07-01T00:00:00.000000000",
                    "1951-08-01T00:00:00.000000000",
                    "1951-09-01T00:00:00.000000000",
                    "1951-10-01T00:00:00.000000000",
                    "1951-11-01T00:00:00.000000000",
                    "1951-12-01T00:00:00.000000000",
                    "1952-01-01T00:00:00.000000000",
                    "1952-02-01T00:00:00.000000000",
                    "1952-03-01T00:00:00.000000000",
                    "1952-04-01T00:00:00.000000000",
                    "1952-05-01T00:00:00.000000000",
                    "1952-06-01T00:00:00.000000000",
                    "1952-07-01T00:00:00.000000000",
                    "1952-08-01T00:00:00.000000000",
                    "1952-09-01T00:00:00.000000000",
                    "1952-10-01T00:00:00.000000000",
                    "1952-11-01T00:00:00.000000000",
                    "1952-12-01T00:00:00.000000000",
                    "1953-01-01T00:00:00.000000000",
                    "1953-02-01T00:00:00.000000000",
                    "1953-03-01T00:00:00.000000000",
                    "1953-04-01T00:00:00.000000000",
                    "1953-05-01T00:00:00.000000000",
                    "1953-06-01T00:00:00.000000000",
                    "1953-07-01T00:00:00.000000000",
                    "1953-08-01T00:00:00.000000000",
                    "1953-09-01T00:00:00.000000000",
                    "1953-10-01T00:00:00.000000000",
                    "1953-11-01T00:00:00.000000000",
                    "1953-12-01T00:00:00.000000000",
                    "1954-01-01T00:00:00.000000000",
                    "1954-02-01T00:00:00.000000000",
                    "1954-03-01T00:00:00.000000000",
                    "1954-04-01T00:00:00.000000000",
                    "1954-05-01T00:00:00.000000000",
                    "1954-06-01T00:00:00.000000000",
                    "1954-07-01T00:00:00.000000000",
                    "1954-08-01T00:00:00.000000000",
                    "1954-09-01T00:00:00.000000000",
                    "1954-10-01T00:00:00.000000000",
                    "1954-11-01T00:00:00.000000000",
                    "1954-12-01T00:00:00.000000000",
                    "1955-01-01T00:00:00.000000000",
                    "1955-02-01T00:00:00.000000000",
                    "1955-03-01T00:00:00.000000000",
                    "1955-04-01T00:00:00.000000000",
                    "1955-05-01T00:00:00.000000000",
                    "1955-06-01T00:00:00.000000000",
                    "1955-07-01T00:00:00.000000000",
                    "1955-08-01T00:00:00.000000000",
                    "1955-09-01T00:00:00.000000000",
                    "1955-10-01T00:00:00.000000000",
                    "1955-11-01T00:00:00.000000000",
                    "1955-12-01T00:00:00.000000000",
                    "1956-01-01T00:00:00.000000000",
                    "1956-02-01T00:00:00.000000000",
                    "1956-03-01T00:00:00.000000000",
                    "1956-04-01T00:00:00.000000000",
                    "1956-05-01T00:00:00.000000000",
                    "1956-06-01T00:00:00.000000000",
                    "1956-07-01T00:00:00.000000000",
                    "1956-08-01T00:00:00.000000000",
                    "1956-09-01T00:00:00.000000000",
                    "1956-10-01T00:00:00.000000000",
                    "1956-11-01T00:00:00.000000000",
                    "1956-12-01T00:00:00.000000000",
                    "1957-01-01T00:00:00.000000000",
                    "1957-02-01T00:00:00.000000000",
                    "1957-03-01T00:00:00.000000000",
                    "1957-04-01T00:00:00.000000000",
                    "1957-05-01T00:00:00.000000000",
                    "1957-06-01T00:00:00.000000000",
                    "1957-07-01T00:00:00.000000000",
                    "1957-08-01T00:00:00.000000000",
                    "1957-09-01T00:00:00.000000000",
                    "1957-10-01T00:00:00.000000000",
                    "1957-11-01T00:00:00.000000000",
                    "1957-12-01T00:00:00.000000000",
                    "1958-01-01T00:00:00.000000000",
                    "1958-02-01T00:00:00.000000000",
                    "1958-03-01T00:00:00.000000000",
                    "1958-04-01T00:00:00.000000000",
                    "1958-05-01T00:00:00.000000000",
                    "1958-06-01T00:00:00.000000000",
                    "1958-07-01T00:00:00.000000000",
                    "1958-08-01T00:00:00.000000000",
                    "1958-09-01T00:00:00.000000000",
                    "1958-10-01T00:00:00.000000000",
                    "1958-11-01T00:00:00.000000000",
                    "1958-12-01T00:00:00.000000000",
                    "1959-01-01T00:00:00.000000000",
                    "1959-02-01T00:00:00.000000000",
                    "1959-03-01T00:00:00.000000000",
                    "1959-04-01T00:00:00.000000000",
                    "1959-05-01T00:00:00.000000000",
                    "1959-06-01T00:00:00.000000000",
                    "1959-07-01T00:00:00.000000000",
                    "1959-08-01T00:00:00.000000000",
                    "1959-09-01T00:00:00.000000000",
                    "1959-10-01T00:00:00.000000000",
                    "1959-11-01T00:00:00.000000000",
                    "1959-12-01T00:00:00.000000000",
                    "1960-01-01T00:00:00.000000000",
                    "1960-02-01T00:00:00.000000000",
                    "1960-03-01T00:00:00.000000000",
                    "1960-04-01T00:00:00.000000000",
                    "1960-05-01T00:00:00.000000000",
                    "1960-06-01T00:00:00.000000000",
                    "1960-07-01T00:00:00.000000000",
                    "1960-08-01T00:00:00.000000000",
                    "1960-09-01T00:00:00.000000000",
                    "1960-10-01T00:00:00.000000000",
                    "1960-11-01T00:00:00.000000000",
                    "1960-12-01T00:00:00.000000000"
                  ],
                  "xaxis": "x4",
                  "y": {
                    "bdata": "AAAAAAAAGEAAAAAAAAAsQAAAAAAAAAjAAAAAAAAAIMAAAAAAAAAsQAAAAAAAACpAAAAAAAAAAAAAAAAAAAAowAAAAAAAADHAAAAAAAAALsAAAAAAAAAsQAAAAAAAAAjAAAAAAAAAJkAAAAAAAAAuQAAAAAAAABjAAAAAAAAAJMAAAAAAAAA4QAAAAAAAADVAAAAAAAAAAAAAAAAAAAAowAAAAAAAADnAAAAAAAAAM8AAAAAAAAA6QAAAAAAAABRAAAAAAAAAFEAAAAAAAAA8QAAAAAAAAC7AAAAAAAAAIkAAAAAAAAAYQAAAAAAAADVAAAAAAAAAAAAAAAAAAAAuwAAAAAAAADbAAAAAAAAAMMAAAAAAAAA0QAAAAAAAABRAAAAAAAAAIkAAAAAAAAAqQAAAAAAAACjAAAAAAAAAAEAAAAAAAIBBQAAAAAAAAChAAAAAAAAAKEAAAAAAAIBAwAAAAAAAADLAAAAAAAAAM8AAAAAAAAA2QAAAAAAAAABAAAAAAAAAAAAAAAAAAABEQAAAAAAAAPC/AAAAAAAAGMAAAAAAAAAsQAAAAAAAADVAAAAAAAAAIEAAAAAAAIBBwAAAAAAAADrAAAAAAAAAP8AAAAAAAAA1QAAAAAAAAAhAAAAAAAAAMMAAAAAAAIBHQAAAAAAAACDAAAAAAAAAHEAAAAAAAAA+QAAAAAAAAENAAAAAAAAAIsAAAAAAAABBwAAAAAAAAD7AAAAAAAAAOsAAAAAAAAA6QAAAAAAAACpAAAAAAAAAIsAAAAAAAABBQAAAAAAAAABAAAAAAAAA8D8AAAAAAIBGQAAAAAAAgEhAAAAAAAAAMcAAAAAAAIBBwAAAAAAAAEPAAAAAAACAQsAAAAAAAIBEQAAAAAAAABhAAAAAAAAAHMAAAAAAAABEQAAAAAAAABDAAAAAAAAAFEAAAAAAAABMQAAAAAAAgENAAAAAAAAAIMAAAAAAAABJwAAAAAAAgEjAAAAAAACAQcAAAAAAAIBBQAAAAAAAACJAAAAAAAAALMAAAAAAAIBLQAAAAAAAACDAAAAAAAAAHEAAAAAAAMBQQAAAAAAAgEVAAAAAAAAAAEAAAAAAAIBPwAAAAAAAgEzAAAAAAAAARcAAAAAAAAA/QAAAAAAAABBAAAAAAAAANsAAAAAAAABGQAAAAAAAACzAAAAAAAAALkAAAAAAAABSQAAAAAAAAExAAAAAAAAALEAAAAAAAEBZwAAAAAAAgEbAAAAAAACASMAAAAAAAAA7QAAAAAAAADdAAAAAAAAAMsAAAAAAAABQQAAAAAAAACTAAAAAAAAAOEAAAAAAAABKQAAAAAAAAFNAAAAAAAAAJkAAAAAAAABYwAAAAAAAAEzAAAAAAACARsAAAAAAAIBFQAAAAAAAAChAAAAAAAAAOsAAAAAAAAA8QAAAAAAAAEVAAAAAAAAAJkAAAAAAAIBPQAAAAAAAwFVAAAAAAAAAMMAAAAAAAIBYwAAAAAAAgEfAAAAAAADAUcAAAAAAAABFQA==",
                    "dtype": "f8"
                  },
                  "yaxis": "y4"
                },
                {
                  "marker": {
                    "color": "orange"
                  },
                  "type": "bar",
                  "x": [
                    0,
                    1,
                    2,
                    3,
                    4,
                    5,
                    6,
                    7,
                    8,
                    9,
                    10,
                    11,
                    12,
                    13,
                    14,
                    15,
                    16,
                    17,
                    18,
                    19,
                    20,
                    21,
                    22,
                    23,
                    24,
                    25,
                    26,
                    27,
                    28,
                    29,
                    30
                  ],
                  "xaxis": "x5",
                  "y": {
                    "bdata": "AAAAAAAA8D9n2ksF+2HTPzWYV3pXJrq/R+99swzizr+dgGGIxznTv+wVdDcmFbi/RR5a5M8UtL/staiYDKW3v2Y8wXIH3tK/LfREOTCMyL/jIKxJ2Nu6vyUEl9qKG9I/XDLHAaCI6j8TOsTKQjXSP2HCa3+LEru/N4iTRMluzL/a76lF5pPNv1FDW8oJ46+/pN8cz4DxsL/XVArdbyS3v55nIeHXA9O/Y/qbzmbUxL94A8QaEz+1v9LZYeJIWtA/oFuq7kpv5j8qNW0V63LQP9q60R5IIrm/zRg2yikYyb+E2d62eUTGv9P64RYVubG/pdptpxhXpb8=",
                    "dtype": "f8"
                  },
                  "yaxis": "y5"
                },
                {
                  "marker": {
                    "color": "orange"
                  },
                  "type": "bar",
                  "x": [
                    0,
                    1,
                    2,
                    3,
                    4,
                    5,
                    6,
                    7,
                    8,
                    9,
                    10,
                    11,
                    12,
                    13,
                    14,
                    15,
                    16,
                    17,
                    18,
                    19,
                    20,
                    21,
                    22,
                    23,
                    24,
                    25,
                    26,
                    27,
                    28,
                    29,
                    30
                  ],
                  "xaxis": "x6",
                  "y": {
                    "bdata": "AAAAAAAA8D8zhyaQ7ITTP3YPT+Bkv8u/RtfcJ9UCxb+d1nFijknNv/GqMXlB5oQ/y5ohwGqmyb9MbOPHw/fEv/PVSCt2at+/hfTEwh7c0b94qlxPk4jlv+KwY/ERytq/lzm31a9x4z8rY7RnnVqrv7omo5Y5P9O/3n8Kjyy6lD/WNkS8Ob7BPwbs4pVFO7c/MGqsItc1v7+qeEiJbG2FP3dD6jhV28u/ou4cjhkvv7+9qNG8pmRsP6Wsz8yN/7K/NPIqvk2HxL+XD/ys9rHFv/Xvpn6dIMO/7LkDnDNilr9HuJsX55nEvxfJ6vbjqt6/+D8njuVQ2r8=",
                    "dtype": "f8"
                  },
                  "yaxis": "y6"
                },
                {
                  "line": {
                    "color": "gray",
                    "dash": "dash"
                  },
                  "mode": "lines",
                  "showlegend": false,
                  "type": "scatter",
                  "x": [
                    0,
                    1,
                    2,
                    3,
                    4,
                    5,
                    6,
                    7,
                    8,
                    9,
                    10,
                    11,
                    12,
                    13,
                    14,
                    15,
                    16,
                    17,
                    18,
                    19,
                    20,
                    21,
                    22,
                    23,
                    24,
                    25,
                    26,
                    27,
                    28,
                    29,
                    30
                  ],
                  "xaxis": "x5",
                  "y": [
                    0.1639034339613898,
                    0.1639034339613898,
                    0.1639034339613898,
                    0.1639034339613898,
                    0.1639034339613898,
                    0.1639034339613898,
                    0.1639034339613898,
                    0.1639034339613898,
                    0.1639034339613898,
                    0.1639034339613898,
                    0.1639034339613898,
                    0.1639034339613898,
                    0.1639034339613898,
                    0.1639034339613898,
                    0.1639034339613898,
                    0.1639034339613898,
                    0.1639034339613898,
                    0.1639034339613898,
                    0.1639034339613898,
                    0.1639034339613898,
                    0.1639034339613898,
                    0.1639034339613898,
                    0.1639034339613898,
                    0.1639034339613898,
                    0.1639034339613898,
                    0.1639034339613898,
                    0.1639034339613898,
                    0.1639034339613898,
                    0.1639034339613898,
                    0.1639034339613898,
                    0.1639034339613898
                  ],
                  "yaxis": "y5"
                },
                {
                  "line": {
                    "color": "gray",
                    "dash": "dash"
                  },
                  "mode": "lines",
                  "showlegend": false,
                  "type": "scatter",
                  "x": [
                    0,
                    1,
                    2,
                    3,
                    4,
                    5,
                    6,
                    7,
                    8,
                    9,
                    10,
                    11,
                    12,
                    13,
                    14,
                    15,
                    16,
                    17,
                    18,
                    19,
                    20,
                    21,
                    22,
                    23,
                    24,
                    25,
                    26,
                    27,
                    28,
                    29,
                    30
                  ],
                  "xaxis": "x5",
                  "y": [
                    -0.1639034339613898,
                    -0.1639034339613898,
                    -0.1639034339613898,
                    -0.1639034339613898,
                    -0.1639034339613898,
                    -0.1639034339613898,
                    -0.1639034339613898,
                    -0.1639034339613898,
                    -0.1639034339613898,
                    -0.1639034339613898,
                    -0.1639034339613898,
                    -0.1639034339613898,
                    -0.1639034339613898,
                    -0.1639034339613898,
                    -0.1639034339613898,
                    -0.1639034339613898,
                    -0.1639034339613898,
                    -0.1639034339613898,
                    -0.1639034339613898,
                    -0.1639034339613898,
                    -0.1639034339613898,
                    -0.1639034339613898,
                    -0.1639034339613898,
                    -0.1639034339613898,
                    -0.1639034339613898,
                    -0.1639034339613898,
                    -0.1639034339613898,
                    -0.1639034339613898,
                    -0.1639034339613898,
                    -0.1639034339613898,
                    -0.1639034339613898
                  ],
                  "yaxis": "y5"
                },
                {
                  "line": {
                    "color": "gray",
                    "dash": "dash"
                  },
                  "mode": "lines",
                  "showlegend": false,
                  "type": "scatter",
                  "x": [
                    0,
                    1,
                    2,
                    3,
                    4,
                    5,
                    6,
                    7,
                    8,
                    9,
                    10,
                    11,
                    12,
                    13,
                    14,
                    15,
                    16,
                    17,
                    18,
                    19,
                    20,
                    21,
                    22,
                    23,
                    24,
                    25,
                    26,
                    27,
                    28,
                    29,
                    30
                  ],
                  "xaxis": "x6",
                  "y": [
                    0.1639034339613898,
                    0.1639034339613898,
                    0.1639034339613898,
                    0.1639034339613898,
                    0.1639034339613898,
                    0.1639034339613898,
                    0.1639034339613898,
                    0.1639034339613898,
                    0.1639034339613898,
                    0.1639034339613898,
                    0.1639034339613898,
                    0.1639034339613898,
                    0.1639034339613898,
                    0.1639034339613898,
                    0.1639034339613898,
                    0.1639034339613898,
                    0.1639034339613898,
                    0.1639034339613898,
                    0.1639034339613898,
                    0.1639034339613898,
                    0.1639034339613898,
                    0.1639034339613898,
                    0.1639034339613898,
                    0.1639034339613898,
                    0.1639034339613898,
                    0.1639034339613898,
                    0.1639034339613898,
                    0.1639034339613898,
                    0.1639034339613898,
                    0.1639034339613898,
                    0.1639034339613898
                  ],
                  "yaxis": "y6"
                },
                {
                  "line": {
                    "color": "gray",
                    "dash": "dash"
                  },
                  "mode": "lines",
                  "showlegend": false,
                  "type": "scatter",
                  "x": [
                    0,
                    1,
                    2,
                    3,
                    4,
                    5,
                    6,
                    7,
                    8,
                    9,
                    10,
                    11,
                    12,
                    13,
                    14,
                    15,
                    16,
                    17,
                    18,
                    19,
                    20,
                    21,
                    22,
                    23,
                    24,
                    25,
                    26,
                    27,
                    28,
                    29,
                    30
                  ],
                  "xaxis": "x6",
                  "y": [
                    -0.1639034339613898,
                    -0.1639034339613898,
                    -0.1639034339613898,
                    -0.1639034339613898,
                    -0.1639034339613898,
                    -0.1639034339613898,
                    -0.1639034339613898,
                    -0.1639034339613898,
                    -0.1639034339613898,
                    -0.1639034339613898,
                    -0.1639034339613898,
                    -0.1639034339613898,
                    -0.1639034339613898,
                    -0.1639034339613898,
                    -0.1639034339613898,
                    -0.1639034339613898,
                    -0.1639034339613898,
                    -0.1639034339613898,
                    -0.1639034339613898,
                    -0.1639034339613898,
                    -0.1639034339613898,
                    -0.1639034339613898,
                    -0.1639034339613898,
                    -0.1639034339613898,
                    -0.1639034339613898,
                    -0.1639034339613898,
                    -0.1639034339613898,
                    -0.1639034339613898,
                    -0.1639034339613898,
                    -0.1639034339613898,
                    -0.1639034339613898
                  ],
                  "yaxis": "y6"
                },
                {
                  "line": {
                    "color": "purple"
                  },
                  "mode": "lines",
                  "name": "Full Diff",
                  "type": "scatter",
                  "x": [
                    "1950-02-01T00:00:00.000000000",
                    "1950-03-01T00:00:00.000000000",
                    "1950-04-01T00:00:00.000000000",
                    "1950-05-01T00:00:00.000000000",
                    "1950-06-01T00:00:00.000000000",
                    "1950-07-01T00:00:00.000000000",
                    "1950-08-01T00:00:00.000000000",
                    "1950-09-01T00:00:00.000000000",
                    "1950-10-01T00:00:00.000000000",
                    "1950-11-01T00:00:00.000000000",
                    "1950-12-01T00:00:00.000000000",
                    "1951-01-01T00:00:00.000000000",
                    "1951-02-01T00:00:00.000000000",
                    "1951-03-01T00:00:00.000000000",
                    "1951-04-01T00:00:00.000000000",
                    "1951-05-01T00:00:00.000000000",
                    "1951-06-01T00:00:00.000000000",
                    "1951-07-01T00:00:00.000000000",
                    "1951-08-01T00:00:00.000000000",
                    "1951-09-01T00:00:00.000000000",
                    "1951-10-01T00:00:00.000000000",
                    "1951-11-01T00:00:00.000000000",
                    "1951-12-01T00:00:00.000000000",
                    "1952-01-01T00:00:00.000000000",
                    "1952-02-01T00:00:00.000000000",
                    "1952-03-01T00:00:00.000000000",
                    "1952-04-01T00:00:00.000000000",
                    "1952-05-01T00:00:00.000000000",
                    "1952-06-01T00:00:00.000000000",
                    "1952-07-01T00:00:00.000000000",
                    "1952-08-01T00:00:00.000000000",
                    "1952-09-01T00:00:00.000000000",
                    "1952-10-01T00:00:00.000000000",
                    "1952-11-01T00:00:00.000000000",
                    "1952-12-01T00:00:00.000000000",
                    "1953-01-01T00:00:00.000000000",
                    "1953-02-01T00:00:00.000000000",
                    "1953-03-01T00:00:00.000000000",
                    "1953-04-01T00:00:00.000000000",
                    "1953-05-01T00:00:00.000000000",
                    "1953-06-01T00:00:00.000000000",
                    "1953-07-01T00:00:00.000000000",
                    "1953-08-01T00:00:00.000000000",
                    "1953-09-01T00:00:00.000000000",
                    "1953-10-01T00:00:00.000000000",
                    "1953-11-01T00:00:00.000000000",
                    "1953-12-01T00:00:00.000000000",
                    "1954-01-01T00:00:00.000000000",
                    "1954-02-01T00:00:00.000000000",
                    "1954-03-01T00:00:00.000000000",
                    "1954-04-01T00:00:00.000000000",
                    "1954-05-01T00:00:00.000000000",
                    "1954-06-01T00:00:00.000000000",
                    "1954-07-01T00:00:00.000000000",
                    "1954-08-01T00:00:00.000000000",
                    "1954-09-01T00:00:00.000000000",
                    "1954-10-01T00:00:00.000000000",
                    "1954-11-01T00:00:00.000000000",
                    "1954-12-01T00:00:00.000000000",
                    "1955-01-01T00:00:00.000000000",
                    "1955-02-01T00:00:00.000000000",
                    "1955-03-01T00:00:00.000000000",
                    "1955-04-01T00:00:00.000000000",
                    "1955-05-01T00:00:00.000000000",
                    "1955-06-01T00:00:00.000000000",
                    "1955-07-01T00:00:00.000000000",
                    "1955-08-01T00:00:00.000000000",
                    "1955-09-01T00:00:00.000000000",
                    "1955-10-01T00:00:00.000000000",
                    "1955-11-01T00:00:00.000000000",
                    "1955-12-01T00:00:00.000000000",
                    "1956-01-01T00:00:00.000000000",
                    "1956-02-01T00:00:00.000000000",
                    "1956-03-01T00:00:00.000000000",
                    "1956-04-01T00:00:00.000000000",
                    "1956-05-01T00:00:00.000000000",
                    "1956-06-01T00:00:00.000000000",
                    "1956-07-01T00:00:00.000000000",
                    "1956-08-01T00:00:00.000000000",
                    "1956-09-01T00:00:00.000000000",
                    "1956-10-01T00:00:00.000000000",
                    "1956-11-01T00:00:00.000000000",
                    "1956-12-01T00:00:00.000000000",
                    "1957-01-01T00:00:00.000000000",
                    "1957-02-01T00:00:00.000000000",
                    "1957-03-01T00:00:00.000000000",
                    "1957-04-01T00:00:00.000000000",
                    "1957-05-01T00:00:00.000000000",
                    "1957-06-01T00:00:00.000000000",
                    "1957-07-01T00:00:00.000000000",
                    "1957-08-01T00:00:00.000000000",
                    "1957-09-01T00:00:00.000000000",
                    "1957-10-01T00:00:00.000000000",
                    "1957-11-01T00:00:00.000000000",
                    "1957-12-01T00:00:00.000000000",
                    "1958-01-01T00:00:00.000000000",
                    "1958-02-01T00:00:00.000000000",
                    "1958-03-01T00:00:00.000000000",
                    "1958-04-01T00:00:00.000000000",
                    "1958-05-01T00:00:00.000000000",
                    "1958-06-01T00:00:00.000000000",
                    "1958-07-01T00:00:00.000000000",
                    "1958-08-01T00:00:00.000000000",
                    "1958-09-01T00:00:00.000000000",
                    "1958-10-01T00:00:00.000000000",
                    "1958-11-01T00:00:00.000000000",
                    "1958-12-01T00:00:00.000000000",
                    "1959-01-01T00:00:00.000000000",
                    "1959-02-01T00:00:00.000000000",
                    "1959-03-01T00:00:00.000000000",
                    "1959-04-01T00:00:00.000000000",
                    "1959-05-01T00:00:00.000000000",
                    "1959-06-01T00:00:00.000000000",
                    "1959-07-01T00:00:00.000000000",
                    "1959-08-01T00:00:00.000000000",
                    "1959-09-01T00:00:00.000000000",
                    "1959-10-01T00:00:00.000000000",
                    "1959-11-01T00:00:00.000000000",
                    "1959-12-01T00:00:00.000000000",
                    "1960-01-01T00:00:00.000000000",
                    "1960-02-01T00:00:00.000000000",
                    "1960-03-01T00:00:00.000000000",
                    "1960-04-01T00:00:00.000000000",
                    "1960-05-01T00:00:00.000000000",
                    "1960-06-01T00:00:00.000000000",
                    "1960-07-01T00:00:00.000000000",
                    "1960-08-01T00:00:00.000000000",
                    "1960-09-01T00:00:00.000000000",
                    "1960-10-01T00:00:00.000000000",
                    "1960-11-01T00:00:00.000000000",
                    "1960-12-01T00:00:00.000000000"
                  ],
                  "xaxis": "x7",
                  "y": {
                    "bdata": "AAAAAAAAFEAAAAAAAADwPwAAAAAAAAjAAAAAAAAAAMAAAAAAAAAkQAAAAAAAACBAAAAAAAAAAAAAAAAAAAAAAAAAAAAAACDAAAAAAAAAEMAAAAAAAAAoQAAAAAAAACBAAAAAAAAAGMAAAAAAAAAqQAAAAAAAACLAAAAAAAAAM0AAAAAAAAAywAAAAAAAAAAAAAAAAAAAAAAAAAAAAAAIwAAAAAAAAAhAAAAAAAAACEAAAAAAAAAYwAAAAAAAAAAAAAAAAAAAEEAAAAAAAAAuwAAAAAAAAAhAAAAAAAAAHMAAAAAAAAA9QAAAAAAAACLAAAAAAAAAKEAAAAAAAAAywAAAAAAAABBAAAAAAAAACMAAAAAAAAAAQAAAAAAAAAjAAAAAAAAAIsAAAAAAAAA7QAAAAAAAACZAAAAAAAAAIMAAAAAAAAA1wAAAAAAAACJAAAAAAAAAEMAAAAAAAAAAwAAAAAAAACDAAAAAAAAAKMAAAAAAAADwvwAAAAAAAPA/AAAAAAAAMMAAAAAAAAAcQAAAAAAAABzAAAAAAAAAKkAAAAAAAAAwQAAAAAAAADFAAAAAAAAAMcAAAAAAAADwPwAAAAAAABDAAAAAAAAAFEAAAAAAAAAUQAAAAAAAACRAAAAAAAAAHEAAAAAAAAAqwAAAAAAAACRAAAAAAAAAGMAAAAAAAAAuQAAAAAAAACZAAAAAAAAAIMAAAAAAAADwvwAAAAAAACDAAAAAAAAAJsAAAAAAAAAuQAAAAAAAABzAAAAAAAAAAEAAAAAAAAAYQAAAAAAAABjAAAAAAAAAEEAAAAAAAAAmQAAAAAAAACTAAAAAAAAAIkAAAAAAAAAuwAAAAAAAACbAAAAAAAAAAEAAAAAAAAAYwAAAAAAAAAhAAAAAAAAAHMAAAAAAAAAuQAAAAAAAABDAAAAAAAAAAEAAAAAAAAAmQAAAAAAAABBAAAAAAAAAJEAAAAAAAAAqwAAAAAAAACDAAAAAAAAAHMAAAAAAAAAQwAAAAAAAABTAAAAAAAAAIMAAAAAAAAAmwAAAAAAAABjAAAAAAAAAIEAAAAAAAAAUQAAAAAAAACpAAAAAAAAAKEAAAAAAAABDwAAAAAAAAChAAAAAAAAAHMAAAAAAAAAQwAAAAAAAADNAAAAAAAAAEEAAAAAAAAA0QAAAAAAAABBAAAAAAAAAIkAAAAAAAAA0wAAAAAAAADRAAAAAAAAACMAAAAAAAAAUQAAAAAAAACbAAAAAAAAAEEAAAAAAAAAwQAAAAAAAACbAAAAAAAAAIMAAAAAAAABCwAAAAAAAAEpAAAAAAAAAKsAAAAAAAAAmQAAAAAAAACZAAAAAAAAAO8AAAAAAAAAAwAAAAAAAACJAAAAAAAAAOsAAAAAAAADwvw==",
                    "dtype": "f8"
                  },
                  "yaxis": "y7"
                },
                {
                  "marker": {
                    "color": "purple"
                  },
                  "type": "bar",
                  "x": [
                    0,
                    1,
                    2,
                    3,
                    4,
                    5,
                    6,
                    7,
                    8,
                    9,
                    10,
                    11,
                    12,
                    13,
                    14,
                    15,
                    16,
                    17,
                    18,
                    19,
                    20,
                    21,
                    22,
                    23,
                    24,
                    25,
                    26,
                    27,
                    28,
                    29,
                    30
                  ],
                  "xaxis": "x8",
                  "y": {
                    "bdata": "AAAAAAAA8D+j7AjMANTTv0tsrgL0aLg/N/leadfNuL8Top8PvVe5v38Raw98O68/NVn635XcMr/aRUdPQLqsv2PNuNvnNq+/tMo2H3KExj+9d6zJqPTBv3sGk6gs2rE/3RvqCTYcwb8EkqqfP1G2P7djCl1Yb2Q/eurbgZu5sD+4T78BCPK7v+AEYx5DHza/FbnJyMiKpj90/hGpgyu9v9tUUqOQXbe/sXlDWYV5pT+GZ1aLSiLEvyEYxWWTfNA/jyd0n1MNqz8E+Ns4aSmqvy2Wxlmq2bQ/o5HKuTMZur8gbca8IttYP9XM0sHoqj8/r9UQ8zgjpL8=",
                    "dtype": "f8"
                  },
                  "yaxis": "y8"
                },
                {
                  "marker": {
                    "color": "purple"
                  },
                  "type": "bar",
                  "x": [
                    0,
                    1,
                    2,
                    3,
                    4,
                    5,
                    6,
                    7,
                    8,
                    9,
                    10,
                    11,
                    12,
                    13,
                    14,
                    15,
                    16,
                    17,
                    18,
                    19,
                    20,
                    21,
                    22,
                    23,
                    24,
                    25,
                    26,
                    27,
                    28,
                    29,
                    30
                  ],
                  "xaxis": "x9",
                  "y": {
                    "bdata": "AAAAAAAA8D8jw1eeDPvTv9+5htA4J0e/DJ12Bdebs7+Q7VO8GQ/Gv9nxbK5cUJC/ZPT4TdyHkz+CgHFA2vK3v8mC4EgdW8K//2aFDoabxT/lEC+HkIWwvwB3jCEc862/zZceWzhPwL8KtD8fvnmxPyesDoOMA3E/fzxJ8M0hpT8c4n7dBeG5v6hiNMJSN6C/eY9shpSTlz+ToGZ1GVnBvzKF2XKx7dO/uRzo0Xc3ej8Id/Tl8jPSv3u8OSl/d7o/q0HEHUCLwj8LFIvDoa+rP5w3DG8upqU/VKpHw6aPlb89sgRwDFq1v2ehwvFFHZW/580YzB3Jwb8=",
                    "dtype": "f8"
                  },
                  "yaxis": "y9"
                },
                {
                  "line": {
                    "color": "gray",
                    "dash": "dash"
                  },
                  "mode": "lines",
                  "showlegend": false,
                  "type": "scatter",
                  "x": [
                    0,
                    1,
                    2,
                    3,
                    4,
                    5,
                    6,
                    7,
                    8,
                    9,
                    10,
                    11,
                    12,
                    13,
                    14,
                    15,
                    16,
                    17,
                    18,
                    19,
                    20,
                    21,
                    22,
                    23,
                    24,
                    25,
                    26,
                    27,
                    28,
                    29,
                    30
                  ],
                  "xaxis": "x8",
                  "y": [
                    0.17124599510556343,
                    0.17124599510556343,
                    0.17124599510556343,
                    0.17124599510556343,
                    0.17124599510556343,
                    0.17124599510556343,
                    0.17124599510556343,
                    0.17124599510556343,
                    0.17124599510556343,
                    0.17124599510556343,
                    0.17124599510556343,
                    0.17124599510556343,
                    0.17124599510556343,
                    0.17124599510556343,
                    0.17124599510556343,
                    0.17124599510556343,
                    0.17124599510556343,
                    0.17124599510556343,
                    0.17124599510556343,
                    0.17124599510556343,
                    0.17124599510556343,
                    0.17124599510556343,
                    0.17124599510556343,
                    0.17124599510556343,
                    0.17124599510556343,
                    0.17124599510556343,
                    0.17124599510556343,
                    0.17124599510556343,
                    0.17124599510556343,
                    0.17124599510556343,
                    0.17124599510556343
                  ],
                  "yaxis": "y8"
                },
                {
                  "line": {
                    "color": "gray",
                    "dash": "dash"
                  },
                  "mode": "lines",
                  "showlegend": false,
                  "type": "scatter",
                  "x": [
                    0,
                    1,
                    2,
                    3,
                    4,
                    5,
                    6,
                    7,
                    8,
                    9,
                    10,
                    11,
                    12,
                    13,
                    14,
                    15,
                    16,
                    17,
                    18,
                    19,
                    20,
                    21,
                    22,
                    23,
                    24,
                    25,
                    26,
                    27,
                    28,
                    29,
                    30
                  ],
                  "xaxis": "x8",
                  "y": [
                    -0.17124599510556343,
                    -0.17124599510556343,
                    -0.17124599510556343,
                    -0.17124599510556343,
                    -0.17124599510556343,
                    -0.17124599510556343,
                    -0.17124599510556343,
                    -0.17124599510556343,
                    -0.17124599510556343,
                    -0.17124599510556343,
                    -0.17124599510556343,
                    -0.17124599510556343,
                    -0.17124599510556343,
                    -0.17124599510556343,
                    -0.17124599510556343,
                    -0.17124599510556343,
                    -0.17124599510556343,
                    -0.17124599510556343,
                    -0.17124599510556343,
                    -0.17124599510556343,
                    -0.17124599510556343,
                    -0.17124599510556343,
                    -0.17124599510556343,
                    -0.17124599510556343,
                    -0.17124599510556343,
                    -0.17124599510556343,
                    -0.17124599510556343,
                    -0.17124599510556343,
                    -0.17124599510556343,
                    -0.17124599510556343,
                    -0.17124599510556343
                  ],
                  "yaxis": "y8"
                },
                {
                  "line": {
                    "color": "gray",
                    "dash": "dash"
                  },
                  "mode": "lines",
                  "showlegend": false,
                  "type": "scatter",
                  "x": [
                    0,
                    1,
                    2,
                    3,
                    4,
                    5,
                    6,
                    7,
                    8,
                    9,
                    10,
                    11,
                    12,
                    13,
                    14,
                    15,
                    16,
                    17,
                    18,
                    19,
                    20,
                    21,
                    22,
                    23,
                    24,
                    25,
                    26,
                    27,
                    28,
                    29,
                    30
                  ],
                  "xaxis": "x9",
                  "y": [
                    0.17124599510556343,
                    0.17124599510556343,
                    0.17124599510556343,
                    0.17124599510556343,
                    0.17124599510556343,
                    0.17124599510556343,
                    0.17124599510556343,
                    0.17124599510556343,
                    0.17124599510556343,
                    0.17124599510556343,
                    0.17124599510556343,
                    0.17124599510556343,
                    0.17124599510556343,
                    0.17124599510556343,
                    0.17124599510556343,
                    0.17124599510556343,
                    0.17124599510556343,
                    0.17124599510556343,
                    0.17124599510556343,
                    0.17124599510556343,
                    0.17124599510556343,
                    0.17124599510556343,
                    0.17124599510556343,
                    0.17124599510556343,
                    0.17124599510556343,
                    0.17124599510556343,
                    0.17124599510556343,
                    0.17124599510556343,
                    0.17124599510556343,
                    0.17124599510556343,
                    0.17124599510556343
                  ],
                  "yaxis": "y9"
                },
                {
                  "line": {
                    "color": "gray",
                    "dash": "dash"
                  },
                  "mode": "lines",
                  "showlegend": false,
                  "type": "scatter",
                  "x": [
                    0,
                    1,
                    2,
                    3,
                    4,
                    5,
                    6,
                    7,
                    8,
                    9,
                    10,
                    11,
                    12,
                    13,
                    14,
                    15,
                    16,
                    17,
                    18,
                    19,
                    20,
                    21,
                    22,
                    23,
                    24,
                    25,
                    26,
                    27,
                    28,
                    29,
                    30
                  ],
                  "xaxis": "x9",
                  "y": [
                    -0.17124599510556343,
                    -0.17124599510556343,
                    -0.17124599510556343,
                    -0.17124599510556343,
                    -0.17124599510556343,
                    -0.17124599510556343,
                    -0.17124599510556343,
                    -0.17124599510556343,
                    -0.17124599510556343,
                    -0.17124599510556343,
                    -0.17124599510556343,
                    -0.17124599510556343,
                    -0.17124599510556343,
                    -0.17124599510556343,
                    -0.17124599510556343,
                    -0.17124599510556343,
                    -0.17124599510556343,
                    -0.17124599510556343,
                    -0.17124599510556343,
                    -0.17124599510556343,
                    -0.17124599510556343,
                    -0.17124599510556343,
                    -0.17124599510556343,
                    -0.17124599510556343,
                    -0.17124599510556343,
                    -0.17124599510556343,
                    -0.17124599510556343,
                    -0.17124599510556343,
                    -0.17124599510556343,
                    -0.17124599510556343,
                    -0.17124599510556343
                  ],
                  "yaxis": "y9"
                },
                {
                  "mode": "text",
                  "showlegend": false,
                  "text": [
                    "<b>Original</b>: ADF=0.8154, p=0.9919<br><b>First-Order</b>: ADF=-2.8293, p=0.0542<br><b>Seasonal (Lag 12)</b>: ADF=-3.3830, p=0.0116<br><b>First + Seasonal</b>: ADF=-15.5956, p=0.0000"
                  ],
                  "type": "scatter",
                  "x": [
                    0
                  ],
                  "xaxis": "x10",
                  "y": [
                    0
                  ],
                  "yaxis": "y10"
                }
              ],
              "layout": {
                "annotations": [
                  {
                    "font": {
                      "size": 16
                    },
                    "showarrow": false,
                    "text": "Original Series",
                    "x": 0.14444444444444446,
                    "xanchor": "center",
                    "xref": "paper",
                    "y": 1,
                    "yanchor": "bottom",
                    "yref": "paper"
                  },
                  {
                    "font": {
                      "size": 16
                    },
                    "showarrow": false,
                    "text": "ACF (Original)",
                    "x": 0.5,
                    "xanchor": "center",
                    "xref": "paper",
                    "y": 1,
                    "yanchor": "bottom",
                    "yref": "paper"
                  },
                  {
                    "font": {
                      "size": 16
                    },
                    "showarrow": false,
                    "text": "PACF (Original)",
                    "x": 0.8555555555555556,
                    "xanchor": "center",
                    "xref": "paper",
                    "y": 1,
                    "yanchor": "bottom",
                    "yref": "paper"
                  },
                  {
                    "font": {
                      "size": 16
                    },
                    "showarrow": false,
                    "text": "First-Order Differenced",
                    "x": 0.14444444444444446,
                    "xanchor": "center",
                    "xref": "paper",
                    "y": 0.71875,
                    "yanchor": "bottom",
                    "yref": "paper"
                  },
                  {
                    "font": {
                      "size": 16
                    },
                    "showarrow": false,
                    "text": "ACF (First-Diff)",
                    "x": 0.5,
                    "xanchor": "center",
                    "xref": "paper",
                    "y": 0.71875,
                    "yanchor": "bottom",
                    "yref": "paper"
                  },
                  {
                    "font": {
                      "size": 16
                    },
                    "showarrow": false,
                    "text": "PACF (First-Diff)",
                    "x": 0.8555555555555556,
                    "xanchor": "center",
                    "xref": "paper",
                    "y": 0.71875,
                    "yanchor": "bottom",
                    "yref": "paper"
                  },
                  {
                    "font": {
                      "size": 16
                    },
                    "showarrow": false,
                    "text": "First + Seasonal Differenced",
                    "x": 0.14444444444444446,
                    "xanchor": "center",
                    "xref": "paper",
                    "y": 0.4375,
                    "yanchor": "bottom",
                    "yref": "paper"
                  },
                  {
                    "font": {
                      "size": 16
                    },
                    "showarrow": false,
                    "text": "ACF (Full-Diff)",
                    "x": 0.5,
                    "xanchor": "center",
                    "xref": "paper",
                    "y": 0.4375,
                    "yanchor": "bottom",
                    "yref": "paper"
                  },
                  {
                    "font": {
                      "size": 16
                    },
                    "showarrow": false,
                    "text": "PACF (Full-Diff)",
                    "x": 0.8555555555555556,
                    "xanchor": "center",
                    "xref": "paper",
                    "y": 0.4375,
                    "yanchor": "bottom",
                    "yref": "paper"
                  },
                  {
                    "font": {
                      "size": 16
                    },
                    "showarrow": false,
                    "text": "ADF Results Summary",
                    "x": 0.14444444444444446,
                    "xanchor": "center",
                    "xref": "paper",
                    "y": 0.15625,
                    "yanchor": "bottom",
                    "yref": "paper"
                  }
                ],
                "height": 1200,
                "showlegend": false,
                "template": {
                  "data": {
                    "bar": [
                      {
                        "error_x": {
                          "color": "#2a3f5f"
                        },
                        "error_y": {
                          "color": "#2a3f5f"
                        },
                        "marker": {
                          "line": {
                            "color": "#E5ECF6",
                            "width": 0.5
                          },
                          "pattern": {
                            "fillmode": "overlay",
                            "size": 10,
                            "solidity": 0.2
                          }
                        },
                        "type": "bar"
                      }
                    ],
                    "barpolar": [
                      {
                        "marker": {
                          "line": {
                            "color": "#E5ECF6",
                            "width": 0.5
                          },
                          "pattern": {
                            "fillmode": "overlay",
                            "size": 10,
                            "solidity": 0.2
                          }
                        },
                        "type": "barpolar"
                      }
                    ],
                    "carpet": [
                      {
                        "aaxis": {
                          "endlinecolor": "#2a3f5f",
                          "gridcolor": "white",
                          "linecolor": "white",
                          "minorgridcolor": "white",
                          "startlinecolor": "#2a3f5f"
                        },
                        "baxis": {
                          "endlinecolor": "#2a3f5f",
                          "gridcolor": "white",
                          "linecolor": "white",
                          "minorgridcolor": "white",
                          "startlinecolor": "#2a3f5f"
                        },
                        "type": "carpet"
                      }
                    ],
                    "choropleth": [
                      {
                        "colorbar": {
                          "outlinewidth": 0,
                          "ticks": ""
                        },
                        "type": "choropleth"
                      }
                    ],
                    "contour": [
                      {
                        "colorbar": {
                          "outlinewidth": 0,
                          "ticks": ""
                        },
                        "colorscale": [
                          [
                            0,
                            "#0d0887"
                          ],
                          [
                            0.1111111111111111,
                            "#46039f"
                          ],
                          [
                            0.2222222222222222,
                            "#7201a8"
                          ],
                          [
                            0.3333333333333333,
                            "#9c179e"
                          ],
                          [
                            0.4444444444444444,
                            "#bd3786"
                          ],
                          [
                            0.5555555555555556,
                            "#d8576b"
                          ],
                          [
                            0.6666666666666666,
                            "#ed7953"
                          ],
                          [
                            0.7777777777777778,
                            "#fb9f3a"
                          ],
                          [
                            0.8888888888888888,
                            "#fdca26"
                          ],
                          [
                            1,
                            "#f0f921"
                          ]
                        ],
                        "type": "contour"
                      }
                    ],
                    "contourcarpet": [
                      {
                        "colorbar": {
                          "outlinewidth": 0,
                          "ticks": ""
                        },
                        "type": "contourcarpet"
                      }
                    ],
                    "heatmap": [
                      {
                        "colorbar": {
                          "outlinewidth": 0,
                          "ticks": ""
                        },
                        "colorscale": [
                          [
                            0,
                            "#0d0887"
                          ],
                          [
                            0.1111111111111111,
                            "#46039f"
                          ],
                          [
                            0.2222222222222222,
                            "#7201a8"
                          ],
                          [
                            0.3333333333333333,
                            "#9c179e"
                          ],
                          [
                            0.4444444444444444,
                            "#bd3786"
                          ],
                          [
                            0.5555555555555556,
                            "#d8576b"
                          ],
                          [
                            0.6666666666666666,
                            "#ed7953"
                          ],
                          [
                            0.7777777777777778,
                            "#fb9f3a"
                          ],
                          [
                            0.8888888888888888,
                            "#fdca26"
                          ],
                          [
                            1,
                            "#f0f921"
                          ]
                        ],
                        "type": "heatmap"
                      }
                    ],
                    "histogram": [
                      {
                        "marker": {
                          "pattern": {
                            "fillmode": "overlay",
                            "size": 10,
                            "solidity": 0.2
                          }
                        },
                        "type": "histogram"
                      }
                    ],
                    "histogram2d": [
                      {
                        "colorbar": {
                          "outlinewidth": 0,
                          "ticks": ""
                        },
                        "colorscale": [
                          [
                            0,
                            "#0d0887"
                          ],
                          [
                            0.1111111111111111,
                            "#46039f"
                          ],
                          [
                            0.2222222222222222,
                            "#7201a8"
                          ],
                          [
                            0.3333333333333333,
                            "#9c179e"
                          ],
                          [
                            0.4444444444444444,
                            "#bd3786"
                          ],
                          [
                            0.5555555555555556,
                            "#d8576b"
                          ],
                          [
                            0.6666666666666666,
                            "#ed7953"
                          ],
                          [
                            0.7777777777777778,
                            "#fb9f3a"
                          ],
                          [
                            0.8888888888888888,
                            "#fdca26"
                          ],
                          [
                            1,
                            "#f0f921"
                          ]
                        ],
                        "type": "histogram2d"
                      }
                    ],
                    "histogram2dcontour": [
                      {
                        "colorbar": {
                          "outlinewidth": 0,
                          "ticks": ""
                        },
                        "colorscale": [
                          [
                            0,
                            "#0d0887"
                          ],
                          [
                            0.1111111111111111,
                            "#46039f"
                          ],
                          [
                            0.2222222222222222,
                            "#7201a8"
                          ],
                          [
                            0.3333333333333333,
                            "#9c179e"
                          ],
                          [
                            0.4444444444444444,
                            "#bd3786"
                          ],
                          [
                            0.5555555555555556,
                            "#d8576b"
                          ],
                          [
                            0.6666666666666666,
                            "#ed7953"
                          ],
                          [
                            0.7777777777777778,
                            "#fb9f3a"
                          ],
                          [
                            0.8888888888888888,
                            "#fdca26"
                          ],
                          [
                            1,
                            "#f0f921"
                          ]
                        ],
                        "type": "histogram2dcontour"
                      }
                    ],
                    "mesh3d": [
                      {
                        "colorbar": {
                          "outlinewidth": 0,
                          "ticks": ""
                        },
                        "type": "mesh3d"
                      }
                    ],
                    "parcoords": [
                      {
                        "line": {
                          "colorbar": {
                            "outlinewidth": 0,
                            "ticks": ""
                          }
                        },
                        "type": "parcoords"
                      }
                    ],
                    "pie": [
                      {
                        "automargin": true,
                        "type": "pie"
                      }
                    ],
                    "scatter": [
                      {
                        "fillpattern": {
                          "fillmode": "overlay",
                          "size": 10,
                          "solidity": 0.2
                        },
                        "type": "scatter"
                      }
                    ],
                    "scatter3d": [
                      {
                        "line": {
                          "colorbar": {
                            "outlinewidth": 0,
                            "ticks": ""
                          }
                        },
                        "marker": {
                          "colorbar": {
                            "outlinewidth": 0,
                            "ticks": ""
                          }
                        },
                        "type": "scatter3d"
                      }
                    ],
                    "scattercarpet": [
                      {
                        "marker": {
                          "colorbar": {
                            "outlinewidth": 0,
                            "ticks": ""
                          }
                        },
                        "type": "scattercarpet"
                      }
                    ],
                    "scattergeo": [
                      {
                        "marker": {
                          "colorbar": {
                            "outlinewidth": 0,
                            "ticks": ""
                          }
                        },
                        "type": "scattergeo"
                      }
                    ],
                    "scattergl": [
                      {
                        "marker": {
                          "colorbar": {
                            "outlinewidth": 0,
                            "ticks": ""
                          }
                        },
                        "type": "scattergl"
                      }
                    ],
                    "scattermap": [
                      {
                        "marker": {
                          "colorbar": {
                            "outlinewidth": 0,
                            "ticks": ""
                          }
                        },
                        "type": "scattermap"
                      }
                    ],
                    "scattermapbox": [
                      {
                        "marker": {
                          "colorbar": {
                            "outlinewidth": 0,
                            "ticks": ""
                          }
                        },
                        "type": "scattermapbox"
                      }
                    ],
                    "scatterpolar": [
                      {
                        "marker": {
                          "colorbar": {
                            "outlinewidth": 0,
                            "ticks": ""
                          }
                        },
                        "type": "scatterpolar"
                      }
                    ],
                    "scatterpolargl": [
                      {
                        "marker": {
                          "colorbar": {
                            "outlinewidth": 0,
                            "ticks": ""
                          }
                        },
                        "type": "scatterpolargl"
                      }
                    ],
                    "scatterternary": [
                      {
                        "marker": {
                          "colorbar": {
                            "outlinewidth": 0,
                            "ticks": ""
                          }
                        },
                        "type": "scatterternary"
                      }
                    ],
                    "surface": [
                      {
                        "colorbar": {
                          "outlinewidth": 0,
                          "ticks": ""
                        },
                        "colorscale": [
                          [
                            0,
                            "#0d0887"
                          ],
                          [
                            0.1111111111111111,
                            "#46039f"
                          ],
                          [
                            0.2222222222222222,
                            "#7201a8"
                          ],
                          [
                            0.3333333333333333,
                            "#9c179e"
                          ],
                          [
                            0.4444444444444444,
                            "#bd3786"
                          ],
                          [
                            0.5555555555555556,
                            "#d8576b"
                          ],
                          [
                            0.6666666666666666,
                            "#ed7953"
                          ],
                          [
                            0.7777777777777778,
                            "#fb9f3a"
                          ],
                          [
                            0.8888888888888888,
                            "#fdca26"
                          ],
                          [
                            1,
                            "#f0f921"
                          ]
                        ],
                        "type": "surface"
                      }
                    ],
                    "table": [
                      {
                        "cells": {
                          "fill": {
                            "color": "#EBF0F8"
                          },
                          "line": {
                            "color": "white"
                          }
                        },
                        "header": {
                          "fill": {
                            "color": "#C8D4E3"
                          },
                          "line": {
                            "color": "white"
                          }
                        },
                        "type": "table"
                      }
                    ]
                  },
                  "layout": {
                    "annotationdefaults": {
                      "arrowcolor": "#2a3f5f",
                      "arrowhead": 0,
                      "arrowwidth": 1
                    },
                    "autotypenumbers": "strict",
                    "coloraxis": {
                      "colorbar": {
                        "outlinewidth": 0,
                        "ticks": ""
                      }
                    },
                    "colorscale": {
                      "diverging": [
                        [
                          0,
                          "#8e0152"
                        ],
                        [
                          0.1,
                          "#c51b7d"
                        ],
                        [
                          0.2,
                          "#de77ae"
                        ],
                        [
                          0.3,
                          "#f1b6da"
                        ],
                        [
                          0.4,
                          "#fde0ef"
                        ],
                        [
                          0.5,
                          "#f7f7f7"
                        ],
                        [
                          0.6,
                          "#e6f5d0"
                        ],
                        [
                          0.7,
                          "#b8e186"
                        ],
                        [
                          0.8,
                          "#7fbc41"
                        ],
                        [
                          0.9,
                          "#4d9221"
                        ],
                        [
                          1,
                          "#276419"
                        ]
                      ],
                      "sequential": [
                        [
                          0,
                          "#0d0887"
                        ],
                        [
                          0.1111111111111111,
                          "#46039f"
                        ],
                        [
                          0.2222222222222222,
                          "#7201a8"
                        ],
                        [
                          0.3333333333333333,
                          "#9c179e"
                        ],
                        [
                          0.4444444444444444,
                          "#bd3786"
                        ],
                        [
                          0.5555555555555556,
                          "#d8576b"
                        ],
                        [
                          0.6666666666666666,
                          "#ed7953"
                        ],
                        [
                          0.7777777777777778,
                          "#fb9f3a"
                        ],
                        [
                          0.8888888888888888,
                          "#fdca26"
                        ],
                        [
                          1,
                          "#f0f921"
                        ]
                      ],
                      "sequentialminus": [
                        [
                          0,
                          "#0d0887"
                        ],
                        [
                          0.1111111111111111,
                          "#46039f"
                        ],
                        [
                          0.2222222222222222,
                          "#7201a8"
                        ],
                        [
                          0.3333333333333333,
                          "#9c179e"
                        ],
                        [
                          0.4444444444444444,
                          "#bd3786"
                        ],
                        [
                          0.5555555555555556,
                          "#d8576b"
                        ],
                        [
                          0.6666666666666666,
                          "#ed7953"
                        ],
                        [
                          0.7777777777777778,
                          "#fb9f3a"
                        ],
                        [
                          0.8888888888888888,
                          "#fdca26"
                        ],
                        [
                          1,
                          "#f0f921"
                        ]
                      ]
                    },
                    "colorway": [
                      "#636efa",
                      "#EF553B",
                      "#00cc96",
                      "#ab63fa",
                      "#FFA15A",
                      "#19d3f3",
                      "#FF6692",
                      "#B6E880",
                      "#FF97FF",
                      "#FECB52"
                    ],
                    "font": {
                      "color": "#2a3f5f"
                    },
                    "geo": {
                      "bgcolor": "white",
                      "lakecolor": "white",
                      "landcolor": "#E5ECF6",
                      "showlakes": true,
                      "showland": true,
                      "subunitcolor": "white"
                    },
                    "hoverlabel": {
                      "align": "left"
                    },
                    "hovermode": "closest",
                    "mapbox": {
                      "style": "light"
                    },
                    "paper_bgcolor": "white",
                    "plot_bgcolor": "#E5ECF6",
                    "polar": {
                      "angularaxis": {
                        "gridcolor": "white",
                        "linecolor": "white",
                        "ticks": ""
                      },
                      "bgcolor": "#E5ECF6",
                      "radialaxis": {
                        "gridcolor": "white",
                        "linecolor": "white",
                        "ticks": ""
                      }
                    },
                    "scene": {
                      "xaxis": {
                        "backgroundcolor": "#E5ECF6",
                        "gridcolor": "white",
                        "gridwidth": 2,
                        "linecolor": "white",
                        "showbackground": true,
                        "ticks": "",
                        "zerolinecolor": "white"
                      },
                      "yaxis": {
                        "backgroundcolor": "#E5ECF6",
                        "gridcolor": "white",
                        "gridwidth": 2,
                        "linecolor": "white",
                        "showbackground": true,
                        "ticks": "",
                        "zerolinecolor": "white"
                      },
                      "zaxis": {
                        "backgroundcolor": "#E5ECF6",
                        "gridcolor": "white",
                        "gridwidth": 2,
                        "linecolor": "white",
                        "showbackground": true,
                        "ticks": "",
                        "zerolinecolor": "white"
                      }
                    },
                    "shapedefaults": {
                      "line": {
                        "color": "#2a3f5f"
                      }
                    },
                    "ternary": {
                      "aaxis": {
                        "gridcolor": "white",
                        "linecolor": "white",
                        "ticks": ""
                      },
                      "baxis": {
                        "gridcolor": "white",
                        "linecolor": "white",
                        "ticks": ""
                      },
                      "bgcolor": "#E5ECF6",
                      "caxis": {
                        "gridcolor": "white",
                        "linecolor": "white",
                        "ticks": ""
                      }
                    },
                    "title": {
                      "x": 0.05
                    },
                    "xaxis": {
                      "automargin": true,
                      "gridcolor": "white",
                      "linecolor": "white",
                      "ticks": "",
                      "title": {
                        "standoff": 15
                      },
                      "zerolinecolor": "white",
                      "zerolinewidth": 2
                    },
                    "yaxis": {
                      "automargin": true,
                      "gridcolor": "white",
                      "linecolor": "white",
                      "ticks": "",
                      "title": {
                        "standoff": 15
                      },
                      "zerolinecolor": "white",
                      "zerolinewidth": 2
                    }
                  }
                },
                "title": {
                  "text": "ACF/PACF Across Differencing Stages with ADF Summary"
                },
                "width": 1300,
                "xaxis": {
                  "anchor": "y",
                  "domain": [
                    0,
                    0.2888888888888889
                  ],
                  "title": {
                    "text": "Date"
                  }
                },
                "xaxis10": {
                  "anchor": "y10",
                  "domain": [
                    0,
                    0.2888888888888889
                  ],
                  "visible": false
                },
                "xaxis11": {
                  "anchor": "y11",
                  "domain": [
                    0.35555555555555557,
                    0.6444444444444445
                  ]
                },
                "xaxis12": {
                  "anchor": "y12",
                  "domain": [
                    0.7111111111111111,
                    1
                  ]
                },
                "xaxis2": {
                  "anchor": "y2",
                  "domain": [
                    0.35555555555555557,
                    0.6444444444444445
                  ],
                  "title": {
                    "text": "Lag"
                  }
                },
                "xaxis3": {
                  "anchor": "y3",
                  "domain": [
                    0.7111111111111111,
                    1
                  ],
                  "title": {
                    "text": "Lag"
                  }
                },
                "xaxis4": {
                  "anchor": "y4",
                  "domain": [
                    0,
                    0.2888888888888889
                  ],
                  "title": {
                    "text": "Date"
                  }
                },
                "xaxis5": {
                  "anchor": "y5",
                  "domain": [
                    0.35555555555555557,
                    0.6444444444444445
                  ],
                  "title": {
                    "text": "Lag"
                  }
                },
                "xaxis6": {
                  "anchor": "y6",
                  "domain": [
                    0.7111111111111111,
                    1
                  ],
                  "title": {
                    "text": "Lag"
                  }
                },
                "xaxis7": {
                  "anchor": "y7",
                  "domain": [
                    0,
                    0.2888888888888889
                  ],
                  "title": {
                    "text": "Date"
                  }
                },
                "xaxis8": {
                  "anchor": "y8",
                  "domain": [
                    0.35555555555555557,
                    0.6444444444444445
                  ],
                  "title": {
                    "text": "Lag"
                  }
                },
                "xaxis9": {
                  "anchor": "y9",
                  "domain": [
                    0.7111111111111111,
                    1
                  ],
                  "title": {
                    "text": "Lag"
                  }
                },
                "yaxis": {
                  "anchor": "x",
                  "domain": [
                    0.84375,
                    1
                  ],
                  "title": {
                    "text": "Value"
                  }
                },
                "yaxis10": {
                  "anchor": "x10",
                  "domain": [
                    0,
                    0.15625
                  ],
                  "visible": false
                },
                "yaxis11": {
                  "anchor": "x11",
                  "domain": [
                    0,
                    0.15625
                  ]
                },
                "yaxis12": {
                  "anchor": "x12",
                  "domain": [
                    0,
                    0.15625
                  ]
                },
                "yaxis2": {
                  "anchor": "x2",
                  "domain": [
                    0.84375,
                    1
                  ],
                  "title": {
                    "text": "ACF"
                  }
                },
                "yaxis3": {
                  "anchor": "x3",
                  "domain": [
                    0.84375,
                    1
                  ],
                  "title": {
                    "text": "PACF"
                  }
                },
                "yaxis4": {
                  "anchor": "x4",
                  "domain": [
                    0.5625,
                    0.71875
                  ],
                  "title": {
                    "text": "Value"
                  }
                },
                "yaxis5": {
                  "anchor": "x5",
                  "domain": [
                    0.5625,
                    0.71875
                  ],
                  "title": {
                    "text": "ACF"
                  }
                },
                "yaxis6": {
                  "anchor": "x6",
                  "domain": [
                    0.5625,
                    0.71875
                  ],
                  "title": {
                    "text": "PACF"
                  }
                },
                "yaxis7": {
                  "anchor": "x7",
                  "domain": [
                    0.28125,
                    0.4375
                  ],
                  "title": {
                    "text": "Value"
                  }
                },
                "yaxis8": {
                  "anchor": "x8",
                  "domain": [
                    0.28125,
                    0.4375
                  ],
                  "title": {
                    "text": "ACF"
                  }
                },
                "yaxis9": {
                  "anchor": "x9",
                  "domain": [
                    0.28125,
                    0.4375
                  ],
                  "title": {
                    "text": "PACF"
                  }
                }
              }
            }
          },
          "metadata": {},
          "output_type": "display_data"
        }
      ],
      "source": [
        "# Differencing\n",
        "diff_1 = series.diff().dropna()\n",
        "diff_seasonal = series.diff(12).dropna()\n",
        "diff_both = diff_1.diff(12).dropna()\n",
        "n_diff = len(diff_both)\n",
        "\n",
        "# ACF/PACF values\n",
        "def create_acf_pacf_traces(data, nlags=30, color='blue'):\n",
        "    n = len(data)\n",
        "    conf = 1.96 / np.sqrt(n)\n",
        "    acf_vals = acf(data, nlags=nlags)\n",
        "    pacf_vals = pacf(data, nlags=nlags, method='yw')\n",
        "\n",
        "    acf_bar = go.Bar(x=list(range(len(acf_vals))), y=acf_vals, marker_color=color)\n",
        "    pacf_bar = go.Bar(x=list(range(len(pacf_vals))), y=pacf_vals, marker_color=color)\n",
        "\n",
        "    band_upper = go.Scatter(x=list(range(nlags+1)), y=[conf]*(nlags+1),\n",
        "                            mode='lines', line=dict(color='gray', dash='dash'), showlegend=False)\n",
        "    band_lower = go.Scatter(x=list(range(nlags+1)), y=[-conf]*(nlags+1),\n",
        "                            mode='lines', line=dict(color='gray', dash='dash'), showlegend=False)\n",
        "\n",
        "    return acf_bar, pacf_bar, band_upper, band_lower\n",
        "\n",
        "acf_orig, pacf_orig, conf_up_o, conf_lo_o = create_acf_pacf_traces(series, color='steelblue')\n",
        "acf_1, pacf_1, conf_up_1, conf_lo_1 = create_acf_pacf_traces(diff_1, color='orange')\n",
        "acf_both, pacf_both, conf_up_b, conf_lo_b = create_acf_pacf_traces(diff_both, color='purple')\n",
        "\n",
        "# ADF Results\n",
        "adf_results = {\n",
        "    \"Original\": adfuller(series),\n",
        "    \"First-Order\": adfuller(diff_1),\n",
        "    \"Seasonal (Lag 12)\": adfuller(diff_seasonal.dropna()),\n",
        "    \"First + Seasonal\": adfuller(diff_both.dropna())\n",
        "}\n",
        "\n",
        "adf_text = \"<br>\".join([f\"<b>{k}</b>: ADF={v[0]:.4f}, p={v[1]:.4f}\" for k, v in adf_results.items()])\n",
        "\n",
        "# Create 4x3 layout\n",
        "fig = sp.make_subplots(\n",
        "    rows=4, cols=3,\n",
        "    subplot_titles=[\n",
        "        \"Original Series\", \"ACF (Original)\", \"PACF (Original)\",\n",
        "        \"First-Order Differenced\", \"ACF (First-Diff)\", \"PACF (First-Diff)\",\n",
        "        \"First + Seasonal Differenced\", \"ACF (Full-Diff)\", \"PACF (Full-Diff)\",\n",
        "        \"ADF Results Summary\", \"\", \"\"\n",
        "    ]\n",
        ")\n",
        "\n",
        "# Row 1\n",
        "fig.add_trace(go.Scatter(x=series.index, y=series, mode='lines', name='Original'), row=1, col=1)\n",
        "fig.add_trace(acf_orig, row=1, col=2)\n",
        "fig.add_trace(pacf_orig, row=1, col=3)\n",
        "fig.add_trace(conf_up_o, row=1, col=2)\n",
        "fig.add_trace(conf_lo_o, row=1, col=2)\n",
        "fig.add_trace(conf_up_o, row=1, col=3)\n",
        "fig.add_trace(conf_lo_o, row=1, col=3)\n",
        "\n",
        "# Row 2\n",
        "fig.add_trace(go.Scatter(x=diff_1.index, y=diff_1, mode='lines', name='First Diff', line=dict(color='orange')), row=2, col=1)\n",
        "fig.add_trace(acf_1, row=2, col=2)\n",
        "fig.add_trace(pacf_1, row=2, col=3)\n",
        "fig.add_trace(conf_up_1, row=2, col=2)\n",
        "fig.add_trace(conf_lo_1, row=2, col=2)\n",
        "fig.add_trace(conf_up_1, row=2, col=3)\n",
        "fig.add_trace(conf_lo_1, row=2, col=3)\n",
        "\n",
        "# Row 3\n",
        "fig.add_trace(go.Scatter(x=diff_both.index, y=diff_both, mode='lines', name='Full Diff', line=dict(color='purple')), row=3, col=1)\n",
        "fig.add_trace(acf_both, row=3, col=2)\n",
        "fig.add_trace(pacf_both, row=3, col=3)\n",
        "fig.add_trace(conf_up_b, row=3, col=2)\n",
        "fig.add_trace(conf_lo_b, row=3, col=2)\n",
        "fig.add_trace(conf_up_b, row=3, col=3)\n",
        "fig.add_trace(conf_lo_b, row=3, col=3)\n",
        "\n",
        "# Row 4 - ADF summary as annotation\n",
        "fig.add_trace(go.Scatter(\n",
        "    x=[0], y=[0], text=[adf_text],\n",
        "    mode='text', showlegend=False\n",
        "), row=4, col=1)\n",
        "\n",
        "# Layout\n",
        "fig.update_layout(\n",
        "    title=\"ACF/PACF Across Differencing Stages with ADF Summary\",\n",
        "    height=1200,\n",
        "    width=1300,\n",
        "    showlegend=False\n",
        ")\n",
        "\n",
        "# Axis labels\n",
        "for row in range(1, 4):\n",
        "    fig.update_xaxes(title_text=\"Date\", row=row, col=1)\n",
        "    fig.update_yaxes(title_text=\"Value\", row=row, col=1)\n",
        "    fig.update_xaxes(title_text=\"Lag\", row=row, col=2)\n",
        "    fig.update_xaxes(title_text=\"Lag\", row=row, col=3)\n",
        "    fig.update_yaxes(title_text=\"ACF\", row=row, col=2)\n",
        "    fig.update_yaxes(title_text=\"PACF\", row=row, col=3)\n",
        "\n",
        "fig.update_xaxes(visible=False, row=4, col=1)\n",
        "fig.update_yaxes(visible=False, row=4, col=1)\n",
        "\n",
        "fig.show()"
      ]
    },
    {
      "cell_type": "code",
      "execution_count": 5,
      "metadata": {
        "id": "bnhVxoWmzBR6"
      },
      "outputs": [],
      "source": [
        "# df = AirPassengersDF\n",
        "# sf = StatsForecast(\n",
        "#     models=[AutoARIMA(season_length=12)],\n",
        "#     freq='ME',\n",
        "# )\n",
        "# df"
      ]
    },
    {
      "cell_type": "code",
      "execution_count": 6,
      "metadata": {
        "colab": {
          "base_uri": "https://localhost:8080/"
        },
        "id": "Tf-Ndtzv_wB9",
        "outputId": "0d20b1c8-0ec5-474b-fe73-f928af8e92f4"
      },
      "outputs": [
        {
          "name": "stdout",
          "output_type": "stream",
          "text": [
            "Training data size: 132\n",
            "Test data size (forecast horizon): 12\n"
          ]
        }
      ],
      "source": [
        "forecast_horizon = 12\n",
        "\n",
        "# Convert Series to DataFrame with 'ds' and 'y' columns\n",
        "df = series.reset_index()\n",
        "df.columns = ['ds', 'y']\n",
        "df['unique_id'] = 1\n",
        "\n",
        "# Split data\n",
        "train_df = df.iloc[:-forecast_horizon]\n",
        "test_df = df.iloc[-forecast_horizon:]\n",
        "\n",
        "print(f\"Training data size: {len(train_df)}\")\n",
        "print(f\"Test data size (forecast horizon): {len(test_df)}\")"
      ]
    },
    {
      "cell_type": "code",
      "execution_count": 7,
      "metadata": {
        "colab": {
          "base_uri": "https://localhost:8080/"
        },
        "id": "NiJcBYR8Crai",
        "outputId": "12221dfb-a8f4-4676-d2a8-76b15a0dcd9a"
      },
      "outputs": [
        {
          "name": "stdout",
          "output_type": "stream",
          "text": [
            "ARIMA Order (p,d,q)(P,D,Q)s: (1, 0, 0, 0, 12, 1, 1)\n",
            "Coefficients: {'ar1': np.float64(-0.24476352132880558)}\n",
            "AIC: 899.9024574640343, BIC: 905.4607044502574, AICC: 900.0059057398964\n",
            "Residuals (first 5): [0.06466322 0.03356584 0.03380614 0.02255184 0.01075386]\n"
          ]
        }
      ],
      "source": [
        "# Initialize AutoARIMA model\n",
        "auto_model = AutoARIMA(season_length=12)\n",
        "\n",
        "# Initialize StatsForecast engine\n",
        "sf_auto = StatsForecast(models=[auto_model], freq='MS')\n",
        "\n",
        "# Fit the model (corrected: pass df, not series)\n",
        "sf_auto.fit(df=train_df, id_col='unique_id', time_col='ds', target_col='y')\n",
        "\n",
        "# Generate forecast\n",
        "auto_forecast_df = sf_auto.predict(h=12)\n",
        "\n",
        "# Extract parameters\n",
        "fitted_auto_arima_object = sf_auto.fitted_[0, 0]\n",
        "fitted_model_parameters_dict = fitted_auto_arima_object.model_\n",
        "# Assuming fitted_model_parameters_dict has been correctly obtained as above\n",
        "\n",
        "print(f\"ARIMA Order (p,d,q)(P,D,Q)s: {fitted_model_parameters_dict.get('arma')}\")\n",
        "print(f\"Coefficients: {fitted_model_parameters_dict.get('coef')}\")\n",
        "aic = fitted_model_parameters_dict.get('aic')\n",
        "bic = fitted_model_parameters_dict.get('bic')\n",
        "aicc = fitted_model_parameters_dict.get('aicc')\n",
        "print(f\"AIC: {aic}, BIC: {bic}, AICC: {aicc}\")\n",
        "print(f\"Residuals (first 5): {fitted_model_parameters_dict.get('residuals')[:5]}\")"
      ]
    },
    {
      "cell_type": "code",
      "execution_count": 8,
      "metadata": {
        "colab": {
          "base_uri": "https://localhost:8080/"
        },
        "id": "VDnV9u0h9OaF",
        "outputId": "4a20c99b-3511-45e1-b1d0-25acbb945211"
      },
      "outputs": [
        {
          "name": "stdout",
          "output_type": "stream",
          "text": [
            "\n",
            "Fitting manually specified SARIMA(1,1,1)(1,1,1)_12 model on training data...\n",
            "Manual model fitting complete.\n",
            "\n",
            "Generating forecasts for the test period...\n",
            "\n",
            "--- Forecast Evaluation Metrics ---\n",
            "Manual SARIMA(1,1,1)(1,1,1)_12:\n",
            "  RMSE: 21.464\n",
            "  MAE: 16.566\n",
            "AutoARIMA Selected Model:\n",
            "  RMSE: 23.919\n",
            "  MAE: 18.516\n",
            "\n",
            "--- Fitted Manual SARIMA Model Parameters ---\n",
            "ARIMA Order (p,d,q)(P,D,Q)s: (1, 1, 1, 1, 12, 1, 1)\n",
            "AIC: 903.1681, BIC: 917.0637, AICC: 903.6991\n",
            "\n",
            "--- Fitted AutoARIMA Model Parameters ---\n",
            "ARIMA Order (p,d,q)(P,D,Q)s: (1, 0, 0, 0, 12, 1, 1)\n",
            "AIC: 899.9025, BIC: 905.4607, AICC: 900.0059\n"
          ]
        }
      ],
      "source": [
        "# 2. Define and Fit Manually Specified SARIMA Model\n",
        "sarima_manual_model = ARIMA(\n",
        "    order=(1, 1, 1),\n",
        "    seasonal_order=(1, 1, 1),\n",
        "    season_length=12,\n",
        ")\n",
        "\n",
        "\n",
        "# Initialize StatsForecast engine\n",
        "sf_manual = StatsForecast(models=[sarima_manual_model], freq='MS')\n",
        "\n",
        "# Fit the model (corrected: pass df, not series)\n",
        "sf_manual.fit(df=train_df, id_col='unique_id', time_col='ds', target_col='y')\n",
        "\n",
        "\n",
        "print(\"\\nFitting manually specified SARIMA(1,1,1)(1,1,1)_12 model on training data...\")\n",
        "print(\"Manual model fitting complete.\")\n",
        "\n",
        "# 3. Generate Forecasts for the Test Period\n",
        "print(\"\\nGenerating forecasts for the test period...\")\n",
        "manual_forecast_df = sf_manual.predict(h=forecast_horizon)\n",
        "auto_forecast_df = sf_auto .predict(h=forecast_horizon)\n",
        "\n",
        "# 5. Extract True and Predicted Values\n",
        "y_true = test_df['y'].values\n",
        "y_pred_manual = manual_forecast_df['ARIMA'].values\n",
        "y_pred_auto = auto_forecast_df['AutoARIMA'].values\n",
        "\n",
        "# 6. Calculate RMSE and MAE\n",
        "rmse_manual = np.sqrt(mean_squared_error(y_true, y_pred_manual))\n",
        "mae_manual = mean_absolute_error(y_true, y_pred_manual)\n",
        "\n",
        "rmse_auto = np.sqrt(mean_squared_error(y_true, y_pred_auto))\n",
        "mae_auto = mean_absolute_error(y_true, y_pred_auto)\n",
        "\n",
        "print(\"\\n--- Forecast Evaluation Metrics ---\")\n",
        "print(f\"Manual SARIMA(1,1,1)(1,1,1)_12:\")\n",
        "print(f\"  RMSE: {rmse_manual:.3f}\")\n",
        "print(f\"  MAE: {mae_manual:.3f}\")\n",
        "\n",
        "print(f\"AutoARIMA Selected Model:\")\n",
        "print(f\"  RMSE: {rmse_auto:.3f}\")\n",
        "print(f\"  MAE: {mae_auto:.3f}\")\n",
        "\n",
        "\n",
        "# Assuming sf_manual and sf_auto have been fitted as in the full example code.\n",
        "\n",
        "# --- Display fitted model parameters for the Manual SARIMA model ---\n",
        "print(\"\\n--- Fitted Manual SARIMA Model Parameters ---\")\n",
        "fitted_manual_params = sf_manual.fitted_[0, 0].model_\n",
        "print(f\"ARIMA Order (p,d,q)(P,D,Q)s: {fitted_manual_params.get('arma')}\")\n",
        "aic_manual = fitted_manual_params.get('aic')\n",
        "bic_manual = fitted_manual_params.get('bic')\n",
        "aicc_manual = fitted_manual_params.get('aicc')\n",
        "print(f\"AIC: {aic_manual:.4f}, BIC: {bic_manual:.4f}, AICC: {aicc_manual:.4f}\")\n",
        "\n",
        "# --- Display fitted model parameters for the AutoARIMA model ---\n",
        "print(\"\\n--- Fitted AutoARIMA Model Parameters ---\")\n",
        "fitted_auto_params = sf_auto.fitted_[0, 0].model_\n",
        "print(f\"ARIMA Order (p,d,q)(P,D,Q)s: {fitted_auto_params.get('arma')}\")\n",
        "aic_auto = fitted_auto_params.get('aic')\n",
        "bic_auto = fitted_auto_params.get('bic')\n",
        "aicc_auto = fitted_auto_params.get('aicc')\n",
        "print(f\"AIC: {aic_auto:.4f}, BIC: {bic_auto:.4f}, AICC: {aicc_auto:.4f}\")"
      ]
    }
  ],
  "metadata": {
    "colab": {
      "provenance": []
    },
    "kernelspec": {
      "display_name": "forecasting",
      "language": "python",
      "name": "python3"
    },
    "language_info": {
      "codemirror_mode": {
        "name": "ipython",
        "version": 3
      },
      "file_extension": ".py",
      "mimetype": "text/x-python",
      "name": "python",
      "nbconvert_exporter": "python",
      "pygments_lexer": "ipython3",
      "version": "3.10.18"
    }
  },
  "nbformat": 4,
  "nbformat_minor": 0
}
