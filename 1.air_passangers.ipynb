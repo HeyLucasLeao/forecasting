{
 "cells": [
  {
   "cell_type": "code",
   "execution_count": 267,
   "id": "9fac9279",
   "metadata": {},
   "outputs": [],
   "source": [
    "import pandas as pd\n",
    "import numpy as np\n",
    "import plotly.express as px\n",
    "from tinyshift.series import adi_cv, theoretical_limit, foreca, stability_index, hurst_exponent, trend_significance\n",
    "from utilsforecast.preprocessing import fill_gaps\n",
    "from utilsforecast.data import generate_series\n",
    "from statsmodels.tsa.stattools import adfuller, acf, pacf\n",
    "from tinyshift.plot import corr_heatmap\n",
    "import holidays\n",
    "import plotly.express as px\n",
    "import plotly.graph_objs as go\n",
    "import plotly.subplots as sp"
   ]
  },
  {
   "cell_type": "code",
   "execution_count": 268,
   "id": "b4c88c61",
   "metadata": {},
   "outputs": [],
   "source": [
    "url = 'https://raw.githubusercontent.com/jbrownlee/Datasets/master/airline-passengers.csv'\n",
    "df = pd.read_csv(url, parse_dates=['Month'])\n",
    "df[\"unique_id\"] = \"1\"\n",
    "df.rename(columns={\"Month\": \"ds\", \"Passengers\": \"y\"}, inplace=True)"
   ]
  },
  {
   "cell_type": "code",
   "execution_count": 269,
   "id": "176bcfc8",
   "metadata": {},
   "outputs": [
    {
     "data": {
      "text/plain": [
       "ds           0\n",
       "y            0\n",
       "unique_id    0\n",
       "dtype: int64"
      ]
     },
     "execution_count": 269,
     "metadata": {},
     "output_type": "execute_result"
    }
   ],
   "source": [
    "df.isnull().sum()"
   ]
  },
  {
   "cell_type": "code",
   "execution_count": 270,
   "id": "177c6509",
   "metadata": {},
   "outputs": [
    {
     "data": {
      "text/html": [
       "<div>\n",
       "<style scoped>\n",
       "    .dataframe tbody tr th:only-of-type {\n",
       "        vertical-align: middle;\n",
       "    }\n",
       "\n",
       "    .dataframe tbody tr th {\n",
       "        vertical-align: top;\n",
       "    }\n",
       "\n",
       "    .dataframe thead th {\n",
       "        text-align: right;\n",
       "    }\n",
       "</style>\n",
       "<table border=\"1\" class=\"dataframe\">\n",
       "  <thead>\n",
       "    <tr style=\"text-align: right;\">\n",
       "      <th></th>\n",
       "      <th>ds</th>\n",
       "      <th>y</th>\n",
       "      <th>unique_id</th>\n",
       "    </tr>\n",
       "  </thead>\n",
       "  <tbody>\n",
       "    <tr>\n",
       "      <th>0</th>\n",
       "      <td>1949-01-01</td>\n",
       "      <td>112</td>\n",
       "      <td>1</td>\n",
       "    </tr>\n",
       "    <tr>\n",
       "      <th>1</th>\n",
       "      <td>1949-02-01</td>\n",
       "      <td>118</td>\n",
       "      <td>1</td>\n",
       "    </tr>\n",
       "    <tr>\n",
       "      <th>2</th>\n",
       "      <td>1949-03-01</td>\n",
       "      <td>132</td>\n",
       "      <td>1</td>\n",
       "    </tr>\n",
       "    <tr>\n",
       "      <th>3</th>\n",
       "      <td>1949-04-01</td>\n",
       "      <td>129</td>\n",
       "      <td>1</td>\n",
       "    </tr>\n",
       "    <tr>\n",
       "      <th>4</th>\n",
       "      <td>1949-05-01</td>\n",
       "      <td>121</td>\n",
       "      <td>1</td>\n",
       "    </tr>\n",
       "    <tr>\n",
       "      <th>...</th>\n",
       "      <td>...</td>\n",
       "      <td>...</td>\n",
       "      <td>...</td>\n",
       "    </tr>\n",
       "    <tr>\n",
       "      <th>139</th>\n",
       "      <td>1960-08-01</td>\n",
       "      <td>606</td>\n",
       "      <td>1</td>\n",
       "    </tr>\n",
       "    <tr>\n",
       "      <th>140</th>\n",
       "      <td>1960-09-01</td>\n",
       "      <td>508</td>\n",
       "      <td>1</td>\n",
       "    </tr>\n",
       "    <tr>\n",
       "      <th>141</th>\n",
       "      <td>1960-10-01</td>\n",
       "      <td>461</td>\n",
       "      <td>1</td>\n",
       "    </tr>\n",
       "    <tr>\n",
       "      <th>142</th>\n",
       "      <td>1960-11-01</td>\n",
       "      <td>390</td>\n",
       "      <td>1</td>\n",
       "    </tr>\n",
       "    <tr>\n",
       "      <th>143</th>\n",
       "      <td>1960-12-01</td>\n",
       "      <td>432</td>\n",
       "      <td>1</td>\n",
       "    </tr>\n",
       "  </tbody>\n",
       "</table>\n",
       "<p>144 rows × 3 columns</p>\n",
       "</div>"
      ],
      "text/plain": [
       "            ds    y unique_id\n",
       "0   1949-01-01  112         1\n",
       "1   1949-02-01  118         1\n",
       "2   1949-03-01  132         1\n",
       "3   1949-04-01  129         1\n",
       "4   1949-05-01  121         1\n",
       "..         ...  ...       ...\n",
       "139 1960-08-01  606         1\n",
       "140 1960-09-01  508         1\n",
       "141 1960-10-01  461         1\n",
       "142 1960-11-01  390         1\n",
       "143 1960-12-01  432         1\n",
       "\n",
       "[144 rows x 3 columns]"
      ]
     },
     "execution_count": 270,
     "metadata": {},
     "output_type": "execute_result"
    }
   ],
   "source": [
    "df"
   ]
  },
  {
   "cell_type": "code",
   "execution_count": 271,
   "id": "2630fac3",
   "metadata": {},
   "outputs": [],
   "source": [
    "df = fill_gaps(df, freq=\"ME\", end=\"per_serie\", id_col=\"unique_id\", time_col=\"ds\")"
   ]
  },
  {
   "cell_type": "code",
   "execution_count": 272,
   "id": "d5f89b1f",
   "metadata": {},
   "outputs": [],
   "source": [
    "def remove_leading_zeros(group):\n",
    "    \"\"\"\n",
    "    Removes leading zeros from series\n",
    "    \"\"\"\n",
    "    first_non_zero_index = group[\"y\"].ne(0).idxmax()\n",
    "    return group.loc[first_non_zero_index:]"
   ]
  },
  {
   "cell_type": "code",
   "execution_count": 273,
   "id": "9d9dd4e8",
   "metadata": {},
   "outputs": [],
   "source": [
    "df = df.groupby(\"unique_id\")[df.columns].apply(remove_leading_zeros).reset_index(drop=True)"
   ]
  },
  {
   "cell_type": "code",
   "execution_count": 274,
   "id": "16c2344f",
   "metadata": {},
   "outputs": [],
   "source": [
    "def is_obsolete(group, days_obsoletes):\n",
    "    \"\"\"\n",
    "    Identify obsolote series\n",
    "    \"\"\"\n",
    "    last_date = group[\"ds\"].max()\n",
    "    cutoff_date = last_date - pd.Timedelta(days=days_obsoletes)\n",
    "    recent_data = group[group[\"ds\"] >= cutoff_date]\n",
    "    return (recent_data[\"y\"] ==0).all()"
   ]
  },
  {
   "cell_type": "code",
   "execution_count": 275,
   "id": "2ad628d9",
   "metadata": {},
   "outputs": [],
   "source": [
    "days_obsoletes=180\n",
    "obsolete_series = df.groupby(\"unique_id\")[df.columns].apply(is_obsolete, days_obsoletes)"
   ]
  },
  {
   "cell_type": "code",
   "execution_count": 276,
   "id": "f16c8574",
   "metadata": {},
   "outputs": [],
   "source": [
    "obsolote_ids = obsolete_series[obsolete_series].index.tolist()"
   ]
  },
  {
   "cell_type": "code",
   "execution_count": 277,
   "id": "9fe015cd",
   "metadata": {},
   "outputs": [
    {
     "data": {
      "text/plain": [
       "[]"
      ]
     },
     "execution_count": 277,
     "metadata": {},
     "output_type": "execute_result"
    }
   ],
   "source": [
    "obsolote_ids"
   ]
  },
  {
   "cell_type": "code",
   "execution_count": 278,
   "id": "f4a63301",
   "metadata": {},
   "outputs": [
    {
     "data": {
      "text/plain": [
       "unique_id\n",
       "1    (0.853638165603188, 4.020274506593391e-61)\n",
       "Name: y, dtype: object"
      ]
     },
     "execution_count": 278,
     "metadata": {},
     "output_type": "execute_result"
    }
   ],
   "source": [
    "df.groupby(\"unique_id\")[\"y\"].apply(trend_significance)"
   ]
  },
  {
   "cell_type": "code",
   "execution_count": 279,
   "id": "77adbb81",
   "metadata": {},
   "outputs": [
    {
     "data": {
      "application/vnd.plotly.v1+json": {
       "config": {
        "plotlyServerURL": "https://plot.ly"
       },
       "data": [
        {
         "hovertemplate": "unique_id=1<br>ds=%{x}<br>y=%{y}<extra></extra>",
         "legendgroup": "",
         "line": {
          "color": "#636efa",
          "dash": "solid"
         },
         "marker": {
          "symbol": "circle"
         },
         "mode": "lines",
         "name": "",
         "orientation": "v",
         "showlegend": false,
         "type": "scatter",
         "x": [
          "1949-01-01T00:00:00.000000000",
          "1949-02-01T00:00:00.000000000",
          "1949-03-01T00:00:00.000000000",
          "1949-04-01T00:00:00.000000000",
          "1949-05-01T00:00:00.000000000",
          "1949-06-01T00:00:00.000000000",
          "1949-07-01T00:00:00.000000000",
          "1949-08-01T00:00:00.000000000",
          "1949-09-01T00:00:00.000000000",
          "1949-10-01T00:00:00.000000000",
          "1949-11-01T00:00:00.000000000",
          "1949-12-01T00:00:00.000000000",
          "1950-01-01T00:00:00.000000000",
          "1950-02-01T00:00:00.000000000",
          "1950-03-01T00:00:00.000000000",
          "1950-04-01T00:00:00.000000000",
          "1950-05-01T00:00:00.000000000",
          "1950-06-01T00:00:00.000000000",
          "1950-07-01T00:00:00.000000000",
          "1950-08-01T00:00:00.000000000",
          "1950-09-01T00:00:00.000000000",
          "1950-10-01T00:00:00.000000000",
          "1950-11-01T00:00:00.000000000",
          "1950-12-01T00:00:00.000000000",
          "1951-01-01T00:00:00.000000000",
          "1951-02-01T00:00:00.000000000",
          "1951-03-01T00:00:00.000000000",
          "1951-04-01T00:00:00.000000000",
          "1951-05-01T00:00:00.000000000",
          "1951-06-01T00:00:00.000000000",
          "1951-07-01T00:00:00.000000000",
          "1951-08-01T00:00:00.000000000",
          "1951-09-01T00:00:00.000000000",
          "1951-10-01T00:00:00.000000000",
          "1951-11-01T00:00:00.000000000",
          "1951-12-01T00:00:00.000000000",
          "1952-01-01T00:00:00.000000000",
          "1952-02-01T00:00:00.000000000",
          "1952-03-01T00:00:00.000000000",
          "1952-04-01T00:00:00.000000000",
          "1952-05-01T00:00:00.000000000",
          "1952-06-01T00:00:00.000000000",
          "1952-07-01T00:00:00.000000000",
          "1952-08-01T00:00:00.000000000",
          "1952-09-01T00:00:00.000000000",
          "1952-10-01T00:00:00.000000000",
          "1952-11-01T00:00:00.000000000",
          "1952-12-01T00:00:00.000000000",
          "1953-01-01T00:00:00.000000000",
          "1953-02-01T00:00:00.000000000",
          "1953-03-01T00:00:00.000000000",
          "1953-04-01T00:00:00.000000000",
          "1953-05-01T00:00:00.000000000",
          "1953-06-01T00:00:00.000000000",
          "1953-07-01T00:00:00.000000000",
          "1953-08-01T00:00:00.000000000",
          "1953-09-01T00:00:00.000000000",
          "1953-10-01T00:00:00.000000000",
          "1953-11-01T00:00:00.000000000",
          "1953-12-01T00:00:00.000000000",
          "1954-01-01T00:00:00.000000000",
          "1954-02-01T00:00:00.000000000",
          "1954-03-01T00:00:00.000000000",
          "1954-04-01T00:00:00.000000000",
          "1954-05-01T00:00:00.000000000",
          "1954-06-01T00:00:00.000000000",
          "1954-07-01T00:00:00.000000000",
          "1954-08-01T00:00:00.000000000",
          "1954-09-01T00:00:00.000000000",
          "1954-10-01T00:00:00.000000000",
          "1954-11-01T00:00:00.000000000",
          "1954-12-01T00:00:00.000000000",
          "1955-01-01T00:00:00.000000000",
          "1955-02-01T00:00:00.000000000",
          "1955-03-01T00:00:00.000000000",
          "1955-04-01T00:00:00.000000000",
          "1955-05-01T00:00:00.000000000",
          "1955-06-01T00:00:00.000000000",
          "1955-07-01T00:00:00.000000000",
          "1955-08-01T00:00:00.000000000",
          "1955-09-01T00:00:00.000000000",
          "1955-10-01T00:00:00.000000000",
          "1955-11-01T00:00:00.000000000",
          "1955-12-01T00:00:00.000000000",
          "1956-01-01T00:00:00.000000000",
          "1956-02-01T00:00:00.000000000",
          "1956-03-01T00:00:00.000000000",
          "1956-04-01T00:00:00.000000000",
          "1956-05-01T00:00:00.000000000",
          "1956-06-01T00:00:00.000000000",
          "1956-07-01T00:00:00.000000000",
          "1956-08-01T00:00:00.000000000",
          "1956-09-01T00:00:00.000000000",
          "1956-10-01T00:00:00.000000000",
          "1956-11-01T00:00:00.000000000",
          "1956-12-01T00:00:00.000000000",
          "1957-01-01T00:00:00.000000000",
          "1957-02-01T00:00:00.000000000",
          "1957-03-01T00:00:00.000000000",
          "1957-04-01T00:00:00.000000000",
          "1957-05-01T00:00:00.000000000",
          "1957-06-01T00:00:00.000000000",
          "1957-07-01T00:00:00.000000000",
          "1957-08-01T00:00:00.000000000",
          "1957-09-01T00:00:00.000000000",
          "1957-10-01T00:00:00.000000000",
          "1957-11-01T00:00:00.000000000",
          "1957-12-01T00:00:00.000000000",
          "1958-01-01T00:00:00.000000000",
          "1958-02-01T00:00:00.000000000",
          "1958-03-01T00:00:00.000000000",
          "1958-04-01T00:00:00.000000000",
          "1958-05-01T00:00:00.000000000",
          "1958-06-01T00:00:00.000000000",
          "1958-07-01T00:00:00.000000000",
          "1958-08-01T00:00:00.000000000",
          "1958-09-01T00:00:00.000000000",
          "1958-10-01T00:00:00.000000000",
          "1958-11-01T00:00:00.000000000",
          "1958-12-01T00:00:00.000000000",
          "1959-01-01T00:00:00.000000000",
          "1959-02-01T00:00:00.000000000",
          "1959-03-01T00:00:00.000000000",
          "1959-04-01T00:00:00.000000000",
          "1959-05-01T00:00:00.000000000",
          "1959-06-01T00:00:00.000000000",
          "1959-07-01T00:00:00.000000000",
          "1959-08-01T00:00:00.000000000",
          "1959-09-01T00:00:00.000000000",
          "1959-10-01T00:00:00.000000000",
          "1959-11-01T00:00:00.000000000",
          "1959-12-01T00:00:00.000000000",
          "1960-01-01T00:00:00.000000000",
          "1960-02-01T00:00:00.000000000",
          "1960-03-01T00:00:00.000000000",
          "1960-04-01T00:00:00.000000000",
          "1960-05-01T00:00:00.000000000",
          "1960-06-01T00:00:00.000000000",
          "1960-07-01T00:00:00.000000000",
          "1960-08-01T00:00:00.000000000",
          "1960-09-01T00:00:00.000000000",
          "1960-10-01T00:00:00.000000000",
          "1960-11-01T00:00:00.000000000",
          "1960-12-01T00:00:00.000000000"
         ],
         "xaxis": "x",
         "y": {
          "bdata": "cAB2AIQAgQB5AIcAlACUAIgAdwBoAHYAcwB+AI0AhwB9AJUAqgCqAJ4AhQByAIwAkQCWALIAowCsALIAxwDHALgAogCSAKYAqwC0AMEAtQC3ANoA5gDyANEAvwCsAMIAxADEAOwA6wDlAPMACAEQAe0A0wC0AMkAzAC8AOsA4wDqAAgBLgElAQMB5QDLAOUA8gDpAAsBDQEOATsBbAFbATgBEgHtABYBHAEVAT0BOQE+AXYBnQGVAWMBMgEPATIBOwEtAWQBXAFjAaYB0QHTAZQBWwExAVABVAE+AWoBXAFrAbMB6wH5AZQBZwE2AVEBaAFWAZYBjAGkAdgBJAIvAs8BlwFqAZUBoQGHAaMBzQHYARcCbgJeAvwBzQGGAbAB",
          "dtype": "i2"
         },
         "yaxis": "y"
        }
       ],
       "layout": {
        "annotations": [
         {
          "font": {},
          "showarrow": false,
          "text": "unique_id=1",
          "x": 0.5,
          "xanchor": "center",
          "xref": "paper",
          "y": 1,
          "yanchor": "bottom",
          "yref": "paper"
         }
        ],
        "legend": {
         "tracegroupgap": 0
        },
        "margin": {
         "t": 60
        },
        "template": {
         "data": {
          "bar": [
           {
            "error_x": {
             "color": "#2a3f5f"
            },
            "error_y": {
             "color": "#2a3f5f"
            },
            "marker": {
             "line": {
              "color": "#E5ECF6",
              "width": 0.5
             },
             "pattern": {
              "fillmode": "overlay",
              "size": 10,
              "solidity": 0.2
             }
            },
            "type": "bar"
           }
          ],
          "barpolar": [
           {
            "marker": {
             "line": {
              "color": "#E5ECF6",
              "width": 0.5
             },
             "pattern": {
              "fillmode": "overlay",
              "size": 10,
              "solidity": 0.2
             }
            },
            "type": "barpolar"
           }
          ],
          "carpet": [
           {
            "aaxis": {
             "endlinecolor": "#2a3f5f",
             "gridcolor": "white",
             "linecolor": "white",
             "minorgridcolor": "white",
             "startlinecolor": "#2a3f5f"
            },
            "baxis": {
             "endlinecolor": "#2a3f5f",
             "gridcolor": "white",
             "linecolor": "white",
             "minorgridcolor": "white",
             "startlinecolor": "#2a3f5f"
            },
            "type": "carpet"
           }
          ],
          "choropleth": [
           {
            "colorbar": {
             "outlinewidth": 0,
             "ticks": ""
            },
            "type": "choropleth"
           }
          ],
          "contour": [
           {
            "colorbar": {
             "outlinewidth": 0,
             "ticks": ""
            },
            "colorscale": [
             [
              0,
              "#0d0887"
             ],
             [
              0.1111111111111111,
              "#46039f"
             ],
             [
              0.2222222222222222,
              "#7201a8"
             ],
             [
              0.3333333333333333,
              "#9c179e"
             ],
             [
              0.4444444444444444,
              "#bd3786"
             ],
             [
              0.5555555555555556,
              "#d8576b"
             ],
             [
              0.6666666666666666,
              "#ed7953"
             ],
             [
              0.7777777777777778,
              "#fb9f3a"
             ],
             [
              0.8888888888888888,
              "#fdca26"
             ],
             [
              1,
              "#f0f921"
             ]
            ],
            "type": "contour"
           }
          ],
          "contourcarpet": [
           {
            "colorbar": {
             "outlinewidth": 0,
             "ticks": ""
            },
            "type": "contourcarpet"
           }
          ],
          "heatmap": [
           {
            "colorbar": {
             "outlinewidth": 0,
             "ticks": ""
            },
            "colorscale": [
             [
              0,
              "#0d0887"
             ],
             [
              0.1111111111111111,
              "#46039f"
             ],
             [
              0.2222222222222222,
              "#7201a8"
             ],
             [
              0.3333333333333333,
              "#9c179e"
             ],
             [
              0.4444444444444444,
              "#bd3786"
             ],
             [
              0.5555555555555556,
              "#d8576b"
             ],
             [
              0.6666666666666666,
              "#ed7953"
             ],
             [
              0.7777777777777778,
              "#fb9f3a"
             ],
             [
              0.8888888888888888,
              "#fdca26"
             ],
             [
              1,
              "#f0f921"
             ]
            ],
            "type": "heatmap"
           }
          ],
          "histogram": [
           {
            "marker": {
             "pattern": {
              "fillmode": "overlay",
              "size": 10,
              "solidity": 0.2
             }
            },
            "type": "histogram"
           }
          ],
          "histogram2d": [
           {
            "colorbar": {
             "outlinewidth": 0,
             "ticks": ""
            },
            "colorscale": [
             [
              0,
              "#0d0887"
             ],
             [
              0.1111111111111111,
              "#46039f"
             ],
             [
              0.2222222222222222,
              "#7201a8"
             ],
             [
              0.3333333333333333,
              "#9c179e"
             ],
             [
              0.4444444444444444,
              "#bd3786"
             ],
             [
              0.5555555555555556,
              "#d8576b"
             ],
             [
              0.6666666666666666,
              "#ed7953"
             ],
             [
              0.7777777777777778,
              "#fb9f3a"
             ],
             [
              0.8888888888888888,
              "#fdca26"
             ],
             [
              1,
              "#f0f921"
             ]
            ],
            "type": "histogram2d"
           }
          ],
          "histogram2dcontour": [
           {
            "colorbar": {
             "outlinewidth": 0,
             "ticks": ""
            },
            "colorscale": [
             [
              0,
              "#0d0887"
             ],
             [
              0.1111111111111111,
              "#46039f"
             ],
             [
              0.2222222222222222,
              "#7201a8"
             ],
             [
              0.3333333333333333,
              "#9c179e"
             ],
             [
              0.4444444444444444,
              "#bd3786"
             ],
             [
              0.5555555555555556,
              "#d8576b"
             ],
             [
              0.6666666666666666,
              "#ed7953"
             ],
             [
              0.7777777777777778,
              "#fb9f3a"
             ],
             [
              0.8888888888888888,
              "#fdca26"
             ],
             [
              1,
              "#f0f921"
             ]
            ],
            "type": "histogram2dcontour"
           }
          ],
          "mesh3d": [
           {
            "colorbar": {
             "outlinewidth": 0,
             "ticks": ""
            },
            "type": "mesh3d"
           }
          ],
          "parcoords": [
           {
            "line": {
             "colorbar": {
              "outlinewidth": 0,
              "ticks": ""
             }
            },
            "type": "parcoords"
           }
          ],
          "pie": [
           {
            "automargin": true,
            "type": "pie"
           }
          ],
          "scatter": [
           {
            "fillpattern": {
             "fillmode": "overlay",
             "size": 10,
             "solidity": 0.2
            },
            "type": "scatter"
           }
          ],
          "scatter3d": [
           {
            "line": {
             "colorbar": {
              "outlinewidth": 0,
              "ticks": ""
             }
            },
            "marker": {
             "colorbar": {
              "outlinewidth": 0,
              "ticks": ""
             }
            },
            "type": "scatter3d"
           }
          ],
          "scattercarpet": [
           {
            "marker": {
             "colorbar": {
              "outlinewidth": 0,
              "ticks": ""
             }
            },
            "type": "scattercarpet"
           }
          ],
          "scattergeo": [
           {
            "marker": {
             "colorbar": {
              "outlinewidth": 0,
              "ticks": ""
             }
            },
            "type": "scattergeo"
           }
          ],
          "scattergl": [
           {
            "marker": {
             "colorbar": {
              "outlinewidth": 0,
              "ticks": ""
             }
            },
            "type": "scattergl"
           }
          ],
          "scattermap": [
           {
            "marker": {
             "colorbar": {
              "outlinewidth": 0,
              "ticks": ""
             }
            },
            "type": "scattermap"
           }
          ],
          "scattermapbox": [
           {
            "marker": {
             "colorbar": {
              "outlinewidth": 0,
              "ticks": ""
             }
            },
            "type": "scattermapbox"
           }
          ],
          "scatterpolar": [
           {
            "marker": {
             "colorbar": {
              "outlinewidth": 0,
              "ticks": ""
             }
            },
            "type": "scatterpolar"
           }
          ],
          "scatterpolargl": [
           {
            "marker": {
             "colorbar": {
              "outlinewidth": 0,
              "ticks": ""
             }
            },
            "type": "scatterpolargl"
           }
          ],
          "scatterternary": [
           {
            "marker": {
             "colorbar": {
              "outlinewidth": 0,
              "ticks": ""
             }
            },
            "type": "scatterternary"
           }
          ],
          "surface": [
           {
            "colorbar": {
             "outlinewidth": 0,
             "ticks": ""
            },
            "colorscale": [
             [
              0,
              "#0d0887"
             ],
             [
              0.1111111111111111,
              "#46039f"
             ],
             [
              0.2222222222222222,
              "#7201a8"
             ],
             [
              0.3333333333333333,
              "#9c179e"
             ],
             [
              0.4444444444444444,
              "#bd3786"
             ],
             [
              0.5555555555555556,
              "#d8576b"
             ],
             [
              0.6666666666666666,
              "#ed7953"
             ],
             [
              0.7777777777777778,
              "#fb9f3a"
             ],
             [
              0.8888888888888888,
              "#fdca26"
             ],
             [
              1,
              "#f0f921"
             ]
            ],
            "type": "surface"
           }
          ],
          "table": [
           {
            "cells": {
             "fill": {
              "color": "#EBF0F8"
             },
             "line": {
              "color": "white"
             }
            },
            "header": {
             "fill": {
              "color": "#C8D4E3"
             },
             "line": {
              "color": "white"
             }
            },
            "type": "table"
           }
          ]
         },
         "layout": {
          "annotationdefaults": {
           "arrowcolor": "#2a3f5f",
           "arrowhead": 0,
           "arrowwidth": 1
          },
          "autotypenumbers": "strict",
          "coloraxis": {
           "colorbar": {
            "outlinewidth": 0,
            "ticks": ""
           }
          },
          "colorscale": {
           "diverging": [
            [
             0,
             "#8e0152"
            ],
            [
             0.1,
             "#c51b7d"
            ],
            [
             0.2,
             "#de77ae"
            ],
            [
             0.3,
             "#f1b6da"
            ],
            [
             0.4,
             "#fde0ef"
            ],
            [
             0.5,
             "#f7f7f7"
            ],
            [
             0.6,
             "#e6f5d0"
            ],
            [
             0.7,
             "#b8e186"
            ],
            [
             0.8,
             "#7fbc41"
            ],
            [
             0.9,
             "#4d9221"
            ],
            [
             1,
             "#276419"
            ]
           ],
           "sequential": [
            [
             0,
             "#0d0887"
            ],
            [
             0.1111111111111111,
             "#46039f"
            ],
            [
             0.2222222222222222,
             "#7201a8"
            ],
            [
             0.3333333333333333,
             "#9c179e"
            ],
            [
             0.4444444444444444,
             "#bd3786"
            ],
            [
             0.5555555555555556,
             "#d8576b"
            ],
            [
             0.6666666666666666,
             "#ed7953"
            ],
            [
             0.7777777777777778,
             "#fb9f3a"
            ],
            [
             0.8888888888888888,
             "#fdca26"
            ],
            [
             1,
             "#f0f921"
            ]
           ],
           "sequentialminus": [
            [
             0,
             "#0d0887"
            ],
            [
             0.1111111111111111,
             "#46039f"
            ],
            [
             0.2222222222222222,
             "#7201a8"
            ],
            [
             0.3333333333333333,
             "#9c179e"
            ],
            [
             0.4444444444444444,
             "#bd3786"
            ],
            [
             0.5555555555555556,
             "#d8576b"
            ],
            [
             0.6666666666666666,
             "#ed7953"
            ],
            [
             0.7777777777777778,
             "#fb9f3a"
            ],
            [
             0.8888888888888888,
             "#fdca26"
            ],
            [
             1,
             "#f0f921"
            ]
           ]
          },
          "colorway": [
           "#636efa",
           "#EF553B",
           "#00cc96",
           "#ab63fa",
           "#FFA15A",
           "#19d3f3",
           "#FF6692",
           "#B6E880",
           "#FF97FF",
           "#FECB52"
          ],
          "font": {
           "color": "#2a3f5f"
          },
          "geo": {
           "bgcolor": "white",
           "lakecolor": "white",
           "landcolor": "#E5ECF6",
           "showlakes": true,
           "showland": true,
           "subunitcolor": "white"
          },
          "hoverlabel": {
           "align": "left"
          },
          "hovermode": "closest",
          "mapbox": {
           "style": "light"
          },
          "paper_bgcolor": "white",
          "plot_bgcolor": "#E5ECF6",
          "polar": {
           "angularaxis": {
            "gridcolor": "white",
            "linecolor": "white",
            "ticks": ""
           },
           "bgcolor": "#E5ECF6",
           "radialaxis": {
            "gridcolor": "white",
            "linecolor": "white",
            "ticks": ""
           }
          },
          "scene": {
           "xaxis": {
            "backgroundcolor": "#E5ECF6",
            "gridcolor": "white",
            "gridwidth": 2,
            "linecolor": "white",
            "showbackground": true,
            "ticks": "",
            "zerolinecolor": "white"
           },
           "yaxis": {
            "backgroundcolor": "#E5ECF6",
            "gridcolor": "white",
            "gridwidth": 2,
            "linecolor": "white",
            "showbackground": true,
            "ticks": "",
            "zerolinecolor": "white"
           },
           "zaxis": {
            "backgroundcolor": "#E5ECF6",
            "gridcolor": "white",
            "gridwidth": 2,
            "linecolor": "white",
            "showbackground": true,
            "ticks": "",
            "zerolinecolor": "white"
           }
          },
          "shapedefaults": {
           "line": {
            "color": "#2a3f5f"
           }
          },
          "ternary": {
           "aaxis": {
            "gridcolor": "white",
            "linecolor": "white",
            "ticks": ""
           },
           "baxis": {
            "gridcolor": "white",
            "linecolor": "white",
            "ticks": ""
           },
           "bgcolor": "#E5ECF6",
           "caxis": {
            "gridcolor": "white",
            "linecolor": "white",
            "ticks": ""
           }
          },
          "title": {
           "x": 0.05
          },
          "xaxis": {
           "automargin": true,
           "gridcolor": "white",
           "linecolor": "white",
           "ticks": "",
           "title": {
            "standoff": 15
           },
           "zerolinecolor": "white",
           "zerolinewidth": 2
          },
          "yaxis": {
           "automargin": true,
           "gridcolor": "white",
           "linecolor": "white",
           "ticks": "",
           "title": {
            "standoff": 15
           },
           "zerolinecolor": "white",
           "zerolinewidth": 2
          }
         }
        },
        "xaxis": {
         "anchor": "y",
         "domain": [
          0,
          1
         ],
         "title": {
          "text": "ds"
         }
        },
        "yaxis": {
         "anchor": "x",
         "domain": [
          0,
          1
         ],
         "title": {
          "text": "y"
         }
        }
       }
      }
     },
     "metadata": {},
     "output_type": "display_data"
    }
   ],
   "source": [
    "px.line(df, x=\"ds\", y=\"y\", facet_col=\"unique_id\")"
   ]
  },
  {
   "cell_type": "code",
   "execution_count": 280,
   "id": "4f5f9a8e",
   "metadata": {},
   "outputs": [
    {
     "data": {
      "application/vnd.plotly.v1+json": {
       "config": {
        "plotlyServerURL": "https://plot.ly"
       },
       "data": [
        {
         "hovertemplate": "unique_id=1<br>ds=%{x}<br>y=%{y}<extra></extra>",
         "legendgroup": "",
         "line": {
          "color": "#636efa",
          "dash": "solid"
         },
         "marker": {
          "symbol": "circle"
         },
         "mode": "lines",
         "name": "",
         "orientation": "v",
         "showlegend": false,
         "type": "scatter",
         "x": [
          "1949-01-01T00:00:00.000000000",
          "1949-02-01T00:00:00.000000000",
          "1949-03-01T00:00:00.000000000",
          "1949-04-01T00:00:00.000000000",
          "1949-05-01T00:00:00.000000000",
          "1949-06-01T00:00:00.000000000",
          "1949-07-01T00:00:00.000000000",
          "1949-08-01T00:00:00.000000000",
          "1949-09-01T00:00:00.000000000",
          "1949-10-01T00:00:00.000000000",
          "1949-11-01T00:00:00.000000000",
          "1949-12-01T00:00:00.000000000",
          "1950-01-01T00:00:00.000000000",
          "1950-02-01T00:00:00.000000000",
          "1950-03-01T00:00:00.000000000",
          "1950-04-01T00:00:00.000000000",
          "1950-05-01T00:00:00.000000000",
          "1950-06-01T00:00:00.000000000",
          "1950-07-01T00:00:00.000000000",
          "1950-08-01T00:00:00.000000000",
          "1950-09-01T00:00:00.000000000",
          "1950-10-01T00:00:00.000000000",
          "1950-11-01T00:00:00.000000000",
          "1950-12-01T00:00:00.000000000",
          "1951-01-01T00:00:00.000000000",
          "1951-02-01T00:00:00.000000000",
          "1951-03-01T00:00:00.000000000",
          "1951-04-01T00:00:00.000000000",
          "1951-05-01T00:00:00.000000000",
          "1951-06-01T00:00:00.000000000",
          "1951-07-01T00:00:00.000000000",
          "1951-08-01T00:00:00.000000000",
          "1951-09-01T00:00:00.000000000",
          "1951-10-01T00:00:00.000000000",
          "1951-11-01T00:00:00.000000000",
          "1951-12-01T00:00:00.000000000",
          "1952-01-01T00:00:00.000000000",
          "1952-02-01T00:00:00.000000000",
          "1952-03-01T00:00:00.000000000",
          "1952-04-01T00:00:00.000000000",
          "1952-05-01T00:00:00.000000000",
          "1952-06-01T00:00:00.000000000",
          "1952-07-01T00:00:00.000000000",
          "1952-08-01T00:00:00.000000000",
          "1952-09-01T00:00:00.000000000",
          "1952-10-01T00:00:00.000000000",
          "1952-11-01T00:00:00.000000000",
          "1952-12-01T00:00:00.000000000",
          "1953-01-01T00:00:00.000000000",
          "1953-02-01T00:00:00.000000000",
          "1953-03-01T00:00:00.000000000",
          "1953-04-01T00:00:00.000000000",
          "1953-05-01T00:00:00.000000000",
          "1953-06-01T00:00:00.000000000",
          "1953-07-01T00:00:00.000000000",
          "1953-08-01T00:00:00.000000000",
          "1953-09-01T00:00:00.000000000",
          "1953-10-01T00:00:00.000000000",
          "1953-11-01T00:00:00.000000000",
          "1953-12-01T00:00:00.000000000",
          "1954-01-01T00:00:00.000000000",
          "1954-02-01T00:00:00.000000000",
          "1954-03-01T00:00:00.000000000",
          "1954-04-01T00:00:00.000000000",
          "1954-05-01T00:00:00.000000000",
          "1954-06-01T00:00:00.000000000",
          "1954-07-01T00:00:00.000000000",
          "1954-08-01T00:00:00.000000000",
          "1954-09-01T00:00:00.000000000",
          "1954-10-01T00:00:00.000000000",
          "1954-11-01T00:00:00.000000000",
          "1954-12-01T00:00:00.000000000",
          "1955-01-01T00:00:00.000000000",
          "1955-02-01T00:00:00.000000000",
          "1955-03-01T00:00:00.000000000",
          "1955-04-01T00:00:00.000000000",
          "1955-05-01T00:00:00.000000000",
          "1955-06-01T00:00:00.000000000",
          "1955-07-01T00:00:00.000000000",
          "1955-08-01T00:00:00.000000000",
          "1955-09-01T00:00:00.000000000",
          "1955-10-01T00:00:00.000000000",
          "1955-11-01T00:00:00.000000000",
          "1955-12-01T00:00:00.000000000",
          "1956-01-01T00:00:00.000000000",
          "1956-02-01T00:00:00.000000000",
          "1956-03-01T00:00:00.000000000",
          "1956-04-01T00:00:00.000000000",
          "1956-05-01T00:00:00.000000000",
          "1956-06-01T00:00:00.000000000",
          "1956-07-01T00:00:00.000000000",
          "1956-08-01T00:00:00.000000000",
          "1956-09-01T00:00:00.000000000",
          "1956-10-01T00:00:00.000000000",
          "1956-11-01T00:00:00.000000000",
          "1956-12-01T00:00:00.000000000",
          "1957-01-01T00:00:00.000000000",
          "1957-02-01T00:00:00.000000000",
          "1957-03-01T00:00:00.000000000",
          "1957-04-01T00:00:00.000000000",
          "1957-05-01T00:00:00.000000000",
          "1957-06-01T00:00:00.000000000",
          "1957-07-01T00:00:00.000000000",
          "1957-08-01T00:00:00.000000000",
          "1957-09-01T00:00:00.000000000",
          "1957-10-01T00:00:00.000000000",
          "1957-11-01T00:00:00.000000000",
          "1957-12-01T00:00:00.000000000",
          "1958-01-01T00:00:00.000000000",
          "1958-02-01T00:00:00.000000000",
          "1958-03-01T00:00:00.000000000",
          "1958-04-01T00:00:00.000000000",
          "1958-05-01T00:00:00.000000000",
          "1958-06-01T00:00:00.000000000",
          "1958-07-01T00:00:00.000000000",
          "1958-08-01T00:00:00.000000000",
          "1958-09-01T00:00:00.000000000",
          "1958-10-01T00:00:00.000000000",
          "1958-11-01T00:00:00.000000000",
          "1958-12-01T00:00:00.000000000",
          "1959-01-01T00:00:00.000000000",
          "1959-02-01T00:00:00.000000000",
          "1959-03-01T00:00:00.000000000",
          "1959-04-01T00:00:00.000000000",
          "1959-05-01T00:00:00.000000000",
          "1959-06-01T00:00:00.000000000",
          "1959-07-01T00:00:00.000000000",
          "1959-08-01T00:00:00.000000000",
          "1959-09-01T00:00:00.000000000",
          "1959-10-01T00:00:00.000000000",
          "1959-11-01T00:00:00.000000000",
          "1959-12-01T00:00:00.000000000",
          "1960-01-01T00:00:00.000000000",
          "1960-02-01T00:00:00.000000000",
          "1960-03-01T00:00:00.000000000",
          "1960-04-01T00:00:00.000000000",
          "1960-05-01T00:00:00.000000000",
          "1960-06-01T00:00:00.000000000",
          "1960-07-01T00:00:00.000000000",
          "1960-08-01T00:00:00.000000000",
          "1960-09-01T00:00:00.000000000",
          "1960-10-01T00:00:00.000000000",
          "1960-11-01T00:00:00.000000000",
          "1960-12-01T00:00:00.000000000"
         ],
         "xaxis": "x",
         "y": {
          "bdata": "cAB2AIQAgQB5AIcAlACUAIgAdwBoAHYAcwB+AI0AhwB9AJUAqgCqAJ4AhQByAIwAkQCWALIAowCsALIAxwDHALgAogCSAKYAqwC0AMEAtQC3ANoA5gDyANEAvwCsAMIAxADEAOwA6wDlAPMACAEQAe0A0wC0AMkAzAC8AOsA4wDqAAgBLgElAQMB5QDLAOUA8gDpAAsBDQEOATsBbAFbATgBEgHtABYBHAEVAT0BOQE+AXYBnQGVAWMBMgEPATIBOwEtAWQBXAFjAaYB0QHTAZQBWwExAVABVAE+AWoBXAFrAbMB6wH5AZQBZwE2AVEBaAFWAZYBjAGkAdgBJAIvAs8BlwFqAZUBoQGHAaMBzQHYARcCbgJeAvwBzQGGAbAB",
          "dtype": "i2"
         },
         "yaxis": "y"
        }
       ],
       "layout": {
        "annotations": [
         {
          "font": {},
          "showarrow": false,
          "text": "unique_id=1",
          "x": 0.5,
          "xanchor": "center",
          "xref": "paper",
          "y": 1,
          "yanchor": "bottom",
          "yref": "paper"
         }
        ],
        "legend": {
         "tracegroupgap": 0
        },
        "margin": {
         "t": 60
        },
        "template": {
         "data": {
          "bar": [
           {
            "error_x": {
             "color": "#2a3f5f"
            },
            "error_y": {
             "color": "#2a3f5f"
            },
            "marker": {
             "line": {
              "color": "#E5ECF6",
              "width": 0.5
             },
             "pattern": {
              "fillmode": "overlay",
              "size": 10,
              "solidity": 0.2
             }
            },
            "type": "bar"
           }
          ],
          "barpolar": [
           {
            "marker": {
             "line": {
              "color": "#E5ECF6",
              "width": 0.5
             },
             "pattern": {
              "fillmode": "overlay",
              "size": 10,
              "solidity": 0.2
             }
            },
            "type": "barpolar"
           }
          ],
          "carpet": [
           {
            "aaxis": {
             "endlinecolor": "#2a3f5f",
             "gridcolor": "white",
             "linecolor": "white",
             "minorgridcolor": "white",
             "startlinecolor": "#2a3f5f"
            },
            "baxis": {
             "endlinecolor": "#2a3f5f",
             "gridcolor": "white",
             "linecolor": "white",
             "minorgridcolor": "white",
             "startlinecolor": "#2a3f5f"
            },
            "type": "carpet"
           }
          ],
          "choropleth": [
           {
            "colorbar": {
             "outlinewidth": 0,
             "ticks": ""
            },
            "type": "choropleth"
           }
          ],
          "contour": [
           {
            "colorbar": {
             "outlinewidth": 0,
             "ticks": ""
            },
            "colorscale": [
             [
              0,
              "#0d0887"
             ],
             [
              0.1111111111111111,
              "#46039f"
             ],
             [
              0.2222222222222222,
              "#7201a8"
             ],
             [
              0.3333333333333333,
              "#9c179e"
             ],
             [
              0.4444444444444444,
              "#bd3786"
             ],
             [
              0.5555555555555556,
              "#d8576b"
             ],
             [
              0.6666666666666666,
              "#ed7953"
             ],
             [
              0.7777777777777778,
              "#fb9f3a"
             ],
             [
              0.8888888888888888,
              "#fdca26"
             ],
             [
              1,
              "#f0f921"
             ]
            ],
            "type": "contour"
           }
          ],
          "contourcarpet": [
           {
            "colorbar": {
             "outlinewidth": 0,
             "ticks": ""
            },
            "type": "contourcarpet"
           }
          ],
          "heatmap": [
           {
            "colorbar": {
             "outlinewidth": 0,
             "ticks": ""
            },
            "colorscale": [
             [
              0,
              "#0d0887"
             ],
             [
              0.1111111111111111,
              "#46039f"
             ],
             [
              0.2222222222222222,
              "#7201a8"
             ],
             [
              0.3333333333333333,
              "#9c179e"
             ],
             [
              0.4444444444444444,
              "#bd3786"
             ],
             [
              0.5555555555555556,
              "#d8576b"
             ],
             [
              0.6666666666666666,
              "#ed7953"
             ],
             [
              0.7777777777777778,
              "#fb9f3a"
             ],
             [
              0.8888888888888888,
              "#fdca26"
             ],
             [
              1,
              "#f0f921"
             ]
            ],
            "type": "heatmap"
           }
          ],
          "histogram": [
           {
            "marker": {
             "pattern": {
              "fillmode": "overlay",
              "size": 10,
              "solidity": 0.2
             }
            },
            "type": "histogram"
           }
          ],
          "histogram2d": [
           {
            "colorbar": {
             "outlinewidth": 0,
             "ticks": ""
            },
            "colorscale": [
             [
              0,
              "#0d0887"
             ],
             [
              0.1111111111111111,
              "#46039f"
             ],
             [
              0.2222222222222222,
              "#7201a8"
             ],
             [
              0.3333333333333333,
              "#9c179e"
             ],
             [
              0.4444444444444444,
              "#bd3786"
             ],
             [
              0.5555555555555556,
              "#d8576b"
             ],
             [
              0.6666666666666666,
              "#ed7953"
             ],
             [
              0.7777777777777778,
              "#fb9f3a"
             ],
             [
              0.8888888888888888,
              "#fdca26"
             ],
             [
              1,
              "#f0f921"
             ]
            ],
            "type": "histogram2d"
           }
          ],
          "histogram2dcontour": [
           {
            "colorbar": {
             "outlinewidth": 0,
             "ticks": ""
            },
            "colorscale": [
             [
              0,
              "#0d0887"
             ],
             [
              0.1111111111111111,
              "#46039f"
             ],
             [
              0.2222222222222222,
              "#7201a8"
             ],
             [
              0.3333333333333333,
              "#9c179e"
             ],
             [
              0.4444444444444444,
              "#bd3786"
             ],
             [
              0.5555555555555556,
              "#d8576b"
             ],
             [
              0.6666666666666666,
              "#ed7953"
             ],
             [
              0.7777777777777778,
              "#fb9f3a"
             ],
             [
              0.8888888888888888,
              "#fdca26"
             ],
             [
              1,
              "#f0f921"
             ]
            ],
            "type": "histogram2dcontour"
           }
          ],
          "mesh3d": [
           {
            "colorbar": {
             "outlinewidth": 0,
             "ticks": ""
            },
            "type": "mesh3d"
           }
          ],
          "parcoords": [
           {
            "line": {
             "colorbar": {
              "outlinewidth": 0,
              "ticks": ""
             }
            },
            "type": "parcoords"
           }
          ],
          "pie": [
           {
            "automargin": true,
            "type": "pie"
           }
          ],
          "scatter": [
           {
            "fillpattern": {
             "fillmode": "overlay",
             "size": 10,
             "solidity": 0.2
            },
            "type": "scatter"
           }
          ],
          "scatter3d": [
           {
            "line": {
             "colorbar": {
              "outlinewidth": 0,
              "ticks": ""
             }
            },
            "marker": {
             "colorbar": {
              "outlinewidth": 0,
              "ticks": ""
             }
            },
            "type": "scatter3d"
           }
          ],
          "scattercarpet": [
           {
            "marker": {
             "colorbar": {
              "outlinewidth": 0,
              "ticks": ""
             }
            },
            "type": "scattercarpet"
           }
          ],
          "scattergeo": [
           {
            "marker": {
             "colorbar": {
              "outlinewidth": 0,
              "ticks": ""
             }
            },
            "type": "scattergeo"
           }
          ],
          "scattergl": [
           {
            "marker": {
             "colorbar": {
              "outlinewidth": 0,
              "ticks": ""
             }
            },
            "type": "scattergl"
           }
          ],
          "scattermap": [
           {
            "marker": {
             "colorbar": {
              "outlinewidth": 0,
              "ticks": ""
             }
            },
            "type": "scattermap"
           }
          ],
          "scattermapbox": [
           {
            "marker": {
             "colorbar": {
              "outlinewidth": 0,
              "ticks": ""
             }
            },
            "type": "scattermapbox"
           }
          ],
          "scatterpolar": [
           {
            "marker": {
             "colorbar": {
              "outlinewidth": 0,
              "ticks": ""
             }
            },
            "type": "scatterpolar"
           }
          ],
          "scatterpolargl": [
           {
            "marker": {
             "colorbar": {
              "outlinewidth": 0,
              "ticks": ""
             }
            },
            "type": "scatterpolargl"
           }
          ],
          "scatterternary": [
           {
            "marker": {
             "colorbar": {
              "outlinewidth": 0,
              "ticks": ""
             }
            },
            "type": "scatterternary"
           }
          ],
          "surface": [
           {
            "colorbar": {
             "outlinewidth": 0,
             "ticks": ""
            },
            "colorscale": [
             [
              0,
              "#0d0887"
             ],
             [
              0.1111111111111111,
              "#46039f"
             ],
             [
              0.2222222222222222,
              "#7201a8"
             ],
             [
              0.3333333333333333,
              "#9c179e"
             ],
             [
              0.4444444444444444,
              "#bd3786"
             ],
             [
              0.5555555555555556,
              "#d8576b"
             ],
             [
              0.6666666666666666,
              "#ed7953"
             ],
             [
              0.7777777777777778,
              "#fb9f3a"
             ],
             [
              0.8888888888888888,
              "#fdca26"
             ],
             [
              1,
              "#f0f921"
             ]
            ],
            "type": "surface"
           }
          ],
          "table": [
           {
            "cells": {
             "fill": {
              "color": "#EBF0F8"
             },
             "line": {
              "color": "white"
             }
            },
            "header": {
             "fill": {
              "color": "#C8D4E3"
             },
             "line": {
              "color": "white"
             }
            },
            "type": "table"
           }
          ]
         },
         "layout": {
          "annotationdefaults": {
           "arrowcolor": "#2a3f5f",
           "arrowhead": 0,
           "arrowwidth": 1
          },
          "autotypenumbers": "strict",
          "coloraxis": {
           "colorbar": {
            "outlinewidth": 0,
            "ticks": ""
           }
          },
          "colorscale": {
           "diverging": [
            [
             0,
             "#8e0152"
            ],
            [
             0.1,
             "#c51b7d"
            ],
            [
             0.2,
             "#de77ae"
            ],
            [
             0.3,
             "#f1b6da"
            ],
            [
             0.4,
             "#fde0ef"
            ],
            [
             0.5,
             "#f7f7f7"
            ],
            [
             0.6,
             "#e6f5d0"
            ],
            [
             0.7,
             "#b8e186"
            ],
            [
             0.8,
             "#7fbc41"
            ],
            [
             0.9,
             "#4d9221"
            ],
            [
             1,
             "#276419"
            ]
           ],
           "sequential": [
            [
             0,
             "#0d0887"
            ],
            [
             0.1111111111111111,
             "#46039f"
            ],
            [
             0.2222222222222222,
             "#7201a8"
            ],
            [
             0.3333333333333333,
             "#9c179e"
            ],
            [
             0.4444444444444444,
             "#bd3786"
            ],
            [
             0.5555555555555556,
             "#d8576b"
            ],
            [
             0.6666666666666666,
             "#ed7953"
            ],
            [
             0.7777777777777778,
             "#fb9f3a"
            ],
            [
             0.8888888888888888,
             "#fdca26"
            ],
            [
             1,
             "#f0f921"
            ]
           ],
           "sequentialminus": [
            [
             0,
             "#0d0887"
            ],
            [
             0.1111111111111111,
             "#46039f"
            ],
            [
             0.2222222222222222,
             "#7201a8"
            ],
            [
             0.3333333333333333,
             "#9c179e"
            ],
            [
             0.4444444444444444,
             "#bd3786"
            ],
            [
             0.5555555555555556,
             "#d8576b"
            ],
            [
             0.6666666666666666,
             "#ed7953"
            ],
            [
             0.7777777777777778,
             "#fb9f3a"
            ],
            [
             0.8888888888888888,
             "#fdca26"
            ],
            [
             1,
             "#f0f921"
            ]
           ]
          },
          "colorway": [
           "#636efa",
           "#EF553B",
           "#00cc96",
           "#ab63fa",
           "#FFA15A",
           "#19d3f3",
           "#FF6692",
           "#B6E880",
           "#FF97FF",
           "#FECB52"
          ],
          "font": {
           "color": "#2a3f5f"
          },
          "geo": {
           "bgcolor": "white",
           "lakecolor": "white",
           "landcolor": "#E5ECF6",
           "showlakes": true,
           "showland": true,
           "subunitcolor": "white"
          },
          "hoverlabel": {
           "align": "left"
          },
          "hovermode": "closest",
          "mapbox": {
           "style": "light"
          },
          "paper_bgcolor": "white",
          "plot_bgcolor": "#E5ECF6",
          "polar": {
           "angularaxis": {
            "gridcolor": "white",
            "linecolor": "white",
            "ticks": ""
           },
           "bgcolor": "#E5ECF6",
           "radialaxis": {
            "gridcolor": "white",
            "linecolor": "white",
            "ticks": ""
           }
          },
          "scene": {
           "xaxis": {
            "backgroundcolor": "#E5ECF6",
            "gridcolor": "white",
            "gridwidth": 2,
            "linecolor": "white",
            "showbackground": true,
            "ticks": "",
            "zerolinecolor": "white"
           },
           "yaxis": {
            "backgroundcolor": "#E5ECF6",
            "gridcolor": "white",
            "gridwidth": 2,
            "linecolor": "white",
            "showbackground": true,
            "ticks": "",
            "zerolinecolor": "white"
           },
           "zaxis": {
            "backgroundcolor": "#E5ECF6",
            "gridcolor": "white",
            "gridwidth": 2,
            "linecolor": "white",
            "showbackground": true,
            "ticks": "",
            "zerolinecolor": "white"
           }
          },
          "shapedefaults": {
           "line": {
            "color": "#2a3f5f"
           }
          },
          "ternary": {
           "aaxis": {
            "gridcolor": "white",
            "linecolor": "white",
            "ticks": ""
           },
           "baxis": {
            "gridcolor": "white",
            "linecolor": "white",
            "ticks": ""
           },
           "bgcolor": "#E5ECF6",
           "caxis": {
            "gridcolor": "white",
            "linecolor": "white",
            "ticks": ""
           }
          },
          "title": {
           "x": 0.05
          },
          "xaxis": {
           "automargin": true,
           "gridcolor": "white",
           "linecolor": "white",
           "ticks": "",
           "title": {
            "standoff": 15
           },
           "zerolinecolor": "white",
           "zerolinewidth": 2
          },
          "yaxis": {
           "automargin": true,
           "gridcolor": "white",
           "linecolor": "white",
           "ticks": "",
           "title": {
            "standoff": 15
           },
           "zerolinecolor": "white",
           "zerolinewidth": 2
          }
         }
        },
        "xaxis": {
         "anchor": "y",
         "domain": [
          0,
          1
         ],
         "title": {
          "text": "ds"
         }
        },
        "yaxis": {
         "anchor": "x",
         "domain": [
          0,
          1
         ],
         "title": {
          "text": "y"
         }
        }
       }
      }
     },
     "metadata": {},
     "output_type": "display_data"
    }
   ],
   "source": [
    "px.line(df, x=\"ds\", y=\"y\", facet_col=\"unique_id\")"
   ]
  },
  {
   "cell_type": "code",
   "execution_count": 281,
   "id": "57de21ce",
   "metadata": {},
   "outputs": [],
   "source": [
    "def forecastability(X):\n",
    "    \"\"\"\n",
    "    Calculate forecastability metrics for a time series.\n",
    "    \"\"\"\n",
    "    return {\"foreCA\": foreca(X),\n",
    "     \"theoretical_limit\": theoretical_limit(X),\n",
    "     \"stability_index\": stability_index(X, detrend=True),\n",
    "     \"adi_cv\": adi_cv(X),\n",
    "     \"hurst_exponent\": hurst_exponent(X)}"
   ]
  },
  {
   "cell_type": "code",
   "execution_count": 282,
   "id": "14d4ca2c",
   "metadata": {},
   "outputs": [
    {
     "data": {
      "text/plain": [
       "unique_id                   \n",
       "1          foreCA                                               0.571263\n",
       "           theoretical_limit                                    0.086973\n",
       "           stability_index                                      0.183962\n",
       "           adi_cv                             (1.0, 0.18190737443351804)\n",
       "           hurst_exponent       (0.5203628364992473, 0.8044229708616066)\n",
       "Name: y, dtype: object"
      ]
     },
     "execution_count": 282,
     "metadata": {},
     "output_type": "execute_result"
    }
   ],
   "source": [
    "df.groupby(\"unique_id\")[\"y\"].apply(forecastability)"
   ]
  },
  {
   "cell_type": "markdown",
   "id": "27a8ad1f",
   "metadata": {},
   "source": [
    "# ADF Test - Order of Diff 1"
   ]
  },
  {
   "cell_type": "code",
   "execution_count": 284,
   "id": "d7e1ecee",
   "metadata": {},
   "outputs": [],
   "source": [
    "def generate_lag(X, lag=1):\n",
    "    X = np.asarray(X, dtype=np.float64)\n",
    "\n",
    "    if X.ndim > 1:\n",
    "        raise ValueError(\"Input array must be one-dimensional.\")\n",
    "\n",
    "    return np.concatenate((np.nan * np.ones(lag), (X[lag:] - X[:-lag])))"
   ]
  },
  {
   "cell_type": "code",
   "execution_count": 285,
   "id": "1ed2dc40",
   "metadata": {},
   "outputs": [],
   "source": [
    "df[\"lag_1\"] = df[\"y\"].pipe(generate_lag, lag=1)\n",
    "df[\"lag_12\"] = df[\"lag_1\"].pipe(generate_lag, lag=12)\n",
    "#df = df.dropna()"
   ]
  },
  {
   "cell_type": "code",
   "execution_count": 286,
   "id": "6d93c7e4",
   "metadata": {},
   "outputs": [
    {
     "data": {
      "text/html": [
       "<div>\n",
       "<style scoped>\n",
       "    .dataframe tbody tr th:only-of-type {\n",
       "        vertical-align: middle;\n",
       "    }\n",
       "\n",
       "    .dataframe tbody tr th {\n",
       "        vertical-align: top;\n",
       "    }\n",
       "\n",
       "    .dataframe thead th {\n",
       "        text-align: right;\n",
       "    }\n",
       "</style>\n",
       "<table border=\"1\" class=\"dataframe\">\n",
       "  <thead>\n",
       "    <tr style=\"text-align: right;\">\n",
       "      <th></th>\n",
       "      <th>unique_id</th>\n",
       "      <th>ds</th>\n",
       "      <th>y</th>\n",
       "      <th>lag_1</th>\n",
       "      <th>lag_12</th>\n",
       "    </tr>\n",
       "  </thead>\n",
       "  <tbody>\n",
       "    <tr>\n",
       "      <th>0</th>\n",
       "      <td>1</td>\n",
       "      <td>1949-01-01</td>\n",
       "      <td>112</td>\n",
       "      <td>NaN</td>\n",
       "      <td>NaN</td>\n",
       "    </tr>\n",
       "    <tr>\n",
       "      <th>1</th>\n",
       "      <td>1</td>\n",
       "      <td>1949-02-01</td>\n",
       "      <td>118</td>\n",
       "      <td>6.0</td>\n",
       "      <td>NaN</td>\n",
       "    </tr>\n",
       "    <tr>\n",
       "      <th>2</th>\n",
       "      <td>1</td>\n",
       "      <td>1949-03-01</td>\n",
       "      <td>132</td>\n",
       "      <td>14.0</td>\n",
       "      <td>NaN</td>\n",
       "    </tr>\n",
       "    <tr>\n",
       "      <th>3</th>\n",
       "      <td>1</td>\n",
       "      <td>1949-04-01</td>\n",
       "      <td>129</td>\n",
       "      <td>-3.0</td>\n",
       "      <td>NaN</td>\n",
       "    </tr>\n",
       "    <tr>\n",
       "      <th>4</th>\n",
       "      <td>1</td>\n",
       "      <td>1949-05-01</td>\n",
       "      <td>121</td>\n",
       "      <td>-8.0</td>\n",
       "      <td>NaN</td>\n",
       "    </tr>\n",
       "    <tr>\n",
       "      <th>...</th>\n",
       "      <td>...</td>\n",
       "      <td>...</td>\n",
       "      <td>...</td>\n",
       "      <td>...</td>\n",
       "      <td>...</td>\n",
       "    </tr>\n",
       "    <tr>\n",
       "      <th>139</th>\n",
       "      <td>1</td>\n",
       "      <td>1960-08-01</td>\n",
       "      <td>606</td>\n",
       "      <td>-16.0</td>\n",
       "      <td>-27.0</td>\n",
       "    </tr>\n",
       "    <tr>\n",
       "      <th>140</th>\n",
       "      <td>1</td>\n",
       "      <td>1960-09-01</td>\n",
       "      <td>508</td>\n",
       "      <td>-98.0</td>\n",
       "      <td>-2.0</td>\n",
       "    </tr>\n",
       "    <tr>\n",
       "      <th>141</th>\n",
       "      <td>1</td>\n",
       "      <td>1960-10-01</td>\n",
       "      <td>461</td>\n",
       "      <td>-47.0</td>\n",
       "      <td>9.0</td>\n",
       "    </tr>\n",
       "    <tr>\n",
       "      <th>142</th>\n",
       "      <td>1</td>\n",
       "      <td>1960-11-01</td>\n",
       "      <td>390</td>\n",
       "      <td>-71.0</td>\n",
       "      <td>-26.0</td>\n",
       "    </tr>\n",
       "    <tr>\n",
       "      <th>143</th>\n",
       "      <td>1</td>\n",
       "      <td>1960-12-01</td>\n",
       "      <td>432</td>\n",
       "      <td>42.0</td>\n",
       "      <td>-1.0</td>\n",
       "    </tr>\n",
       "  </tbody>\n",
       "</table>\n",
       "<p>144 rows × 5 columns</p>\n",
       "</div>"
      ],
      "text/plain": [
       "    unique_id         ds    y  lag_1  lag_12\n",
       "0           1 1949-01-01  112    NaN     NaN\n",
       "1           1 1949-02-01  118    6.0     NaN\n",
       "2           1 1949-03-01  132   14.0     NaN\n",
       "3           1 1949-04-01  129   -3.0     NaN\n",
       "4           1 1949-05-01  121   -8.0     NaN\n",
       "..        ...        ...  ...    ...     ...\n",
       "139         1 1960-08-01  606  -16.0   -27.0\n",
       "140         1 1960-09-01  508  -98.0    -2.0\n",
       "141         1 1960-10-01  461  -47.0     9.0\n",
       "142         1 1960-11-01  390  -71.0   -26.0\n",
       "143         1 1960-12-01  432   42.0    -1.0\n",
       "\n",
       "[144 rows x 5 columns]"
      ]
     },
     "execution_count": 286,
     "metadata": {},
     "output_type": "execute_result"
    }
   ],
   "source": [
    "df"
   ]
  },
  {
   "cell_type": "code",
   "execution_count": 287,
   "id": "1166020f",
   "metadata": {},
   "outputs": [],
   "source": [
    "#df.groupby(\"unique_id\")[\"lag_1\"].apply(adfuller)"
   ]
  },
  {
   "cell_type": "markdown",
   "id": "91b07829",
   "metadata": {},
   "source": [
    "# Domingo"
   ]
  },
  {
   "cell_type": "markdown",
   "id": "0fbec429",
   "metadata": {},
   "source": [
    "- #TODO: Adicionar gráfico de STL\n",
    "- #TODO: Interpretar\n",
    "- #TODO: Adicionar gráficos da aula do valeriy\n",
    "- #TODO: Comparativo de dados diferenciados\n",
    "- #TODO: Trazer gráficos de ipynbs dele"
   ]
  },
  {
   "cell_type": "code",
   "execution_count": 288,
   "id": "95808241",
   "metadata": {},
   "outputs": [],
   "source": [
    "def plot_acf_pacf_adf(df, variables, fig_type=None):\n",
    "\n",
    "    def create_acf_pacf_traces(data, nlags=30, color=None):\n",
    "        n = len(data)\n",
    "        conf = 1.96 / np.sqrt(n)\n",
    "        acf_vals = acf(data, nlags=nlags)\n",
    "        pacf_vals = pacf(data, nlags=nlags, method='yw')\n",
    "\n",
    "        acf_bar = go.Bar(x=list(range(len(acf_vals))), y=acf_vals, marker_color=color)\n",
    "        pacf_bar = go.Bar(x=list(range(len(pacf_vals))), y=pacf_vals, marker_color=color)\n",
    "\n",
    "        band_upper = go.Scatter(x=list(range(nlags+1)), y=[conf]*(nlags+1),\n",
    "                                mode='lines', line=dict(color='gray', dash='dash'), showlegend=False)\n",
    "        band_lower = go.Scatter(x=list(range(nlags+1)), y=[-conf]*(nlags+1),\n",
    "                                mode='lines', line=dict(color='gray', dash='dash'), showlegend=False)\n",
    "\n",
    "        return acf_bar, pacf_bar, band_upper, band_lower\n",
    "    \n",
    "    # Criar títulos dos subplots corretamente\n",
    "    subplot_titles = []\n",
    "    for var in variables:\n",
    "        subplot_titles.extend([f\"Series ({var})\", f\"ACF ({var})\", f\"PACF ({var})\"])\n",
    "    subplot_titles.extend([\"ADF Results Summary\", \"\", \"\"])\n",
    "\n",
    "    fig = sp.make_subplots(\n",
    "        rows=len(variables) + 1, cols=3,\n",
    "        subplot_titles=subplot_titles\n",
    "    )\n",
    "\n",
    "    # Calcular ADF results primeiro\n",
    "    adf_results = {}\n",
    "    \n",
    "    for i, var in enumerate(variables, start=1):\n",
    "        X = df[var].dropna()\n",
    "        adf_stat, p_value = adfuller(X)[:2]\n",
    "        adf_results[var] = f\"ADF={adf_stat:.4f}, p={p_value:.4f}\"\n",
    "        # Série temporal\n",
    "        fig.add_trace(\n",
    "            go.Scatter(x=X.index, y=X, mode='lines', name=var, showlegend=False, line=dict(color='orange')), \n",
    "            row=i, col=1\n",
    "        )\n",
    "        \n",
    "        # ACF e PACF\n",
    "        acf_values, pacf_values, conf_up, conf_lo = create_acf_pacf_traces(X, color='orange')\n",
    "        \n",
    "        fig.add_trace(acf_values, row=i, col=2)\n",
    "        fig.add_trace(pacf_values, row=i, col=3)\n",
    "        fig.add_trace(conf_up, row=i, col=2)\n",
    "        fig.add_trace(conf_lo, row=i, col=2)\n",
    "        fig.add_trace(conf_up, row=i, col=3)\n",
    "        fig.add_trace(conf_lo, row=i, col=3)\n",
    "\n",
    "    adf_text = \"<br>\".join([f\"<b>{k}</b>: {v}\" for k, v in adf_results.items()])\n",
    "\n",
    "    # Row 4 - ADF summary as annotation\n",
    "    fig.add_trace(go.Scatter(\n",
    "        x=[0], y=[0], text=[adf_text],\n",
    "        mode='text', showlegend=False\n",
    "    ), row=len(variables) + 1, col=1)\n",
    "\n",
    "    # Layout\n",
    "    fig.update_layout(\n",
    "        title=\"ACF/PACF Across Differencing Stages with ADF Summary\",\n",
    "        height=1200,\n",
    "        width=1300,\n",
    "        showlegend=False\n",
    "    )\n",
    "\n",
    "    # Axis labels\n",
    "    for row in range(1, 3):\n",
    "        fig.update_xaxes(title_text=\"Date\", row=row, col=1)\n",
    "        fig.update_yaxes(title_text=\"Value\", row=row, col=1)\n",
    "        fig.update_xaxes(title_text=\"Lag\", row=row, col=2)\n",
    "        fig.update_xaxes(title_text=\"Lag\", row=row, col=3)\n",
    "        fig.update_yaxes(title_text=\"ACF\", row=row, col=2)\n",
    "        fig.update_yaxes(title_text=\"PACF\", row=row, col=3)\n",
    "\n",
    "    fig.update_xaxes(visible=False, row=4, col=1)\n",
    "    fig.update_yaxes(visible=False, row=4, col=1)\n",
    "\n",
    "    return fig.show(fig_type)"
   ]
  },
  {
   "cell_type": "code",
   "execution_count": 289,
   "id": "b0f025d8",
   "metadata": {},
   "outputs": [
    {
     "data": {
      "application/vnd.plotly.v1+json": {
       "config": {
        "plotlyServerURL": "https://plot.ly"
       },
       "data": [
        {
         "line": {
          "color": "orange"
         },
         "mode": "lines",
         "name": "y",
         "showlegend": false,
         "type": "scatter",
         "x": {
          "bdata": "AAABAAIAAwAEAAUABgAHAAgACQAKAAsADAANAA4ADwAQABEAEgATABQAFQAWABcAGAAZABoAGwAcAB0AHgAfACAAIQAiACMAJAAlACYAJwAoACkAKgArACwALQAuAC8AMAAxADIAMwA0ADUANgA3ADgAOQA6ADsAPAA9AD4APwBAAEEAQgBDAEQARQBGAEcASABJAEoASwBMAE0ATgBPAFAAUQBSAFMAVABVAFYAVwBYAFkAWgBbAFwAXQBeAF8AYABhAGIAYwBkAGUAZgBnAGgAaQBqAGsAbABtAG4AbwBwAHEAcgBzAHQAdQB2AHcAeAB5AHoAewB8AH0AfgB/AIAAgQCCAIMAhACFAIYAhwCIAIkAigCLAIwAjQCOAI8A",
          "dtype": "i2"
         },
         "xaxis": "x",
         "y": {
          "bdata": "cAB2AIQAgQB5AIcAlACUAIgAdwBoAHYAcwB+AI0AhwB9AJUAqgCqAJ4AhQByAIwAkQCWALIAowCsALIAxwDHALgAogCSAKYAqwC0AMEAtQC3ANoA5gDyANEAvwCsAMIAxADEAOwA6wDlAPMACAEQAe0A0wC0AMkAzAC8AOsA4wDqAAgBLgElAQMB5QDLAOUA8gDpAAsBDQEOATsBbAFbATgBEgHtABYBHAEVAT0BOQE+AXYBnQGVAWMBMgEPATIBOwEtAWQBXAFjAaYB0QHTAZQBWwExAVABVAE+AWoBXAFrAbMB6wH5AZQBZwE2AVEBaAFWAZYBjAGkAdgBJAIvAs8BlwFqAZUBoQGHAaMBzQHYARcCbgJeAvwBzQGGAbAB",
          "dtype": "i2"
         },
         "yaxis": "y"
        },
        {
         "marker": {
          "color": "orange"
         },
         "type": "bar",
         "x": [
          0,
          1,
          2,
          3,
          4,
          5,
          6,
          7,
          8,
          9,
          10,
          11,
          12,
          13,
          14,
          15,
          16,
          17,
          18,
          19,
          20,
          21,
          22,
          23,
          24,
          25,
          26,
          27,
          28,
          29,
          30
         ],
         "xaxis": "x2",
         "y": {
          "bdata": "AAAAAAAA8D9d73JgZ1buPxEMQoS1BOw/zgWl/1TQ6T+zRjrmgRXoPykGLSA01+Y/P4Jc/cLQ5T9benpCgzblPzDpotbC+uQ/bru3oGh45T9gq9F8rnzmP71xG6afyOc/5dzR+ydV6D8Fv3ArHs7mP2dE7wDWruQ/CIbueuK/4j8S2ePN7TbhP5w/Fwzd+98/nI//8bz/3T9KSmBUrsrcP1rfrGylQ9w/nZzwbidD3T+9BWtO/ODeP9ZT4OVNjOA/M6mj97IH4T90F3I6TJ3fP77/3VqgA9w/0bqPZHzO2D+c+ALJCkbWP2GFRiWyKNQ/snVrXLt20j8=",
          "dtype": "f8"
         },
         "yaxis": "y2"
        },
        {
         "marker": {
          "color": "orange"
         },
         "type": "bar",
         "x": [
          0,
          1,
          2,
          3,
          4,
          5,
          6,
          7,
          8,
          9,
          10,
          11,
          12,
          13,
          14,
          15,
          16,
          17,
          18,
          19,
          20,
          21,
          22,
          23,
          24,
          25,
          26,
          27,
          28,
          29,
          30
         ],
         "xaxis": "x3",
         "y": {
          "bdata": "AAAAAAAA8D+LKHDetozuP01B27VN+tC/0iC2JoFmrD+hHaQ8AN67Pw88iNKoxLQ/c6E5F83lcD98420oXf3DP1WqjQ2hjLo/kPfeJGV70j9iOjBkSnzKP4rCe5BW3c4/fTSB3oE5xL/gJgHhg/zmvy78ygo06La/xfa8IZVdzD8JunCoTzvBP/cjyOX9mL0/Cj6wbivwyD/DGDevdb64P4446upV4Mm/FTlOo6r4t7+Vr0yyOB7Wv6PZcnj4Lbu/rJGcdY3H0T/RZurvnhiuP0WvcGDANIQ/FsNaJopszj+iiZOdGxS4PxyQYCp14cK/o/GCZFckyL8=",
          "dtype": "f8"
         },
         "yaxis": "y3"
        },
        {
         "line": {
          "color": "gray",
          "dash": "dash"
         },
         "mode": "lines",
         "showlegend": false,
         "type": "scatter",
         "x": [
          0,
          1,
          2,
          3,
          4,
          5,
          6,
          7,
          8,
          9,
          10,
          11,
          12,
          13,
          14,
          15,
          16,
          17,
          18,
          19,
          20,
          21,
          22,
          23,
          24,
          25,
          26,
          27,
          28,
          29,
          30
         ],
         "xaxis": "x2",
         "y": [
          0.16333333333333333,
          0.16333333333333333,
          0.16333333333333333,
          0.16333333333333333,
          0.16333333333333333,
          0.16333333333333333,
          0.16333333333333333,
          0.16333333333333333,
          0.16333333333333333,
          0.16333333333333333,
          0.16333333333333333,
          0.16333333333333333,
          0.16333333333333333,
          0.16333333333333333,
          0.16333333333333333,
          0.16333333333333333,
          0.16333333333333333,
          0.16333333333333333,
          0.16333333333333333,
          0.16333333333333333,
          0.16333333333333333,
          0.16333333333333333,
          0.16333333333333333,
          0.16333333333333333,
          0.16333333333333333,
          0.16333333333333333,
          0.16333333333333333,
          0.16333333333333333,
          0.16333333333333333,
          0.16333333333333333,
          0.16333333333333333
         ],
         "yaxis": "y2"
        },
        {
         "line": {
          "color": "gray",
          "dash": "dash"
         },
         "mode": "lines",
         "showlegend": false,
         "type": "scatter",
         "x": [
          0,
          1,
          2,
          3,
          4,
          5,
          6,
          7,
          8,
          9,
          10,
          11,
          12,
          13,
          14,
          15,
          16,
          17,
          18,
          19,
          20,
          21,
          22,
          23,
          24,
          25,
          26,
          27,
          28,
          29,
          30
         ],
         "xaxis": "x2",
         "y": [
          -0.16333333333333333,
          -0.16333333333333333,
          -0.16333333333333333,
          -0.16333333333333333,
          -0.16333333333333333,
          -0.16333333333333333,
          -0.16333333333333333,
          -0.16333333333333333,
          -0.16333333333333333,
          -0.16333333333333333,
          -0.16333333333333333,
          -0.16333333333333333,
          -0.16333333333333333,
          -0.16333333333333333,
          -0.16333333333333333,
          -0.16333333333333333,
          -0.16333333333333333,
          -0.16333333333333333,
          -0.16333333333333333,
          -0.16333333333333333,
          -0.16333333333333333,
          -0.16333333333333333,
          -0.16333333333333333,
          -0.16333333333333333,
          -0.16333333333333333,
          -0.16333333333333333,
          -0.16333333333333333,
          -0.16333333333333333,
          -0.16333333333333333,
          -0.16333333333333333,
          -0.16333333333333333
         ],
         "yaxis": "y2"
        },
        {
         "line": {
          "color": "gray",
          "dash": "dash"
         },
         "mode": "lines",
         "showlegend": false,
         "type": "scatter",
         "x": [
          0,
          1,
          2,
          3,
          4,
          5,
          6,
          7,
          8,
          9,
          10,
          11,
          12,
          13,
          14,
          15,
          16,
          17,
          18,
          19,
          20,
          21,
          22,
          23,
          24,
          25,
          26,
          27,
          28,
          29,
          30
         ],
         "xaxis": "x3",
         "y": [
          0.16333333333333333,
          0.16333333333333333,
          0.16333333333333333,
          0.16333333333333333,
          0.16333333333333333,
          0.16333333333333333,
          0.16333333333333333,
          0.16333333333333333,
          0.16333333333333333,
          0.16333333333333333,
          0.16333333333333333,
          0.16333333333333333,
          0.16333333333333333,
          0.16333333333333333,
          0.16333333333333333,
          0.16333333333333333,
          0.16333333333333333,
          0.16333333333333333,
          0.16333333333333333,
          0.16333333333333333,
          0.16333333333333333,
          0.16333333333333333,
          0.16333333333333333,
          0.16333333333333333,
          0.16333333333333333,
          0.16333333333333333,
          0.16333333333333333,
          0.16333333333333333,
          0.16333333333333333,
          0.16333333333333333,
          0.16333333333333333
         ],
         "yaxis": "y3"
        },
        {
         "line": {
          "color": "gray",
          "dash": "dash"
         },
         "mode": "lines",
         "showlegend": false,
         "type": "scatter",
         "x": [
          0,
          1,
          2,
          3,
          4,
          5,
          6,
          7,
          8,
          9,
          10,
          11,
          12,
          13,
          14,
          15,
          16,
          17,
          18,
          19,
          20,
          21,
          22,
          23,
          24,
          25,
          26,
          27,
          28,
          29,
          30
         ],
         "xaxis": "x3",
         "y": [
          -0.16333333333333333,
          -0.16333333333333333,
          -0.16333333333333333,
          -0.16333333333333333,
          -0.16333333333333333,
          -0.16333333333333333,
          -0.16333333333333333,
          -0.16333333333333333,
          -0.16333333333333333,
          -0.16333333333333333,
          -0.16333333333333333,
          -0.16333333333333333,
          -0.16333333333333333,
          -0.16333333333333333,
          -0.16333333333333333,
          -0.16333333333333333,
          -0.16333333333333333,
          -0.16333333333333333,
          -0.16333333333333333,
          -0.16333333333333333,
          -0.16333333333333333,
          -0.16333333333333333,
          -0.16333333333333333,
          -0.16333333333333333,
          -0.16333333333333333,
          -0.16333333333333333,
          -0.16333333333333333,
          -0.16333333333333333,
          -0.16333333333333333,
          -0.16333333333333333,
          -0.16333333333333333
         ],
         "yaxis": "y3"
        },
        {
         "line": {
          "color": "orange"
         },
         "mode": "lines",
         "name": "lag_1",
         "showlegend": false,
         "type": "scatter",
         "x": {
          "bdata": "AQACAAMABAAFAAYABwAIAAkACgALAAwADQAOAA8AEAARABIAEwAUABUAFgAXABgAGQAaABsAHAAdAB4AHwAgACEAIgAjACQAJQAmACcAKAApACoAKwAsAC0ALgAvADAAMQAyADMANAA1ADYANwA4ADkAOgA7ADwAPQA+AD8AQABBAEIAQwBEAEUARgBHAEgASQBKAEsATABNAE4ATwBQAFEAUgBTAFQAVQBWAFcAWABZAFoAWwBcAF0AXgBfAGAAYQBiAGMAZABlAGYAZwBoAGkAagBrAGwAbQBuAG8AcABxAHIAcwB0AHUAdgB3AHgAeQB6AHsAfAB9AH4AfwCAAIEAggCDAIQAhQCGAIcAiACJAIoAiwCMAI0AjgCPAA==",
          "dtype": "i2"
         },
         "xaxis": "x4",
         "y": {
          "bdata": "AAAAAAAAGEAAAAAAAAAsQAAAAAAAAAjAAAAAAAAAIMAAAAAAAAAsQAAAAAAAACpAAAAAAAAAAAAAAAAAAAAowAAAAAAAADHAAAAAAAAALsAAAAAAAAAsQAAAAAAAAAjAAAAAAAAAJkAAAAAAAAAuQAAAAAAAABjAAAAAAAAAJMAAAAAAAAA4QAAAAAAAADVAAAAAAAAAAAAAAAAAAAAowAAAAAAAADnAAAAAAAAAM8AAAAAAAAA6QAAAAAAAABRAAAAAAAAAFEAAAAAAAAA8QAAAAAAAAC7AAAAAAAAAIkAAAAAAAAAYQAAAAAAAADVAAAAAAAAAAAAAAAAAAAAuwAAAAAAAADbAAAAAAAAAMMAAAAAAAAA0QAAAAAAAABRAAAAAAAAAIkAAAAAAAAAqQAAAAAAAACjAAAAAAAAAAEAAAAAAAIBBQAAAAAAAAChAAAAAAAAAKEAAAAAAAIBAwAAAAAAAADLAAAAAAAAAM8AAAAAAAAA2QAAAAAAAAABAAAAAAAAAAAAAAAAAAABEQAAAAAAAAPC/AAAAAAAAGMAAAAAAAAAsQAAAAAAAADVAAAAAAAAAIEAAAAAAAIBBwAAAAAAAADrAAAAAAAAAP8AAAAAAAAA1QAAAAAAAAAhAAAAAAAAAMMAAAAAAAIBHQAAAAAAAACDAAAAAAAAAHEAAAAAAAAA+QAAAAAAAAENAAAAAAAAAIsAAAAAAAABBwAAAAAAAAD7AAAAAAAAAOsAAAAAAAAA6QAAAAAAAACpAAAAAAAAAIsAAAAAAAABBQAAAAAAAAABAAAAAAAAA8D8AAAAAAIBGQAAAAAAAgEhAAAAAAAAAMcAAAAAAAIBBwAAAAAAAAEPAAAAAAACAQsAAAAAAAIBEQAAAAAAAABhAAAAAAAAAHMAAAAAAAABEQAAAAAAAABDAAAAAAAAAFEAAAAAAAABMQAAAAAAAgENAAAAAAAAAIMAAAAAAAABJwAAAAAAAgEjAAAAAAACAQcAAAAAAAIBBQAAAAAAAACJAAAAAAAAALMAAAAAAAIBLQAAAAAAAACDAAAAAAAAAHEAAAAAAAMBQQAAAAAAAgEVAAAAAAAAAAEAAAAAAAIBPwAAAAAAAgEzAAAAAAAAARcAAAAAAAAA/QAAAAAAAABBAAAAAAAAANsAAAAAAAABGQAAAAAAAACzAAAAAAAAALkAAAAAAAABSQAAAAAAAAExAAAAAAAAALEAAAAAAAEBZwAAAAAAAgEbAAAAAAACASMAAAAAAAAA7QAAAAAAAADdAAAAAAAAAMsAAAAAAAABQQAAAAAAAACTAAAAAAAAAOEAAAAAAAABKQAAAAAAAAFNAAAAAAAAAJkAAAAAAAABYwAAAAAAAAEzAAAAAAACARsAAAAAAAIBFQAAAAAAAAChAAAAAAAAAOsAAAAAAAAA8QAAAAAAAAEVAAAAAAAAAJkAAAAAAAIBPQAAAAAAAwFVAAAAAAAAAMMAAAAAAAIBYwAAAAAAAgEfAAAAAAADAUcAAAAAAAABFQA==",
          "dtype": "f8"
         },
         "yaxis": "y4"
        },
        {
         "marker": {
          "color": "orange"
         },
         "type": "bar",
         "x": [
          0,
          1,
          2,
          3,
          4,
          5,
          6,
          7,
          8,
          9,
          10,
          11,
          12,
          13,
          14,
          15,
          16,
          17,
          18,
          19,
          20,
          21,
          22,
          23,
          24,
          25,
          26,
          27,
          28,
          29,
          30
         ],
         "xaxis": "x5",
         "y": {
          "bdata": "AAAAAAAA8D9n2ksF+2HTPzWYV3pXJrq/R+99swzizr+dgGGIxznTv+wVdDcmFbi/RR5a5M8UtL/staiYDKW3v2Y8wXIH3tK/LfREOTCMyL/jIKxJ2Nu6vyUEl9qKG9I/XDLHAaCI6j8TOsTKQjXSP2HCa3+LEru/N4iTRMluzL/a76lF5pPNv1FDW8oJ46+/pN8cz4DxsL/XVArdbyS3v55nIeHXA9O/Y/qbzmbUxL94A8QaEz+1v9LZYeJIWtA/oFuq7kpv5j8qNW0V63LQP9q60R5IIrm/zRg2yikYyb+E2d62eUTGv9P64RYVubG/pdptpxhXpb8=",
          "dtype": "f8"
         },
         "yaxis": "y5"
        },
        {
         "marker": {
          "color": "orange"
         },
         "type": "bar",
         "x": [
          0,
          1,
          2,
          3,
          4,
          5,
          6,
          7,
          8,
          9,
          10,
          11,
          12,
          13,
          14,
          15,
          16,
          17,
          18,
          19,
          20,
          21,
          22,
          23,
          24,
          25,
          26,
          27,
          28,
          29,
          30
         ],
         "xaxis": "x6",
         "y": {
          "bdata": "AAAAAAAA8D8zhyaQ7ITTP3YPT+Bkv8u/RtfcJ9UCxb+d1nFijknNv/GqMXlB5oQ/y5ohwGqmyb9MbOPHw/fEv/PVSCt2at+/hfTEwh7c0b94qlxPk4jlv+KwY/ERytq/lzm31a9x4z8rY7RnnVqrv7omo5Y5P9O/3n8Kjyy6lD/WNkS8Ob7BPwbs4pVFO7c/MGqsItc1v7+qeEiJbG2FP3dD6jhV28u/ou4cjhkvv7+9qNG8pmRsP6Wsz8yN/7K/NPIqvk2HxL+XD/ys9rHFv/Xvpn6dIMO/7LkDnDNilr9HuJsX55nEvxfJ6vbjqt6/+D8njuVQ2r8=",
          "dtype": "f8"
         },
         "yaxis": "y6"
        },
        {
         "line": {
          "color": "gray",
          "dash": "dash"
         },
         "mode": "lines",
         "showlegend": false,
         "type": "scatter",
         "x": [
          0,
          1,
          2,
          3,
          4,
          5,
          6,
          7,
          8,
          9,
          10,
          11,
          12,
          13,
          14,
          15,
          16,
          17,
          18,
          19,
          20,
          21,
          22,
          23,
          24,
          25,
          26,
          27,
          28,
          29,
          30
         ],
         "xaxis": "x5",
         "y": [
          0.1639034339613898,
          0.1639034339613898,
          0.1639034339613898,
          0.1639034339613898,
          0.1639034339613898,
          0.1639034339613898,
          0.1639034339613898,
          0.1639034339613898,
          0.1639034339613898,
          0.1639034339613898,
          0.1639034339613898,
          0.1639034339613898,
          0.1639034339613898,
          0.1639034339613898,
          0.1639034339613898,
          0.1639034339613898,
          0.1639034339613898,
          0.1639034339613898,
          0.1639034339613898,
          0.1639034339613898,
          0.1639034339613898,
          0.1639034339613898,
          0.1639034339613898,
          0.1639034339613898,
          0.1639034339613898,
          0.1639034339613898,
          0.1639034339613898,
          0.1639034339613898,
          0.1639034339613898,
          0.1639034339613898,
          0.1639034339613898
         ],
         "yaxis": "y5"
        },
        {
         "line": {
          "color": "gray",
          "dash": "dash"
         },
         "mode": "lines",
         "showlegend": false,
         "type": "scatter",
         "x": [
          0,
          1,
          2,
          3,
          4,
          5,
          6,
          7,
          8,
          9,
          10,
          11,
          12,
          13,
          14,
          15,
          16,
          17,
          18,
          19,
          20,
          21,
          22,
          23,
          24,
          25,
          26,
          27,
          28,
          29,
          30
         ],
         "xaxis": "x5",
         "y": [
          -0.1639034339613898,
          -0.1639034339613898,
          -0.1639034339613898,
          -0.1639034339613898,
          -0.1639034339613898,
          -0.1639034339613898,
          -0.1639034339613898,
          -0.1639034339613898,
          -0.1639034339613898,
          -0.1639034339613898,
          -0.1639034339613898,
          -0.1639034339613898,
          -0.1639034339613898,
          -0.1639034339613898,
          -0.1639034339613898,
          -0.1639034339613898,
          -0.1639034339613898,
          -0.1639034339613898,
          -0.1639034339613898,
          -0.1639034339613898,
          -0.1639034339613898,
          -0.1639034339613898,
          -0.1639034339613898,
          -0.1639034339613898,
          -0.1639034339613898,
          -0.1639034339613898,
          -0.1639034339613898,
          -0.1639034339613898,
          -0.1639034339613898,
          -0.1639034339613898,
          -0.1639034339613898
         ],
         "yaxis": "y5"
        },
        {
         "line": {
          "color": "gray",
          "dash": "dash"
         },
         "mode": "lines",
         "showlegend": false,
         "type": "scatter",
         "x": [
          0,
          1,
          2,
          3,
          4,
          5,
          6,
          7,
          8,
          9,
          10,
          11,
          12,
          13,
          14,
          15,
          16,
          17,
          18,
          19,
          20,
          21,
          22,
          23,
          24,
          25,
          26,
          27,
          28,
          29,
          30
         ],
         "xaxis": "x6",
         "y": [
          0.1639034339613898,
          0.1639034339613898,
          0.1639034339613898,
          0.1639034339613898,
          0.1639034339613898,
          0.1639034339613898,
          0.1639034339613898,
          0.1639034339613898,
          0.1639034339613898,
          0.1639034339613898,
          0.1639034339613898,
          0.1639034339613898,
          0.1639034339613898,
          0.1639034339613898,
          0.1639034339613898,
          0.1639034339613898,
          0.1639034339613898,
          0.1639034339613898,
          0.1639034339613898,
          0.1639034339613898,
          0.1639034339613898,
          0.1639034339613898,
          0.1639034339613898,
          0.1639034339613898,
          0.1639034339613898,
          0.1639034339613898,
          0.1639034339613898,
          0.1639034339613898,
          0.1639034339613898,
          0.1639034339613898,
          0.1639034339613898
         ],
         "yaxis": "y6"
        },
        {
         "line": {
          "color": "gray",
          "dash": "dash"
         },
         "mode": "lines",
         "showlegend": false,
         "type": "scatter",
         "x": [
          0,
          1,
          2,
          3,
          4,
          5,
          6,
          7,
          8,
          9,
          10,
          11,
          12,
          13,
          14,
          15,
          16,
          17,
          18,
          19,
          20,
          21,
          22,
          23,
          24,
          25,
          26,
          27,
          28,
          29,
          30
         ],
         "xaxis": "x6",
         "y": [
          -0.1639034339613898,
          -0.1639034339613898,
          -0.1639034339613898,
          -0.1639034339613898,
          -0.1639034339613898,
          -0.1639034339613898,
          -0.1639034339613898,
          -0.1639034339613898,
          -0.1639034339613898,
          -0.1639034339613898,
          -0.1639034339613898,
          -0.1639034339613898,
          -0.1639034339613898,
          -0.1639034339613898,
          -0.1639034339613898,
          -0.1639034339613898,
          -0.1639034339613898,
          -0.1639034339613898,
          -0.1639034339613898,
          -0.1639034339613898,
          -0.1639034339613898,
          -0.1639034339613898,
          -0.1639034339613898,
          -0.1639034339613898,
          -0.1639034339613898,
          -0.1639034339613898,
          -0.1639034339613898,
          -0.1639034339613898,
          -0.1639034339613898,
          -0.1639034339613898,
          -0.1639034339613898
         ],
         "yaxis": "y6"
        },
        {
         "line": {
          "color": "orange"
         },
         "mode": "lines",
         "name": "lag_12",
         "showlegend": false,
         "type": "scatter",
         "x": {
          "bdata": "DQAOAA8AEAARABIAEwAUABUAFgAXABgAGQAaABsAHAAdAB4AHwAgACEAIgAjACQAJQAmACcAKAApACoAKwAsAC0ALgAvADAAMQAyADMANAA1ADYANwA4ADkAOgA7ADwAPQA+AD8AQABBAEIAQwBEAEUARgBHAEgASQBKAEsATABNAE4ATwBQAFEAUgBTAFQAVQBWAFcAWABZAFoAWwBcAF0AXgBfAGAAYQBiAGMAZABlAGYAZwBoAGkAagBrAGwAbQBuAG8AcABxAHIAcwB0AHUAdgB3AHgAeQB6AHsAfAB9AH4AfwCAAIEAggCDAIQAhQCGAIcAiACJAIoAiwCMAI0AjgCPAA==",
          "dtype": "i2"
         },
         "xaxis": "x7",
         "y": {
          "bdata": "AAAAAAAAFEAAAAAAAADwPwAAAAAAAAjAAAAAAAAAAMAAAAAAAAAkQAAAAAAAACBAAAAAAAAAAAAAAAAAAAAAAAAAAAAAACDAAAAAAAAAEMAAAAAAAAAoQAAAAAAAACBAAAAAAAAAGMAAAAAAAAAqQAAAAAAAACLAAAAAAAAAM0AAAAAAAAAywAAAAAAAAAAAAAAAAAAAAAAAAAAAAAAIwAAAAAAAAAhAAAAAAAAACEAAAAAAAAAYwAAAAAAAAAAAAAAAAAAAEEAAAAAAAAAuwAAAAAAAAAhAAAAAAAAAHMAAAAAAAAA9QAAAAAAAACLAAAAAAAAAKEAAAAAAAAAywAAAAAAAABBAAAAAAAAACMAAAAAAAAAAQAAAAAAAAAjAAAAAAAAAIsAAAAAAAAA7QAAAAAAAACZAAAAAAAAAIMAAAAAAAAA1wAAAAAAAACJAAAAAAAAAEMAAAAAAAAAAwAAAAAAAACDAAAAAAAAAKMAAAAAAAADwvwAAAAAAAPA/AAAAAAAAMMAAAAAAAAAcQAAAAAAAABzAAAAAAAAAKkAAAAAAAAAwQAAAAAAAADFAAAAAAAAAMcAAAAAAAADwPwAAAAAAABDAAAAAAAAAFEAAAAAAAAAUQAAAAAAAACRAAAAAAAAAHEAAAAAAAAAqwAAAAAAAACRAAAAAAAAAGMAAAAAAAAAuQAAAAAAAACZAAAAAAAAAIMAAAAAAAADwvwAAAAAAACDAAAAAAAAAJsAAAAAAAAAuQAAAAAAAABzAAAAAAAAAAEAAAAAAAAAYQAAAAAAAABjAAAAAAAAAEEAAAAAAAAAmQAAAAAAAACTAAAAAAAAAIkAAAAAAAAAuwAAAAAAAACbAAAAAAAAAAEAAAAAAAAAYwAAAAAAAAAhAAAAAAAAAHMAAAAAAAAAuQAAAAAAAABDAAAAAAAAAAEAAAAAAAAAmQAAAAAAAABBAAAAAAAAAJEAAAAAAAAAqwAAAAAAAACDAAAAAAAAAHMAAAAAAAAAQwAAAAAAAABTAAAAAAAAAIMAAAAAAAAAmwAAAAAAAABjAAAAAAAAAIEAAAAAAAAAUQAAAAAAAACpAAAAAAAAAKEAAAAAAAABDwAAAAAAAAChAAAAAAAAAHMAAAAAAAAAQwAAAAAAAADNAAAAAAAAAEEAAAAAAAAA0QAAAAAAAABBAAAAAAAAAIkAAAAAAAAA0wAAAAAAAADRAAAAAAAAACMAAAAAAAAAUQAAAAAAAACbAAAAAAAAAEEAAAAAAAAAwQAAAAAAAACbAAAAAAAAAIMAAAAAAAABCwAAAAAAAAEpAAAAAAAAAKsAAAAAAAAAmQAAAAAAAACZAAAAAAAAAO8AAAAAAAAAAwAAAAAAAACJAAAAAAAAAOsAAAAAAAADwvw==",
          "dtype": "f8"
         },
         "yaxis": "y7"
        },
        {
         "marker": {
          "color": "orange"
         },
         "type": "bar",
         "x": [
          0,
          1,
          2,
          3,
          4,
          5,
          6,
          7,
          8,
          9,
          10,
          11,
          12,
          13,
          14,
          15,
          16,
          17,
          18,
          19,
          20,
          21,
          22,
          23,
          24,
          25,
          26,
          27,
          28,
          29,
          30
         ],
         "xaxis": "x8",
         "y": {
          "bdata": "AAAAAAAA8D+j7AjMANTTv0tsrgL0aLg/N/leadfNuL8Top8PvVe5v38Raw98O68/NVn635XcMr/aRUdPQLqsv2PNuNvnNq+/tMo2H3KExj+9d6zJqPTBv3sGk6gs2rE/3RvqCTYcwb8EkqqfP1G2P7djCl1Yb2Q/eurbgZu5sD+4T78BCPK7v+AEYx5DHza/FbnJyMiKpj90/hGpgyu9v9tUUqOQXbe/sXlDWYV5pT+GZ1aLSiLEvyEYxWWTfNA/jyd0n1MNqz8E+Ns4aSmqvy2Wxlmq2bQ/o5HKuTMZur8gbca8IttYP9XM0sHoqj8/r9UQ8zgjpL8=",
          "dtype": "f8"
         },
         "yaxis": "y8"
        },
        {
         "marker": {
          "color": "orange"
         },
         "type": "bar",
         "x": [
          0,
          1,
          2,
          3,
          4,
          5,
          6,
          7,
          8,
          9,
          10,
          11,
          12,
          13,
          14,
          15,
          16,
          17,
          18,
          19,
          20,
          21,
          22,
          23,
          24,
          25,
          26,
          27,
          28,
          29,
          30
         ],
         "xaxis": "x9",
         "y": {
          "bdata": "AAAAAAAA8D8jw1eeDPvTv9+5htA4J0e/DJ12Bdebs7+Q7VO8GQ/Gv9nxbK5cUJC/ZPT4TdyHkz+CgHFA2vK3v8mC4EgdW8K//2aFDoabxT/lEC+HkIWwvwB3jCEc862/zZceWzhPwL8KtD8fvnmxPyesDoOMA3E/fzxJ8M0hpT8c4n7dBeG5v6hiNMJSN6C/eY9shpSTlz+ToGZ1GVnBvzKF2XKx7dO/uRzo0Xc3ej8Id/Tl8jPSv3u8OSl/d7o/q0HEHUCLwj8LFIvDoa+rP5w3DG8upqU/VKpHw6aPlb89sgRwDFq1v2ehwvFFHZW/580YzB3Jwb8=",
          "dtype": "f8"
         },
         "yaxis": "y9"
        },
        {
         "line": {
          "color": "gray",
          "dash": "dash"
         },
         "mode": "lines",
         "showlegend": false,
         "type": "scatter",
         "x": [
          0,
          1,
          2,
          3,
          4,
          5,
          6,
          7,
          8,
          9,
          10,
          11,
          12,
          13,
          14,
          15,
          16,
          17,
          18,
          19,
          20,
          21,
          22,
          23,
          24,
          25,
          26,
          27,
          28,
          29,
          30
         ],
         "xaxis": "x8",
         "y": [
          0.17124599510556343,
          0.17124599510556343,
          0.17124599510556343,
          0.17124599510556343,
          0.17124599510556343,
          0.17124599510556343,
          0.17124599510556343,
          0.17124599510556343,
          0.17124599510556343,
          0.17124599510556343,
          0.17124599510556343,
          0.17124599510556343,
          0.17124599510556343,
          0.17124599510556343,
          0.17124599510556343,
          0.17124599510556343,
          0.17124599510556343,
          0.17124599510556343,
          0.17124599510556343,
          0.17124599510556343,
          0.17124599510556343,
          0.17124599510556343,
          0.17124599510556343,
          0.17124599510556343,
          0.17124599510556343,
          0.17124599510556343,
          0.17124599510556343,
          0.17124599510556343,
          0.17124599510556343,
          0.17124599510556343,
          0.17124599510556343
         ],
         "yaxis": "y8"
        },
        {
         "line": {
          "color": "gray",
          "dash": "dash"
         },
         "mode": "lines",
         "showlegend": false,
         "type": "scatter",
         "x": [
          0,
          1,
          2,
          3,
          4,
          5,
          6,
          7,
          8,
          9,
          10,
          11,
          12,
          13,
          14,
          15,
          16,
          17,
          18,
          19,
          20,
          21,
          22,
          23,
          24,
          25,
          26,
          27,
          28,
          29,
          30
         ],
         "xaxis": "x8",
         "y": [
          -0.17124599510556343,
          -0.17124599510556343,
          -0.17124599510556343,
          -0.17124599510556343,
          -0.17124599510556343,
          -0.17124599510556343,
          -0.17124599510556343,
          -0.17124599510556343,
          -0.17124599510556343,
          -0.17124599510556343,
          -0.17124599510556343,
          -0.17124599510556343,
          -0.17124599510556343,
          -0.17124599510556343,
          -0.17124599510556343,
          -0.17124599510556343,
          -0.17124599510556343,
          -0.17124599510556343,
          -0.17124599510556343,
          -0.17124599510556343,
          -0.17124599510556343,
          -0.17124599510556343,
          -0.17124599510556343,
          -0.17124599510556343,
          -0.17124599510556343,
          -0.17124599510556343,
          -0.17124599510556343,
          -0.17124599510556343,
          -0.17124599510556343,
          -0.17124599510556343,
          -0.17124599510556343
         ],
         "yaxis": "y8"
        },
        {
         "line": {
          "color": "gray",
          "dash": "dash"
         },
         "mode": "lines",
         "showlegend": false,
         "type": "scatter",
         "x": [
          0,
          1,
          2,
          3,
          4,
          5,
          6,
          7,
          8,
          9,
          10,
          11,
          12,
          13,
          14,
          15,
          16,
          17,
          18,
          19,
          20,
          21,
          22,
          23,
          24,
          25,
          26,
          27,
          28,
          29,
          30
         ],
         "xaxis": "x9",
         "y": [
          0.17124599510556343,
          0.17124599510556343,
          0.17124599510556343,
          0.17124599510556343,
          0.17124599510556343,
          0.17124599510556343,
          0.17124599510556343,
          0.17124599510556343,
          0.17124599510556343,
          0.17124599510556343,
          0.17124599510556343,
          0.17124599510556343,
          0.17124599510556343,
          0.17124599510556343,
          0.17124599510556343,
          0.17124599510556343,
          0.17124599510556343,
          0.17124599510556343,
          0.17124599510556343,
          0.17124599510556343,
          0.17124599510556343,
          0.17124599510556343,
          0.17124599510556343,
          0.17124599510556343,
          0.17124599510556343,
          0.17124599510556343,
          0.17124599510556343,
          0.17124599510556343,
          0.17124599510556343,
          0.17124599510556343,
          0.17124599510556343
         ],
         "yaxis": "y9"
        },
        {
         "line": {
          "color": "gray",
          "dash": "dash"
         },
         "mode": "lines",
         "showlegend": false,
         "type": "scatter",
         "x": [
          0,
          1,
          2,
          3,
          4,
          5,
          6,
          7,
          8,
          9,
          10,
          11,
          12,
          13,
          14,
          15,
          16,
          17,
          18,
          19,
          20,
          21,
          22,
          23,
          24,
          25,
          26,
          27,
          28,
          29,
          30
         ],
         "xaxis": "x9",
         "y": [
          -0.17124599510556343,
          -0.17124599510556343,
          -0.17124599510556343,
          -0.17124599510556343,
          -0.17124599510556343,
          -0.17124599510556343,
          -0.17124599510556343,
          -0.17124599510556343,
          -0.17124599510556343,
          -0.17124599510556343,
          -0.17124599510556343,
          -0.17124599510556343,
          -0.17124599510556343,
          -0.17124599510556343,
          -0.17124599510556343,
          -0.17124599510556343,
          -0.17124599510556343,
          -0.17124599510556343,
          -0.17124599510556343,
          -0.17124599510556343,
          -0.17124599510556343,
          -0.17124599510556343,
          -0.17124599510556343,
          -0.17124599510556343,
          -0.17124599510556343,
          -0.17124599510556343,
          -0.17124599510556343,
          -0.17124599510556343,
          -0.17124599510556343,
          -0.17124599510556343,
          -0.17124599510556343
         ],
         "yaxis": "y9"
        },
        {
         "mode": "text",
         "showlegend": false,
         "text": [
          "<b>y</b>: ADF=0.8154, p=0.9919<br><b>lag_1</b>: ADF=-2.8293, p=0.0542<br><b>lag_12</b>: ADF=-15.5956, p=0.0000"
         ],
         "type": "scatter",
         "x": [
          0
         ],
         "xaxis": "x10",
         "y": [
          0
         ],
         "yaxis": "y10"
        }
       ],
       "layout": {
        "annotations": [
         {
          "font": {
           "size": 16
          },
          "showarrow": false,
          "text": "Series (y)",
          "x": 0.14444444444444446,
          "xanchor": "center",
          "xref": "paper",
          "y": 1,
          "yanchor": "bottom",
          "yref": "paper"
         },
         {
          "font": {
           "size": 16
          },
          "showarrow": false,
          "text": "ACF (y)",
          "x": 0.5,
          "xanchor": "center",
          "xref": "paper",
          "y": 1,
          "yanchor": "bottom",
          "yref": "paper"
         },
         {
          "font": {
           "size": 16
          },
          "showarrow": false,
          "text": "PACF (y)",
          "x": 0.8555555555555556,
          "xanchor": "center",
          "xref": "paper",
          "y": 1,
          "yanchor": "bottom",
          "yref": "paper"
         },
         {
          "font": {
           "size": 16
          },
          "showarrow": false,
          "text": "Series (lag_1)",
          "x": 0.14444444444444446,
          "xanchor": "center",
          "xref": "paper",
          "y": 0.71875,
          "yanchor": "bottom",
          "yref": "paper"
         },
         {
          "font": {
           "size": 16
          },
          "showarrow": false,
          "text": "ACF (lag_1)",
          "x": 0.5,
          "xanchor": "center",
          "xref": "paper",
          "y": 0.71875,
          "yanchor": "bottom",
          "yref": "paper"
         },
         {
          "font": {
           "size": 16
          },
          "showarrow": false,
          "text": "PACF (lag_1)",
          "x": 0.8555555555555556,
          "xanchor": "center",
          "xref": "paper",
          "y": 0.71875,
          "yanchor": "bottom",
          "yref": "paper"
         },
         {
          "font": {
           "size": 16
          },
          "showarrow": false,
          "text": "Series (lag_12)",
          "x": 0.14444444444444446,
          "xanchor": "center",
          "xref": "paper",
          "y": 0.4375,
          "yanchor": "bottom",
          "yref": "paper"
         },
         {
          "font": {
           "size": 16
          },
          "showarrow": false,
          "text": "ACF (lag_12)",
          "x": 0.5,
          "xanchor": "center",
          "xref": "paper",
          "y": 0.4375,
          "yanchor": "bottom",
          "yref": "paper"
         },
         {
          "font": {
           "size": 16
          },
          "showarrow": false,
          "text": "PACF (lag_12)",
          "x": 0.8555555555555556,
          "xanchor": "center",
          "xref": "paper",
          "y": 0.4375,
          "yanchor": "bottom",
          "yref": "paper"
         },
         {
          "font": {
           "size": 16
          },
          "showarrow": false,
          "text": "ADF Results Summary",
          "x": 0.14444444444444446,
          "xanchor": "center",
          "xref": "paper",
          "y": 0.15625,
          "yanchor": "bottom",
          "yref": "paper"
         }
        ],
        "height": 1200,
        "showlegend": false,
        "template": {
         "data": {
          "bar": [
           {
            "error_x": {
             "color": "#2a3f5f"
            },
            "error_y": {
             "color": "#2a3f5f"
            },
            "marker": {
             "line": {
              "color": "#E5ECF6",
              "width": 0.5
             },
             "pattern": {
              "fillmode": "overlay",
              "size": 10,
              "solidity": 0.2
             }
            },
            "type": "bar"
           }
          ],
          "barpolar": [
           {
            "marker": {
             "line": {
              "color": "#E5ECF6",
              "width": 0.5
             },
             "pattern": {
              "fillmode": "overlay",
              "size": 10,
              "solidity": 0.2
             }
            },
            "type": "barpolar"
           }
          ],
          "carpet": [
           {
            "aaxis": {
             "endlinecolor": "#2a3f5f",
             "gridcolor": "white",
             "linecolor": "white",
             "minorgridcolor": "white",
             "startlinecolor": "#2a3f5f"
            },
            "baxis": {
             "endlinecolor": "#2a3f5f",
             "gridcolor": "white",
             "linecolor": "white",
             "minorgridcolor": "white",
             "startlinecolor": "#2a3f5f"
            },
            "type": "carpet"
           }
          ],
          "choropleth": [
           {
            "colorbar": {
             "outlinewidth": 0,
             "ticks": ""
            },
            "type": "choropleth"
           }
          ],
          "contour": [
           {
            "colorbar": {
             "outlinewidth": 0,
             "ticks": ""
            },
            "colorscale": [
             [
              0,
              "#0d0887"
             ],
             [
              0.1111111111111111,
              "#46039f"
             ],
             [
              0.2222222222222222,
              "#7201a8"
             ],
             [
              0.3333333333333333,
              "#9c179e"
             ],
             [
              0.4444444444444444,
              "#bd3786"
             ],
             [
              0.5555555555555556,
              "#d8576b"
             ],
             [
              0.6666666666666666,
              "#ed7953"
             ],
             [
              0.7777777777777778,
              "#fb9f3a"
             ],
             [
              0.8888888888888888,
              "#fdca26"
             ],
             [
              1,
              "#f0f921"
             ]
            ],
            "type": "contour"
           }
          ],
          "contourcarpet": [
           {
            "colorbar": {
             "outlinewidth": 0,
             "ticks": ""
            },
            "type": "contourcarpet"
           }
          ],
          "heatmap": [
           {
            "colorbar": {
             "outlinewidth": 0,
             "ticks": ""
            },
            "colorscale": [
             [
              0,
              "#0d0887"
             ],
             [
              0.1111111111111111,
              "#46039f"
             ],
             [
              0.2222222222222222,
              "#7201a8"
             ],
             [
              0.3333333333333333,
              "#9c179e"
             ],
             [
              0.4444444444444444,
              "#bd3786"
             ],
             [
              0.5555555555555556,
              "#d8576b"
             ],
             [
              0.6666666666666666,
              "#ed7953"
             ],
             [
              0.7777777777777778,
              "#fb9f3a"
             ],
             [
              0.8888888888888888,
              "#fdca26"
             ],
             [
              1,
              "#f0f921"
             ]
            ],
            "type": "heatmap"
           }
          ],
          "histogram": [
           {
            "marker": {
             "pattern": {
              "fillmode": "overlay",
              "size": 10,
              "solidity": 0.2
             }
            },
            "type": "histogram"
           }
          ],
          "histogram2d": [
           {
            "colorbar": {
             "outlinewidth": 0,
             "ticks": ""
            },
            "colorscale": [
             [
              0,
              "#0d0887"
             ],
             [
              0.1111111111111111,
              "#46039f"
             ],
             [
              0.2222222222222222,
              "#7201a8"
             ],
             [
              0.3333333333333333,
              "#9c179e"
             ],
             [
              0.4444444444444444,
              "#bd3786"
             ],
             [
              0.5555555555555556,
              "#d8576b"
             ],
             [
              0.6666666666666666,
              "#ed7953"
             ],
             [
              0.7777777777777778,
              "#fb9f3a"
             ],
             [
              0.8888888888888888,
              "#fdca26"
             ],
             [
              1,
              "#f0f921"
             ]
            ],
            "type": "histogram2d"
           }
          ],
          "histogram2dcontour": [
           {
            "colorbar": {
             "outlinewidth": 0,
             "ticks": ""
            },
            "colorscale": [
             [
              0,
              "#0d0887"
             ],
             [
              0.1111111111111111,
              "#46039f"
             ],
             [
              0.2222222222222222,
              "#7201a8"
             ],
             [
              0.3333333333333333,
              "#9c179e"
             ],
             [
              0.4444444444444444,
              "#bd3786"
             ],
             [
              0.5555555555555556,
              "#d8576b"
             ],
             [
              0.6666666666666666,
              "#ed7953"
             ],
             [
              0.7777777777777778,
              "#fb9f3a"
             ],
             [
              0.8888888888888888,
              "#fdca26"
             ],
             [
              1,
              "#f0f921"
             ]
            ],
            "type": "histogram2dcontour"
           }
          ],
          "mesh3d": [
           {
            "colorbar": {
             "outlinewidth": 0,
             "ticks": ""
            },
            "type": "mesh3d"
           }
          ],
          "parcoords": [
           {
            "line": {
             "colorbar": {
              "outlinewidth": 0,
              "ticks": ""
             }
            },
            "type": "parcoords"
           }
          ],
          "pie": [
           {
            "automargin": true,
            "type": "pie"
           }
          ],
          "scatter": [
           {
            "fillpattern": {
             "fillmode": "overlay",
             "size": 10,
             "solidity": 0.2
            },
            "type": "scatter"
           }
          ],
          "scatter3d": [
           {
            "line": {
             "colorbar": {
              "outlinewidth": 0,
              "ticks": ""
             }
            },
            "marker": {
             "colorbar": {
              "outlinewidth": 0,
              "ticks": ""
             }
            },
            "type": "scatter3d"
           }
          ],
          "scattercarpet": [
           {
            "marker": {
             "colorbar": {
              "outlinewidth": 0,
              "ticks": ""
             }
            },
            "type": "scattercarpet"
           }
          ],
          "scattergeo": [
           {
            "marker": {
             "colorbar": {
              "outlinewidth": 0,
              "ticks": ""
             }
            },
            "type": "scattergeo"
           }
          ],
          "scattergl": [
           {
            "marker": {
             "colorbar": {
              "outlinewidth": 0,
              "ticks": ""
             }
            },
            "type": "scattergl"
           }
          ],
          "scattermap": [
           {
            "marker": {
             "colorbar": {
              "outlinewidth": 0,
              "ticks": ""
             }
            },
            "type": "scattermap"
           }
          ],
          "scattermapbox": [
           {
            "marker": {
             "colorbar": {
              "outlinewidth": 0,
              "ticks": ""
             }
            },
            "type": "scattermapbox"
           }
          ],
          "scatterpolar": [
           {
            "marker": {
             "colorbar": {
              "outlinewidth": 0,
              "ticks": ""
             }
            },
            "type": "scatterpolar"
           }
          ],
          "scatterpolargl": [
           {
            "marker": {
             "colorbar": {
              "outlinewidth": 0,
              "ticks": ""
             }
            },
            "type": "scatterpolargl"
           }
          ],
          "scatterternary": [
           {
            "marker": {
             "colorbar": {
              "outlinewidth": 0,
              "ticks": ""
             }
            },
            "type": "scatterternary"
           }
          ],
          "surface": [
           {
            "colorbar": {
             "outlinewidth": 0,
             "ticks": ""
            },
            "colorscale": [
             [
              0,
              "#0d0887"
             ],
             [
              0.1111111111111111,
              "#46039f"
             ],
             [
              0.2222222222222222,
              "#7201a8"
             ],
             [
              0.3333333333333333,
              "#9c179e"
             ],
             [
              0.4444444444444444,
              "#bd3786"
             ],
             [
              0.5555555555555556,
              "#d8576b"
             ],
             [
              0.6666666666666666,
              "#ed7953"
             ],
             [
              0.7777777777777778,
              "#fb9f3a"
             ],
             [
              0.8888888888888888,
              "#fdca26"
             ],
             [
              1,
              "#f0f921"
             ]
            ],
            "type": "surface"
           }
          ],
          "table": [
           {
            "cells": {
             "fill": {
              "color": "#EBF0F8"
             },
             "line": {
              "color": "white"
             }
            },
            "header": {
             "fill": {
              "color": "#C8D4E3"
             },
             "line": {
              "color": "white"
             }
            },
            "type": "table"
           }
          ]
         },
         "layout": {
          "annotationdefaults": {
           "arrowcolor": "#2a3f5f",
           "arrowhead": 0,
           "arrowwidth": 1
          },
          "autotypenumbers": "strict",
          "coloraxis": {
           "colorbar": {
            "outlinewidth": 0,
            "ticks": ""
           }
          },
          "colorscale": {
           "diverging": [
            [
             0,
             "#8e0152"
            ],
            [
             0.1,
             "#c51b7d"
            ],
            [
             0.2,
             "#de77ae"
            ],
            [
             0.3,
             "#f1b6da"
            ],
            [
             0.4,
             "#fde0ef"
            ],
            [
             0.5,
             "#f7f7f7"
            ],
            [
             0.6,
             "#e6f5d0"
            ],
            [
             0.7,
             "#b8e186"
            ],
            [
             0.8,
             "#7fbc41"
            ],
            [
             0.9,
             "#4d9221"
            ],
            [
             1,
             "#276419"
            ]
           ],
           "sequential": [
            [
             0,
             "#0d0887"
            ],
            [
             0.1111111111111111,
             "#46039f"
            ],
            [
             0.2222222222222222,
             "#7201a8"
            ],
            [
             0.3333333333333333,
             "#9c179e"
            ],
            [
             0.4444444444444444,
             "#bd3786"
            ],
            [
             0.5555555555555556,
             "#d8576b"
            ],
            [
             0.6666666666666666,
             "#ed7953"
            ],
            [
             0.7777777777777778,
             "#fb9f3a"
            ],
            [
             0.8888888888888888,
             "#fdca26"
            ],
            [
             1,
             "#f0f921"
            ]
           ],
           "sequentialminus": [
            [
             0,
             "#0d0887"
            ],
            [
             0.1111111111111111,
             "#46039f"
            ],
            [
             0.2222222222222222,
             "#7201a8"
            ],
            [
             0.3333333333333333,
             "#9c179e"
            ],
            [
             0.4444444444444444,
             "#bd3786"
            ],
            [
             0.5555555555555556,
             "#d8576b"
            ],
            [
             0.6666666666666666,
             "#ed7953"
            ],
            [
             0.7777777777777778,
             "#fb9f3a"
            ],
            [
             0.8888888888888888,
             "#fdca26"
            ],
            [
             1,
             "#f0f921"
            ]
           ]
          },
          "colorway": [
           "#636efa",
           "#EF553B",
           "#00cc96",
           "#ab63fa",
           "#FFA15A",
           "#19d3f3",
           "#FF6692",
           "#B6E880",
           "#FF97FF",
           "#FECB52"
          ],
          "font": {
           "color": "#2a3f5f"
          },
          "geo": {
           "bgcolor": "white",
           "lakecolor": "white",
           "landcolor": "#E5ECF6",
           "showlakes": true,
           "showland": true,
           "subunitcolor": "white"
          },
          "hoverlabel": {
           "align": "left"
          },
          "hovermode": "closest",
          "mapbox": {
           "style": "light"
          },
          "paper_bgcolor": "white",
          "plot_bgcolor": "#E5ECF6",
          "polar": {
           "angularaxis": {
            "gridcolor": "white",
            "linecolor": "white",
            "ticks": ""
           },
           "bgcolor": "#E5ECF6",
           "radialaxis": {
            "gridcolor": "white",
            "linecolor": "white",
            "ticks": ""
           }
          },
          "scene": {
           "xaxis": {
            "backgroundcolor": "#E5ECF6",
            "gridcolor": "white",
            "gridwidth": 2,
            "linecolor": "white",
            "showbackground": true,
            "ticks": "",
            "zerolinecolor": "white"
           },
           "yaxis": {
            "backgroundcolor": "#E5ECF6",
            "gridcolor": "white",
            "gridwidth": 2,
            "linecolor": "white",
            "showbackground": true,
            "ticks": "",
            "zerolinecolor": "white"
           },
           "zaxis": {
            "backgroundcolor": "#E5ECF6",
            "gridcolor": "white",
            "gridwidth": 2,
            "linecolor": "white",
            "showbackground": true,
            "ticks": "",
            "zerolinecolor": "white"
           }
          },
          "shapedefaults": {
           "line": {
            "color": "#2a3f5f"
           }
          },
          "ternary": {
           "aaxis": {
            "gridcolor": "white",
            "linecolor": "white",
            "ticks": ""
           },
           "baxis": {
            "gridcolor": "white",
            "linecolor": "white",
            "ticks": ""
           },
           "bgcolor": "#E5ECF6",
           "caxis": {
            "gridcolor": "white",
            "linecolor": "white",
            "ticks": ""
           }
          },
          "title": {
           "x": 0.05
          },
          "xaxis": {
           "automargin": true,
           "gridcolor": "white",
           "linecolor": "white",
           "ticks": "",
           "title": {
            "standoff": 15
           },
           "zerolinecolor": "white",
           "zerolinewidth": 2
          },
          "yaxis": {
           "automargin": true,
           "gridcolor": "white",
           "linecolor": "white",
           "ticks": "",
           "title": {
            "standoff": 15
           },
           "zerolinecolor": "white",
           "zerolinewidth": 2
          }
         }
        },
        "title": {
         "text": "ACF/PACF Across Differencing Stages with ADF Summary"
        },
        "width": 1300,
        "xaxis": {
         "anchor": "y",
         "domain": [
          0,
          0.2888888888888889
         ],
         "title": {
          "text": "Date"
         }
        },
        "xaxis10": {
         "anchor": "y10",
         "domain": [
          0,
          0.2888888888888889
         ],
         "visible": false
        },
        "xaxis11": {
         "anchor": "y11",
         "domain": [
          0.35555555555555557,
          0.6444444444444445
         ]
        },
        "xaxis12": {
         "anchor": "y12",
         "domain": [
          0.7111111111111111,
          1
         ]
        },
        "xaxis2": {
         "anchor": "y2",
         "domain": [
          0.35555555555555557,
          0.6444444444444445
         ],
         "title": {
          "text": "Lag"
         }
        },
        "xaxis3": {
         "anchor": "y3",
         "domain": [
          0.7111111111111111,
          1
         ],
         "title": {
          "text": "Lag"
         }
        },
        "xaxis4": {
         "anchor": "y4",
         "domain": [
          0,
          0.2888888888888889
         ],
         "title": {
          "text": "Date"
         }
        },
        "xaxis5": {
         "anchor": "y5",
         "domain": [
          0.35555555555555557,
          0.6444444444444445
         ],
         "title": {
          "text": "Lag"
         }
        },
        "xaxis6": {
         "anchor": "y6",
         "domain": [
          0.7111111111111111,
          1
         ],
         "title": {
          "text": "Lag"
         }
        },
        "xaxis7": {
         "anchor": "y7",
         "domain": [
          0,
          0.2888888888888889
         ]
        },
        "xaxis8": {
         "anchor": "y8",
         "domain": [
          0.35555555555555557,
          0.6444444444444445
         ]
        },
        "xaxis9": {
         "anchor": "y9",
         "domain": [
          0.7111111111111111,
          1
         ]
        },
        "yaxis": {
         "anchor": "x",
         "domain": [
          0.84375,
          1
         ],
         "title": {
          "text": "Value"
         }
        },
        "yaxis10": {
         "anchor": "x10",
         "domain": [
          0,
          0.15625
         ],
         "visible": false
        },
        "yaxis11": {
         "anchor": "x11",
         "domain": [
          0,
          0.15625
         ]
        },
        "yaxis12": {
         "anchor": "x12",
         "domain": [
          0,
          0.15625
         ]
        },
        "yaxis2": {
         "anchor": "x2",
         "domain": [
          0.84375,
          1
         ],
         "title": {
          "text": "ACF"
         }
        },
        "yaxis3": {
         "anchor": "x3",
         "domain": [
          0.84375,
          1
         ],
         "title": {
          "text": "PACF"
         }
        },
        "yaxis4": {
         "anchor": "x4",
         "domain": [
          0.5625,
          0.71875
         ],
         "title": {
          "text": "Value"
         }
        },
        "yaxis5": {
         "anchor": "x5",
         "domain": [
          0.5625,
          0.71875
         ],
         "title": {
          "text": "ACF"
         }
        },
        "yaxis6": {
         "anchor": "x6",
         "domain": [
          0.5625,
          0.71875
         ],
         "title": {
          "text": "PACF"
         }
        },
        "yaxis7": {
         "anchor": "x7",
         "domain": [
          0.28125,
          0.4375
         ]
        },
        "yaxis8": {
         "anchor": "x8",
         "domain": [
          0.28125,
          0.4375
         ]
        },
        "yaxis9": {
         "anchor": "x9",
         "domain": [
          0.28125,
          0.4375
         ]
        }
       }
      }
     },
     "metadata": {},
     "output_type": "display_data"
    }
   ],
   "source": [
    "plot_acf_pacf_adf(df, [\"y\", \"lag_1\", \"lag_12\"])"
   ]
  },
  {
   "cell_type": "markdown",
   "id": "f64a7918",
   "metadata": {},
   "source": [
    "## Features\n",
    "- STL\n",
    "- ~~Holidays~~\n",
    "- ~~Série de fourier para padrões cíclicos (seno e cosseno) - dia da semana, dia do ano~~\n",
    "- ~~mês~~\n",
    "- ~~fim do mês~~\n",
    "- ~~Lags~~\n",
    "- Rolling Windows: médias, desvio padrão e permutação da entropia"
   ]
  },
  {
   "cell_type": "code",
   "execution_count": 290,
   "id": "2c103989",
   "metadata": {},
   "outputs": [],
   "source": [
    "def add_in_date_information(df, time_col):\n",
    "    \"\"\"\n",
    "    Adds date-based features to the dataframe\n",
    "    \"\"\"\n",
    "    df = df.copy()\n",
    "    holidays_br = holidays.country_holidays(\"Brazil\")\n",
    "    df['month'] = df[time_col].dt.month\n",
    "    df[\"is_holiday\"] = np.array([timestamp in holidays_br for timestamp in df[\"ds\"]])\n",
    "    df[\"is_month_end\"] = df[time_col].dt.is_month_end\n",
    "\n",
    "    #Cyclical encoding for day of week (weekly sensasonality) and day of year (yearly seasonality)\n",
    "    df[\"dow_sin\"] = np.sin(2 * np.pi * df[time_col].dt.dayofweek / 7)\n",
    "    df[\"dow_cos\"] = np.cos(2 * np.pi * df[time_col].dt.dayofweek / 7)\n",
    "\n",
    "    df[\"yr_sin\"] = np.sin(2 * np.pi * df[time_col].dt.dayofyear / 12)\n",
    "    df[\"yr_cos\"] = np.cos(2 * np.pi * df[time_col].dt.dayofyear / 12)\n",
    "    return df"
   ]
  },
  {
   "cell_type": "code",
   "execution_count": 293,
   "id": "dd34d438",
   "metadata": {},
   "outputs": [],
   "source": [
    "df = df.pipe(add_in_date_information, \"ds\")\n",
    "df = df.dropna()"
   ]
  },
  {
   "cell_type": "code",
   "execution_count": 295,
   "id": "8b3eb0c7",
   "metadata": {},
   "outputs": [
    {
     "data": {
      "text/html": [
       "<div>\n",
       "<style scoped>\n",
       "    .dataframe tbody tr th:only-of-type {\n",
       "        vertical-align: middle;\n",
       "    }\n",
       "\n",
       "    .dataframe tbody tr th {\n",
       "        vertical-align: top;\n",
       "    }\n",
       "\n",
       "    .dataframe thead th {\n",
       "        text-align: right;\n",
       "    }\n",
       "</style>\n",
       "<table border=\"1\" class=\"dataframe\">\n",
       "  <thead>\n",
       "    <tr style=\"text-align: right;\">\n",
       "      <th></th>\n",
       "      <th>unique_id</th>\n",
       "      <th>ds</th>\n",
       "      <th>y</th>\n",
       "      <th>lag_1</th>\n",
       "      <th>lag_12</th>\n",
       "      <th>month</th>\n",
       "      <th>is_holiday</th>\n",
       "      <th>is_month_end</th>\n",
       "      <th>dow_sin</th>\n",
       "      <th>dow_cos</th>\n",
       "      <th>yr_sin</th>\n",
       "      <th>yr_cos</th>\n",
       "    </tr>\n",
       "  </thead>\n",
       "  <tbody>\n",
       "    <tr>\n",
       "      <th>13</th>\n",
       "      <td>1</td>\n",
       "      <td>1950-02-01</td>\n",
       "      <td>126</td>\n",
       "      <td>11.0</td>\n",
       "      <td>5.0</td>\n",
       "      <td>2</td>\n",
       "      <td>False</td>\n",
       "      <td>False</td>\n",
       "      <td>0.974928</td>\n",
       "      <td>-0.222521</td>\n",
       "      <td>-8.660254e-01</td>\n",
       "      <td>-0.500000</td>\n",
       "    </tr>\n",
       "    <tr>\n",
       "      <th>14</th>\n",
       "      <td>1</td>\n",
       "      <td>1950-03-01</td>\n",
       "      <td>141</td>\n",
       "      <td>15.0</td>\n",
       "      <td>1.0</td>\n",
       "      <td>3</td>\n",
       "      <td>False</td>\n",
       "      <td>False</td>\n",
       "      <td>0.974928</td>\n",
       "      <td>-0.222521</td>\n",
       "      <td>-4.777360e-15</td>\n",
       "      <td>1.000000</td>\n",
       "    </tr>\n",
       "    <tr>\n",
       "      <th>15</th>\n",
       "      <td>1</td>\n",
       "      <td>1950-04-01</td>\n",
       "      <td>135</td>\n",
       "      <td>-6.0</td>\n",
       "      <td>-3.0</td>\n",
       "      <td>4</td>\n",
       "      <td>False</td>\n",
       "      <td>False</td>\n",
       "      <td>-0.974928</td>\n",
       "      <td>-0.222521</td>\n",
       "      <td>-5.000000e-01</td>\n",
       "      <td>-0.866025</td>\n",
       "    </tr>\n",
       "    <tr>\n",
       "      <th>16</th>\n",
       "      <td>1</td>\n",
       "      <td>1950-05-01</td>\n",
       "      <td>125</td>\n",
       "      <td>-10.0</td>\n",
       "      <td>-2.0</td>\n",
       "      <td>5</td>\n",
       "      <td>True</td>\n",
       "      <td>False</td>\n",
       "      <td>0.000000</td>\n",
       "      <td>1.000000</td>\n",
       "      <td>5.000000e-01</td>\n",
       "      <td>0.866025</td>\n",
       "    </tr>\n",
       "    <tr>\n",
       "      <th>17</th>\n",
       "      <td>1</td>\n",
       "      <td>1950-06-01</td>\n",
       "      <td>149</td>\n",
       "      <td>24.0</td>\n",
       "      <td>10.0</td>\n",
       "      <td>6</td>\n",
       "      <td>False</td>\n",
       "      <td>False</td>\n",
       "      <td>0.433884</td>\n",
       "      <td>-0.900969</td>\n",
       "      <td>-8.660254e-01</td>\n",
       "      <td>-0.500000</td>\n",
       "    </tr>\n",
       "    <tr>\n",
       "      <th>...</th>\n",
       "      <td>...</td>\n",
       "      <td>...</td>\n",
       "      <td>...</td>\n",
       "      <td>...</td>\n",
       "      <td>...</td>\n",
       "      <td>...</td>\n",
       "      <td>...</td>\n",
       "      <td>...</td>\n",
       "      <td>...</td>\n",
       "      <td>...</td>\n",
       "      <td>...</td>\n",
       "      <td>...</td>\n",
       "    </tr>\n",
       "    <tr>\n",
       "      <th>139</th>\n",
       "      <td>1</td>\n",
       "      <td>1960-08-01</td>\n",
       "      <td>606</td>\n",
       "      <td>-16.0</td>\n",
       "      <td>-27.0</td>\n",
       "      <td>8</td>\n",
       "      <td>False</td>\n",
       "      <td>False</td>\n",
       "      <td>0.000000</td>\n",
       "      <td>1.000000</td>\n",
       "      <td>-8.660254e-01</td>\n",
       "      <td>0.500000</td>\n",
       "    </tr>\n",
       "    <tr>\n",
       "      <th>140</th>\n",
       "      <td>1</td>\n",
       "      <td>1960-09-01</td>\n",
       "      <td>508</td>\n",
       "      <td>-98.0</td>\n",
       "      <td>-2.0</td>\n",
       "      <td>9</td>\n",
       "      <td>False</td>\n",
       "      <td>False</td>\n",
       "      <td>0.433884</td>\n",
       "      <td>-0.900969</td>\n",
       "      <td>5.000000e-01</td>\n",
       "      <td>-0.866025</td>\n",
       "    </tr>\n",
       "    <tr>\n",
       "      <th>141</th>\n",
       "      <td>1</td>\n",
       "      <td>1960-10-01</td>\n",
       "      <td>461</td>\n",
       "      <td>-47.0</td>\n",
       "      <td>9.0</td>\n",
       "      <td>10</td>\n",
       "      <td>False</td>\n",
       "      <td>False</td>\n",
       "      <td>-0.974928</td>\n",
       "      <td>-0.222521</td>\n",
       "      <td>-5.000000e-01</td>\n",
       "      <td>0.866025</td>\n",
       "    </tr>\n",
       "    <tr>\n",
       "      <th>142</th>\n",
       "      <td>1</td>\n",
       "      <td>1960-11-01</td>\n",
       "      <td>390</td>\n",
       "      <td>-71.0</td>\n",
       "      <td>-26.0</td>\n",
       "      <td>11</td>\n",
       "      <td>False</td>\n",
       "      <td>False</td>\n",
       "      <td>0.781831</td>\n",
       "      <td>0.623490</td>\n",
       "      <td>9.798412e-15</td>\n",
       "      <td>-1.000000</td>\n",
       "    </tr>\n",
       "    <tr>\n",
       "      <th>143</th>\n",
       "      <td>1</td>\n",
       "      <td>1960-12-01</td>\n",
       "      <td>432</td>\n",
       "      <td>42.0</td>\n",
       "      <td>-1.0</td>\n",
       "      <td>12</td>\n",
       "      <td>False</td>\n",
       "      <td>False</td>\n",
       "      <td>0.433884</td>\n",
       "      <td>-0.900969</td>\n",
       "      <td>-6.858022e-15</td>\n",
       "      <td>1.000000</td>\n",
       "    </tr>\n",
       "  </tbody>\n",
       "</table>\n",
       "<p>131 rows × 12 columns</p>\n",
       "</div>"
      ],
      "text/plain": [
       "    unique_id         ds    y  lag_1  lag_12  month  is_holiday  is_month_end  \\\n",
       "13          1 1950-02-01  126   11.0     5.0      2       False         False   \n",
       "14          1 1950-03-01  141   15.0     1.0      3       False         False   \n",
       "15          1 1950-04-01  135   -6.0    -3.0      4       False         False   \n",
       "16          1 1950-05-01  125  -10.0    -2.0      5        True         False   \n",
       "17          1 1950-06-01  149   24.0    10.0      6       False         False   \n",
       "..        ...        ...  ...    ...     ...    ...         ...           ...   \n",
       "139         1 1960-08-01  606  -16.0   -27.0      8       False         False   \n",
       "140         1 1960-09-01  508  -98.0    -2.0      9       False         False   \n",
       "141         1 1960-10-01  461  -47.0     9.0     10       False         False   \n",
       "142         1 1960-11-01  390  -71.0   -26.0     11       False         False   \n",
       "143         1 1960-12-01  432   42.0    -1.0     12       False         False   \n",
       "\n",
       "      dow_sin   dow_cos        yr_sin    yr_cos  \n",
       "13   0.974928 -0.222521 -8.660254e-01 -0.500000  \n",
       "14   0.974928 -0.222521 -4.777360e-15  1.000000  \n",
       "15  -0.974928 -0.222521 -5.000000e-01 -0.866025  \n",
       "16   0.000000  1.000000  5.000000e-01  0.866025  \n",
       "17   0.433884 -0.900969 -8.660254e-01 -0.500000  \n",
       "..        ...       ...           ...       ...  \n",
       "139  0.000000  1.000000 -8.660254e-01  0.500000  \n",
       "140  0.433884 -0.900969  5.000000e-01 -0.866025  \n",
       "141 -0.974928 -0.222521 -5.000000e-01  0.866025  \n",
       "142  0.781831  0.623490  9.798412e-15 -1.000000  \n",
       "143  0.433884 -0.900969 -6.858022e-15  1.000000  \n",
       "\n",
       "[131 rows x 12 columns]"
      ]
     },
     "execution_count": 295,
     "metadata": {},
     "output_type": "execute_result"
    }
   ],
   "source": [
    "df"
   ]
  },
  {
   "cell_type": "code",
   "execution_count": 294,
   "id": "d1d670a9",
   "metadata": {},
   "outputs": [
    {
     "name": "stderr",
     "output_type": "stream",
     "text": [
      "/home/heylucasleao/forecasting/.venv/lib/python3.10/site-packages/numpy/lib/_function_base_impl.py:3045: RuntimeWarning:\n",
      "\n",
      "invalid value encountered in divide\n",
      "\n",
      "/home/heylucasleao/forecasting/.venv/lib/python3.10/site-packages/numpy/lib/_function_base_impl.py:3046: RuntimeWarning:\n",
      "\n",
      "invalid value encountered in divide\n",
      "\n"
     ]
    },
    {
     "data": {
      "image/png": "[encoded data removed]"
     },
     "metadata": {},
     "output_type": "display_data"
    }
   ],
   "source": [
    "corr_heatmap(df[df.columns[2:]], fig_type=\"png\")"
   ]
  },
  {
   "cell_type": "markdown",
   "id": "078a278f",
   "metadata": {},
   "source": [
    "# Modelagem (Decomposição + Modelagem Residual)"
   ]
  },
  {
   "cell_type": "markdown",
   "id": "1686572a",
   "metadata": {},
   "source": [
    "1. modelo estatístico + ML residual\n",
    "2. ver como fazer Tendência aditivia, sazonalidade multiplicativa\n",
    "3. ver como fazer tendência aditiva, sazonalidade aditiva"
   ]
  },
  {
   "cell_type": "code",
   "execution_count": null,
   "id": "954f0b3e",
   "metadata": {},
   "outputs": [],
   "source": []
  }
 ],
 "metadata": {
  "kernelspec": {
   "display_name": "forecasting",
   "language": "python",
   "name": "python3"
  },
  "language_info": {
   "codemirror_mode": {
    "name": "ipython",
    "version": 3
   },
   "file_extension": ".py",
   "mimetype": "text/x-python",
   "name": "python",
   "nbconvert_exporter": "python",
   "pygments_lexer": "ipython3",
   "version": "3.10.18"
  }
 },
 "nbformat": 4,
 "nbformat_minor": 5
}
